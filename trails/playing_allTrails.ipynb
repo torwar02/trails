{
 "cells": [
  {
   "cell_type": "code",
   "execution_count": 59,
   "id": "3ea58c06",
   "metadata": {},
   "outputs": [],
   "source": [
    "import pandas as pd\n",
    "import numpy as np\n",
    "import plotly.express as px\n",
    "import re"
   ]
  },
  {
   "cell_type": "code",
   "execution_count": 2,
   "id": "51080d23",
   "metadata": {},
   "outputs": [],
   "source": [
    "df = pd.read_csv(\"alltrails-data.csv\")\n"
   ]
  },
  {
   "cell_type": "code",
   "execution_count": 15,
   "id": "6bcb7e30",
   "metadata": {},
   "outputs": [
    {
     "data": {
      "text/plain": [
       "0                 {'lat': 60.18852, 'lng': -149.63156}\n",
       "1                 {'lat': 63.73049, 'lng': -148.91968}\n",
       "2                   {'lat': 60.18879, 'lng': -149.631}\n",
       "3                   {'lat': 63.73661, 'lng': -148.915}\n",
       "4                 {'lat': 63.73319, 'lng': -148.89682}\n",
       "                             ...                      \n",
       "3308              {'lat': 20.75275, 'lng': -156.22884}\n",
       "3309    {'lat': 20.714480000000002, 'lng': -156.25072}\n",
       "3310              {'lat': 20.71007, 'lng': -156.25357}\n",
       "3311                {'lat': 20.64981, 'lng': -156.137}\n",
       "3312              {'lat': 20.71449, 'lng': -156.25085}\n",
       "Name: _geoloc, Length: 3313, dtype: object"
      ]
     },
     "execution_count": 15,
     "metadata": {},
     "output_type": "execute_result"
    }
   ],
   "source": [
    "df['_geoloc']"
   ]
  },
  {
   "cell_type": "code",
   "execution_count": 142,
   "id": "e2c906a0",
   "metadata": {},
   "outputs": [
    {
     "data": {
      "text/plain": [
       "0                 {'lat': 60.18852, 'lng': -149.63156}\n",
       "1                 {'lat': 63.73049, 'lng': -148.91968}\n",
       "2                   {'lat': 60.18879, 'lng': -149.631}\n",
       "3                   {'lat': 63.73661, 'lng': -148.915}\n",
       "4                 {'lat': 63.73319, 'lng': -148.89682}\n",
       "                             ...                      \n",
       "3308              {'lat': 20.75275, 'lng': -156.22884}\n",
       "3309    {'lat': 20.714480000000002, 'lng': -156.25072}\n",
       "3310              {'lat': 20.71007, 'lng': -156.25357}\n",
       "3311                {'lat': 20.64981, 'lng': -156.137}\n",
       "3312              {'lat': 20.71449, 'lng': -156.25085}\n",
       "Name: _geoloc, Length: 3313, dtype: object"
      ]
     },
     "execution_count": 142,
     "metadata": {},
     "output_type": "execute_result"
    }
   ],
   "source": [
    "test = df['_geoloc']\n",
    "test"
   ]
  },
  {
   "cell_type": "code",
   "execution_count": 143,
   "id": "01b9c1fe",
   "metadata": {},
   "outputs": [
    {
     "data": {
      "text/html": [
       "<div>\n",
       "<style scoped>\n",
       "    .dataframe tbody tr th:only-of-type {\n",
       "        vertical-align: middle;\n",
       "    }\n",
       "\n",
       "    .dataframe tbody tr th {\n",
       "        vertical-align: top;\n",
       "    }\n",
       "\n",
       "    .dataframe thead th {\n",
       "        text-align: right;\n",
       "    }\n",
       "</style>\n",
       "<table border=\"1\" class=\"dataframe\">\n",
       "  <thead>\n",
       "    <tr style=\"text-align: right;\">\n",
       "      <th></th>\n",
       "      <th></th>\n",
       "      <th>0</th>\n",
       "    </tr>\n",
       "    <tr>\n",
       "      <th></th>\n",
       "      <th>match</th>\n",
       "      <th></th>\n",
       "    </tr>\n",
       "  </thead>\n",
       "  <tbody>\n",
       "    <tr>\n",
       "      <th rowspan=\"2\" valign=\"top\">0</th>\n",
       "      <th>0</th>\n",
       "      <td>60.18852</td>\n",
       "    </tr>\n",
       "    <tr>\n",
       "      <th>1</th>\n",
       "      <td>-149.63156</td>\n",
       "    </tr>\n",
       "    <tr>\n",
       "      <th rowspan=\"2\" valign=\"top\">1</th>\n",
       "      <th>0</th>\n",
       "      <td>63.73049</td>\n",
       "    </tr>\n",
       "    <tr>\n",
       "      <th>1</th>\n",
       "      <td>-148.91968</td>\n",
       "    </tr>\n",
       "    <tr>\n",
       "      <th>2</th>\n",
       "      <th>0</th>\n",
       "      <td>60.18879</td>\n",
       "    </tr>\n",
       "    <tr>\n",
       "      <th>...</th>\n",
       "      <th>...</th>\n",
       "      <td>...</td>\n",
       "    </tr>\n",
       "    <tr>\n",
       "      <th>3310</th>\n",
       "      <th>1</th>\n",
       "      <td>-156.25357</td>\n",
       "    </tr>\n",
       "    <tr>\n",
       "      <th rowspan=\"2\" valign=\"top\">3311</th>\n",
       "      <th>0</th>\n",
       "      <td>20.64981</td>\n",
       "    </tr>\n",
       "    <tr>\n",
       "      <th>1</th>\n",
       "      <td>-156.137</td>\n",
       "    </tr>\n",
       "    <tr>\n",
       "      <th rowspan=\"2\" valign=\"top\">3312</th>\n",
       "      <th>0</th>\n",
       "      <td>20.71449</td>\n",
       "    </tr>\n",
       "    <tr>\n",
       "      <th>1</th>\n",
       "      <td>-156.25085</td>\n",
       "    </tr>\n",
       "  </tbody>\n",
       "</table>\n",
       "<p>6626 rows × 1 columns</p>\n",
       "</div>"
      ],
      "text/plain": [
       "                     0\n",
       "     match            \n",
       "0    0        60.18852\n",
       "     1      -149.63156\n",
       "1    0        63.73049\n",
       "     1      -148.91968\n",
       "2    0        60.18879\n",
       "...                ...\n",
       "3310 1      -156.25357\n",
       "3311 0        20.64981\n",
       "     1        -156.137\n",
       "3312 0        20.71449\n",
       "     1      -156.25085\n",
       "\n",
       "[6626 rows x 1 columns]"
      ]
     },
     "execution_count": 143,
     "metadata": {},
     "output_type": "execute_result"
    }
   ],
   "source": [
    "longitude = test.str.extractall(pat = '([-]?\\d*\\.\\d*)')\n",
    "longitude"
   ]
  },
  {
   "cell_type": "code",
   "execution_count": 144,
   "id": "08fce3d0",
   "metadata": {},
   "outputs": [],
   "source": [
    "longitude = longitude.unstack()"
   ]
  },
  {
   "cell_type": "code",
   "execution_count": 167,
   "id": "42f61e8d",
   "metadata": {},
   "outputs": [
    {
     "data": {
      "text/plain": [
       "0       60.18852\n",
       "1       63.73049\n",
       "2       60.18879\n",
       "3       63.73661\n",
       "4       63.73319\n",
       "          ...   \n",
       "3308    20.75275\n",
       "3309    20.71448\n",
       "3310    20.71007\n",
       "3311    20.64981\n",
       "3312    20.71449\n",
       "Name: lat, Length: 3313, dtype: float64"
      ]
     },
     "execution_count": 167,
     "metadata": {},
     "output_type": "execute_result"
    }
   ],
   "source": [
    "df['lat'] = longitude[0][0].astype(float)"
   ]
  },
  {
   "cell_type": "code",
   "execution_count": 169,
   "id": "5beda2b5",
   "metadata": {},
   "outputs": [],
   "source": [
    "df['long'] = longitude[0][1].astype(float)"
   ]
  },
  {
   "cell_type": "code",
   "execution_count": 177,
   "id": "cacdaf15",
   "metadata": {},
   "outputs": [],
   "source": [
    "df['trail_city'] = df['name'] + ', ' + df['city_name']"
   ]
  },
  {
   "cell_type": "code",
   "execution_count": 204,
   "id": "d8b6425c",
   "metadata": {},
   "outputs": [
    {
     "data": {
      "text/html": [
       "<div>\n",
       "<style scoped>\n",
       "    .dataframe tbody tr th:only-of-type {\n",
       "        vertical-align: middle;\n",
       "    }\n",
       "\n",
       "    .dataframe tbody tr th {\n",
       "        vertical-align: top;\n",
       "    }\n",
       "\n",
       "    .dataframe thead tr th {\n",
       "        text-align: left;\n",
       "    }\n",
       "</style>\n",
       "<table border=\"1\" class=\"dataframe\">\n",
       "  <thead>\n",
       "    <tr>\n",
       "      <th></th>\n",
       "      <th colspan=\"12\" halign=\"left\">0</th>\n",
       "    </tr>\n",
       "    <tr>\n",
       "      <th>match</th>\n",
       "      <th>0</th>\n",
       "      <th>1</th>\n",
       "      <th>2</th>\n",
       "      <th>3</th>\n",
       "      <th>4</th>\n",
       "      <th>5</th>\n",
       "      <th>6</th>\n",
       "      <th>7</th>\n",
       "      <th>8</th>\n",
       "      <th>9</th>\n",
       "      <th>10</th>\n",
       "      <th>11</th>\n",
       "    </tr>\n",
       "  </thead>\n",
       "  <tbody>\n",
       "    <tr>\n",
       "      <th>0</th>\n",
       "      <td>dogs-no</td>\n",
       "      <td>forest</td>\n",
       "      <td>river</td>\n",
       "      <td>views</td>\n",
       "      <td>waterfall</td>\n",
       "      <td>wild-flowers</td>\n",
       "      <td>wildlife</td>\n",
       "      <td>NaN</td>\n",
       "      <td>NaN</td>\n",
       "      <td>NaN</td>\n",
       "      <td>NaN</td>\n",
       "      <td>NaN</td>\n",
       "    </tr>\n",
       "    <tr>\n",
       "      <th>1</th>\n",
       "      <td>dogs-no</td>\n",
       "      <td>forest</td>\n",
       "      <td>views</td>\n",
       "      <td>wild-flowers</td>\n",
       "      <td>wildlife</td>\n",
       "      <td>NaN</td>\n",
       "      <td>NaN</td>\n",
       "      <td>NaN</td>\n",
       "      <td>NaN</td>\n",
       "      <td>NaN</td>\n",
       "      <td>NaN</td>\n",
       "      <td>NaN</td>\n",
       "    </tr>\n",
       "    <tr>\n",
       "      <th>2</th>\n",
       "      <td>dogs-no</td>\n",
       "      <td>partially-paved</td>\n",
       "      <td>views</td>\n",
       "      <td>wildlife</td>\n",
       "      <td>NaN</td>\n",
       "      <td>NaN</td>\n",
       "      <td>NaN</td>\n",
       "      <td>NaN</td>\n",
       "      <td>NaN</td>\n",
       "      <td>NaN</td>\n",
       "      <td>NaN</td>\n",
       "      <td>NaN</td>\n",
       "    </tr>\n",
       "    <tr>\n",
       "      <th>3</th>\n",
       "      <td>dogs-no</td>\n",
       "      <td>forest</td>\n",
       "      <td>lake</td>\n",
       "      <td>kids</td>\n",
       "      <td>views</td>\n",
       "      <td>wild-flowers</td>\n",
       "      <td>wildlife</td>\n",
       "      <td>NaN</td>\n",
       "      <td>NaN</td>\n",
       "      <td>NaN</td>\n",
       "      <td>NaN</td>\n",
       "      <td>NaN</td>\n",
       "    </tr>\n",
       "    <tr>\n",
       "      <th>4</th>\n",
       "      <td>dogs-no</td>\n",
       "      <td>lake</td>\n",
       "      <td>views</td>\n",
       "      <td>wild-flowers</td>\n",
       "      <td>wildlife</td>\n",
       "      <td>NaN</td>\n",
       "      <td>NaN</td>\n",
       "      <td>NaN</td>\n",
       "      <td>NaN</td>\n",
       "      <td>NaN</td>\n",
       "      <td>NaN</td>\n",
       "      <td>NaN</td>\n",
       "    </tr>\n",
       "    <tr>\n",
       "      <th>...</th>\n",
       "      <td>...</td>\n",
       "      <td>...</td>\n",
       "      <td>...</td>\n",
       "      <td>...</td>\n",
       "      <td>...</td>\n",
       "      <td>...</td>\n",
       "      <td>...</td>\n",
       "      <td>...</td>\n",
       "      <td>...</td>\n",
       "      <td>...</td>\n",
       "      <td>...</td>\n",
       "      <td>...</td>\n",
       "    </tr>\n",
       "    <tr>\n",
       "      <th>3308</th>\n",
       "      <td>dogs-no</td>\n",
       "      <td>views</td>\n",
       "      <td>wild-flowers</td>\n",
       "      <td>NaN</td>\n",
       "      <td>NaN</td>\n",
       "      <td>NaN</td>\n",
       "      <td>NaN</td>\n",
       "      <td>NaN</td>\n",
       "      <td>NaN</td>\n",
       "      <td>NaN</td>\n",
       "      <td>NaN</td>\n",
       "      <td>NaN</td>\n",
       "    </tr>\n",
       "    <tr>\n",
       "      <th>3309</th>\n",
       "      <td>dogs-no</td>\n",
       "      <td>views</td>\n",
       "      <td>wildlife</td>\n",
       "      <td>NaN</td>\n",
       "      <td>NaN</td>\n",
       "      <td>NaN</td>\n",
       "      <td>NaN</td>\n",
       "      <td>NaN</td>\n",
       "      <td>NaN</td>\n",
       "      <td>NaN</td>\n",
       "      <td>NaN</td>\n",
       "      <td>NaN</td>\n",
       "    </tr>\n",
       "    <tr>\n",
       "      <th>3310</th>\n",
       "      <td>dogs-no</td>\n",
       "      <td>kids</td>\n",
       "      <td>views</td>\n",
       "      <td>NaN</td>\n",
       "      <td>NaN</td>\n",
       "      <td>NaN</td>\n",
       "      <td>NaN</td>\n",
       "      <td>NaN</td>\n",
       "      <td>NaN</td>\n",
       "      <td>NaN</td>\n",
       "      <td>NaN</td>\n",
       "      <td>NaN</td>\n",
       "    </tr>\n",
       "    <tr>\n",
       "      <th>3311</th>\n",
       "      <td>dogs-no</td>\n",
       "      <td>views</td>\n",
       "      <td>wildlife</td>\n",
       "      <td>NaN</td>\n",
       "      <td>NaN</td>\n",
       "      <td>NaN</td>\n",
       "      <td>NaN</td>\n",
       "      <td>NaN</td>\n",
       "      <td>NaN</td>\n",
       "      <td>NaN</td>\n",
       "      <td>NaN</td>\n",
       "      <td>NaN</td>\n",
       "    </tr>\n",
       "    <tr>\n",
       "      <th>3312</th>\n",
       "      <td>views</td>\n",
       "      <td>NaN</td>\n",
       "      <td>NaN</td>\n",
       "      <td>NaN</td>\n",
       "      <td>NaN</td>\n",
       "      <td>NaN</td>\n",
       "      <td>NaN</td>\n",
       "      <td>NaN</td>\n",
       "      <td>NaN</td>\n",
       "      <td>NaN</td>\n",
       "      <td>NaN</td>\n",
       "      <td>NaN</td>\n",
       "    </tr>\n",
       "  </tbody>\n",
       "</table>\n",
       "<p>3310 rows × 12 columns</p>\n",
       "</div>"
      ],
      "text/plain": [
       "             0                                                          \\\n",
       "match       0                1             2             3          4    \n",
       "0      dogs-no           forest         river         views  waterfall   \n",
       "1      dogs-no           forest         views  wild-flowers   wildlife   \n",
       "2      dogs-no  partially-paved         views      wildlife        NaN   \n",
       "3      dogs-no           forest          lake          kids      views   \n",
       "4      dogs-no             lake         views  wild-flowers   wildlife   \n",
       "...        ...              ...           ...           ...        ...   \n",
       "3308   dogs-no            views  wild-flowers           NaN        NaN   \n",
       "3309   dogs-no            views      wildlife           NaN        NaN   \n",
       "3310   dogs-no             kids         views           NaN        NaN   \n",
       "3311   dogs-no            views      wildlife           NaN        NaN   \n",
       "3312     views              NaN           NaN           NaN        NaN   \n",
       "\n",
       "                                                        \n",
       "match            5         6    7    8    9    10   11  \n",
       "0      wild-flowers  wildlife  NaN  NaN  NaN  NaN  NaN  \n",
       "1               NaN       NaN  NaN  NaN  NaN  NaN  NaN  \n",
       "2               NaN       NaN  NaN  NaN  NaN  NaN  NaN  \n",
       "3      wild-flowers  wildlife  NaN  NaN  NaN  NaN  NaN  \n",
       "4               NaN       NaN  NaN  NaN  NaN  NaN  NaN  \n",
       "...             ...       ...  ...  ...  ...  ...  ...  \n",
       "3308            NaN       NaN  NaN  NaN  NaN  NaN  NaN  \n",
       "3309            NaN       NaN  NaN  NaN  NaN  NaN  NaN  \n",
       "3310            NaN       NaN  NaN  NaN  NaN  NaN  NaN  \n",
       "3311            NaN       NaN  NaN  NaN  NaN  NaN  NaN  \n",
       "3312            NaN       NaN  NaN  NaN  NaN  NaN  NaN  \n",
       "\n",
       "[3310 rows x 12 columns]"
      ]
     },
     "execution_count": 204,
     "metadata": {},
     "output_type": "execute_result"
    }
   ],
   "source": [
    "testing = df['features'].str.extractall(pat = \"\\'(.+?)\\'\")\n",
    "testing.unstack()"
   ]
  },
  {
   "cell_type": "code",
   "execution_count": 179,
   "id": "fbf3407a",
   "metadata": {},
   "outputs": [
    {
     "data": {
      "application/vnd.plotly.v1+json": {
       "config": {
        "plotlyServerURL": "https://plot.ly"
       },
       "data": [
        {
         "hovertemplate": "<b>%{hovertext}</b><br><br>lat=%{lat}<br>long=%{lon}<extra></extra>",
         "hovertext": [
          "Vernal and Nevada Falls via the Mist Trail, Yosemite Valley",
          "Upper Yosemite Falls Trail, Yosemite Valley",
          "Half Dome Trail, Yosemite Valley",
          "Moro Rock Trail, Three Rivers",
          "Lower Yosemite Falls Trail, Yosemite Valley",
          "Clouds Rest Trail via Tenaya Lake, Yosemite Valley",
          "Four Mile Trail, Yosemite Valley",
          "Sentinel Dome Trail, Yosemite Valley",
          "Glacier Point Trail, Yosemite Valley",
          "Vernal Falls, Yosemite Valley",
          "Ryan Mountain Trail, Twentynine Palms",
          "Mirror Lake via Valley Loop Trail, Yosemite Valley",
          "Tokopah Falls via Tokopah Valley Trail, Sequoia National Park",
          "Lassen Peak, Old Station",
          "Mist Falls Trail, Hume",
          "Heather Lake, Emerald Lake, and Pear Lake Trail via Watchtower and Pear Lake Trails, Three Rivers",
          "Barker Dam Nature Trail, Twentynine Palms",
          "General Sherman Tree Trail, Three Rivers",
          "Bridalveil Fall Trail, Yosemite Valley",
          "Marble Falls Trail, Three Rivers",
          "Hidden Valley Nature Trail, Twentynine Palms",
          "Taft Point and The Fissures, Yosemite Valley",
          "Rae Lakes Trail, Cedar Grove",
          "Congress Trail, Three Rivers",
          "Cathedral Lakes Trail, Yosemite Valley",
          "Lost Palms Oasis, Indio",
          "Vernal and Nevada Falls via the Panorama Trail, Yosemite Valley",
          "Condor Gulch Trail to High Peaks Trail Loop, Paicines",
          "Arch Rock Nature Trail, Twentynine Palms",
          "Columbia Rock Trail, Yosemite Valley",
          "Porcupine Creek Trail to Indian Ridge Natural Arch to North Dome, Yosemite Valley",
          "Fortynine Palms Oasis Trail, Twentynine Palms",
          "John Muir Trail via Yosemite Valley, Yosemite Valley",
          "Lost Horse Mine Loop Trail, Twentynine Palms",
          "Mariposa Grove of Giant Sequoias Trail, Yosemite Valley",
          "Chilnualna Falls Trail, Yosemite Valley",
          "Badwater Basin Salt Flats Trail, Death Valley",
          "Sentinel Dome and Taft Point Loop, Yosemite Valley",
          "Nevada Falls, Yosemite Valley",
          "Tall Trees Grove Loop Trail, Trinidad",
          "Skull Rock Nature Trail, Twentynine Palms",
          "Clouds Rest Trail from Yosemite Valley, Yosemite Valley",
          "General Grant Loop Trail, Dunlap",
          "El Capitan Trail (historical), Yosemite Valley",
          "Alta Peak Trail, Three Rivers",
          "Mineral King to Eagle Lake Trail, Three Rivers",
          "Big Trees Trail, Three Rivers",
          "Giant Forest Loop Trail, Three Rivers",
          "Wapama Falls Trail, Long Barn",
          "Mesquite Flat Sand Dunes Trail, Death Valley",
          "Cholla Cactus Garden Nature Trail, Twentynine Palms",
          "Kings Creek Falls Trail, Old Station",
          "Yosemite Point, Yosemite Valley",
          "Tuolumne Grove Trail, Yosemite Valley",
          "Crystal Cave Trail, Three Rivers",
          "Lady Bird Johnson Grove Trail, Orick",
          "Heather Lake via Watchtower Trail, Three Rivers",
          "Cinder Cone Nature Trail, Old Station",
          "Mount Dana Summit Trail, Lee Vining",
          "Zumwalt Meadow And Roaring River Falls, Stony Creek Village",
          "Old Pinnacles Trail Loop, Soledad",
          "Willow Hole Trail, Joshua Tree",
          "High Sierra Trail: Crescent Meadow to Whitney Portal, Three Rivers",
          "Paradise Valley Trail, Hume",
          "Mount Hoffman Trail, Yosemite Valley",
          "Twin Lakes Trail, Stony Creek Village",
          "Tenaya Lake Trail, Yosemite Valley",
          "Brokeoff Mountain Trail, Mill Creek",
          "Zabriskie Point, Death Valley",
          "Mastodon Peak Loop Trail, Mecca",
          "Redwood Canyon Sugar Bowl Trail, Stony Creek Village",
          "Crescent and Log Meadows Trail, Three Rivers",
          "Bear Gulch Day Use Area to Reservoir via Rim Trail, Paicines",
          "Split Rock Loop Trail, Twentynine Palms",
          "Sentinel Meadow Cook's Meadow Loop Trail, Yosemite Valley",
          "Black Rock Canyon to Panorama Loop Trail, Yucca Valley",
          "Mineral King to Little Five Lakes Trail, Three Rivers",
          "Illilouette Falls Trail, Yosemite Valley",
          "Dante's View Trail, Death Valley",
          "Big Baldy Ridge Trail, Stony Creek Village",
          "Tuolumne Meadows to Glen Aulin High Sierra Camp, Yosemite Valley",
          "Telescope Peak Trail, Death Valley",
          "Mount Langley, Lone Pine",
          "Hetch Hetchy Trail to Rancheria Falls, Long Barn",
          "Valley Floor Loop Trail, Yosemite Valley",
          "Golden Canyon Trail to Red Cathedral, Death Valley",
          "Lembert Dome Loop, Yosemite Valley",
          "Little Baldy Trail, Three Rivers",
          "Inspiration Point Trail, Yosemite Valley",
          "High Peaks Trail, Paicines",
          "Mirror Lake from Shuttle Stop 17, Yosemite Valley",
          "Ten Lakes Trail, Yosemite Valley",
          "Hanging Rock Trail, Three Rivers",
          "Mill Creek Falls Trail, Mill Creek",
          "Olmsted Point Nature Trail, Yosemite Valley",
          "Golden Canyon and Gower Gulch Loop via Zabriskie Point, Death Valley",
          "Manzanita Lake Loop, Old Station",
          "High Sierra Trail to Hamilton Lakes, Three Rivers",
          "Sugar Bowl - Redwood Creek Loop, Stony Creek Village",
          "Hart Tree, Fallen Goliath, Redwood Creek Loop, Stony Creek Village",
          "Devil's Kitchen Trail, Chester",
          "Mosaic Canyon Trail, Death Valley",
          "High Peaks & Balconies Cave Loop Trail, Paicines",
          "Boy Scout Trail To Willow Hole Extended Route, Twentynine Palms",
          "Moses Spring Trail to Bear Gulch Reservoir, Paicines",
          "Old Pinnacles Trail to Balconies, Paicines",
          "Zumwalt Meadow Loop Trail, Hume",
          "Mirror Lake Paved Trail, Yosemite Valley",
          "Potato Harbor Trail, Ventura",
          "Muir Grove Trail, Three Rivers",
          "Monarch Lakes Trail, Three Rivers",
          "The Maze Loop, Twentynine Palms",
          "Death Valley Natural Bridge Road, Death Valley",
          "Roaring River Falls Trail, Cedar Grove",
          "Hidden Beach and False Klamath Rock, Klamath",
          "Grizzly Falls, Dunlap",
          "Darwin Falls Trail via Old Toll Road, Darwin",
          "Smugglers Cove Trail, Ventura",
          "Balconies Trail, Paicines",
          "Grizzly Giant Loop Trail, Fish Camp",
          "Sawtooth Pass Trail, Three Rivers",
          "Kibbie Lake Trail, Mi Wuk Village",
          "Gaylor Lakes Trail, Lee Vining",
          "Juniper Canyon Trail to High Peaks, Paicines",
          "Wall Street Mill Trail, Twentynine Palms",
          "Eagle View Trail, Three Rivers",
          "Dewey Point Trail, Yosemite Valley",
          "Gower Gulch Loop Trail, Death Valley",
          "Desolation Canyon Trail, Death Valley",
          "Redwood Creek Trail, Orick",
          "John Muir Trail in Kings Canyon, Mammoth Lakes",
          "Snow Creek Falls Trail, Yosemite Valley",
          "May Lake High Sierra Camp from Tioga Pass Road, Yosemite Valley",
          "Black Rock Canyon Trail to Warren Peak, Yucca Valley",
          "Ladybug Camp Trail, Three Rivers",
          "El Capitan Loop, Yosemite Valley",
          "Artist Point Trail, Yosemite Valley",
          "Franklin Lakes Trail, Three Rivers",
          "Grand Canyon of the Tuolumne, Yosemite Valley",
          "Keys View Loop to Inspiration Point Trail, Thousand Palms",
          "Young Lakes Trail Loop, Yosemite Valley",
          "May Lake, Yosemite Valley",
          "Elizabeth Lake Trail, Yosemite Valley",
          "Hetch Hetchy Loop via Lake Vernon, Groveland",
          "North View and Maze Trails, Twentynine Palms",
          "Panorama Trail to Little Yosemite Valley, Yosemite Valley",
          "Big Stump Loop Trail, Dunlap",
          "Balconies Cave Trail, Paicines",
          "Sunrise Lakes Trail, Yosemite Valley",
          "Eagle Peak Trail, Yosemite Valley",
          "Tuolumne Meadows to Yosemite Valley Trail, Yosemite Valley",
          "Chaos Crags Trail, Old Station",
          "Lyell Canyon and Vogelsang Loop Trail, Yosemite Valley",
          "Lower Chilnualna Falls Trail, Yosemite Valley",
          "Scorpion Bay to Cavern Point Loop, Ventura",
          "Berdoo Canyon, Twentynine Palms",
          "Artists Drive, Death Valley",
          "Mono Pass Trail, Lee Vining",
          "Balconies Trail to Machete Ridge, Paicines",
          "Ostrander Lake Trail, Yosemite Valley",
          "Tharp's Log Trail, Three Rivers",
          "Pohono Trail Glacier Point to Inspiration Point, Yosemite Valley",
          "High View Nature Trail, Yucca Valley",
          "Yosemite Valley to Tuolumne Meadows Trail, Yosemite Valley",
          "Buena Vista Trail, Stony Creek Village",
          "Four Mile Trail to Panorama Trail Loop, Yosemite Valley",
          "Cluster Lakes Loop Trail, Old Station",
          "Lodgepole and Willow Meadow, Three Rivers",
          "Swinging Bridge Trail, Yosemite Valley",
          "Rancheria Falls Trail, Long Barn",
          "Boiling Springs Lake Loop Trail, Old Station",
          "Joshua Tree National Park Geology OHV Tour Road, Twentynine Palms",
          "Nine Lakes Basin Loop Trail, Three Rivers",
          "Cold Boiling Lake Trail to Bumpass Hell Trail, Old Station",
          "Road's End to the Bailey Bridge, Hume",
          "Yosemite Grand Tour, Yosemite Valley",
          "Wawona Meadow Loop Trail, Yosemite Valley",
          "Merced Grove Trail, Yosemite Valley",
          "West Valley Loop Trail, Yosemite Valley",
          "High Peaks and Bear Gulch Loop Trail, Paicines",
          "Desert Queen Mine and Eagle Cliff Boulder House, Twentynine Palms",
          "Bearpaw Meadow to Redwood Meadow Trail, Three Rivers",
          "Cap Rock and Gram Parsons Nature Trail, Twentynine Palms",
          "Sunset Rock, Three Rivers",
          "Devil's Golf Course, Death Valley",
          "May Lake from Sunrise Lakes Trailhead, Yosemite Valley",
          "Paradise Creek Trail, Three Rivers",
          "Artist's Palette, Death Valley",
          "North Grove Loop Trail, Dunlap",
          "Tuolumne Meadow to Cathedral Pass, Yosemite Valley",
          "Indian Cove Campground Trail, Twentynine Palms",
          "Hotel Creek Trail to Cedar Grove Overlook, Cedar Grove",
          "Ridge Lakes Trail, Old Station",
          "Hall of Horrors, Twentynine Palms",
          "Sidewinder Canyon, Death Valley",
          "Terminal Geyser & Boiling Springs Lake, Chester",
          "Crystal Lake via Sawtooth Pass Trail, Three Rivers",
          "Ranger Lake, Three Rivers",
          "Cottonwood-Marble Canyon Loop, Death Valley",
          "Panamint Dunes Trail, Death Valley",
          "Yosemite Creek Trail, Yosemite Valley",
          "Old Dale Road, Twentynine Palms",
          "Joshua Tree Boy Scout Trail, Joshua Tree",
          "Eagle Cliff Mine, Twentynine Palms",
          "East Valley Floor Trail, Yosemite Valley",
          "Mineral King Loop, Three Rivers",
          "Echo Lake Trail, Old Station",
          "Lembert Dome Trail, Yosemite Valley",
          "Clouds Rest Loop, Yosemite Valley",
          "Vernal, Nevada, and Illilouette Fall Route, Yosemite Valley",
          "Chalone Peak Trail, Paicines",
          "Bridalveil Falls from Southside Drive, Yosemite Valley",
          "Pohnono Trail to Sentinel Dome Trail Loop, Yosemite Valley",
          "Condor Gulch Trail To Overlook, Paicines",
          "Skunk Cabbage Trail, Orick",
          "El Montanon Trail, Ventura",
          "Bearpaw Meadow to Hamilton Lake Trail, Sequoia National Park",
          "Crescent Meadow Loop Trail, Three Rivers",
          "Ubehebe and Little Hebe Crater Trail, Death Valley",
          "Black Rock Canyon Trail, Yucca Valley",
          "Pothole Dome Trail, Yosemite Valley",
          "Tuolumne River Loop: Dana and Lyell Forks, Yosemite Valley",
          "Panorama Trail, Yosemite Valley",
          "Potwisha Campground Trail, Three Rivers",
          "Stanford Point Trail, Yosemite Valley",
          "Paradise Meadow Trail, Old Station",
          "Salt Creek Interpretive Trail, Death Valley",
          "Mount Williamson Trail, Independence",
          "Dog Lake Trail, Yosemite Valley",
          "Park Ridge Trail Panoramic Point to Park Ridge Fire Lookout, Dunlap",
          "First Mosquito Lake Trail, Three Rivers",
          "Dewey Point via McGurk Meadow Trail, Yosemite Valley",
          "Ryan Ranch Trail, Twentynine Palms",
          "Bubbs Creek Trail, Hume",
          "Kings Creek Falls, Bench Lake, and Sifford Lake Loop Trail, Old Station",
          "Butte Lake-Snag Lake-Cinder Cone Loop, McArthur",
          "Taft Point via Glacier Point, Yosemite Valley",
          "Cold Boiling Lake Trail, Old Station",
          "John Muir Trail: Tuolumne to Reds Meadow, Yosemite Valley",
          "The Pohono Trail from Inspiration Point, Yosemite Valley",
          "West Side Loop Trail, Yucca Valley",
          "Sulphur Works, Old Station",
          "John Muir Trail: Happy Isles to Tuolumne Meadows, Yosemite Valley",
          "Soda Springs and Parsons Lodge Trail, Yosemite Valley",
          "Middle Fork Kaweah Falls from Hospital Rock, Three Rivers",
          "Pohono Trail: Glacier Point to Dewey Point, Yosemite Valley",
          "Yurok Loop Trail, Orick",
          "Cottonwood Spring Nature Trail, Mecca",
          "Joshua Tree Peak Trail, Twentynine Palms",
          "Garrett's Arch, Twentynine Palms",
          "Onion Valley, Kearsarge Pass, Forrester Pass, Shepherds Pass Backpacking Trip, Seven Pines",
          "Grotto Canyon, Death Valley",
          "Pinkham Canyon OHV Road, Mecca",
          "PCT: CA Section I - Tuolumne Meadow to Sonora Pass, Yosemite Valley",
          "Onion Valley to Gardiner Lake, Independence",
          "Santa Cruz Island: Pelican Bay And Prisoners Harbor Trails, Santa Barbara",
          "East Anacapa Island Trail, Ventura",
          "Darwin Falls Trail, Darwin",
          "Merced Lake Loop Trail, Yosemite Valley",
          "Waterwheel Falls and Glen Aulin Trail, Yosemite Valley",
          "Murphy Creek Trail to Polly Dome Lake, Yosemite Valley",
          "Badger Pass to Glacier Point Trail, Yosemite Valley",
          "Copper Creek Trail, Hume",
          "Valley Loop Trail, Yosemite Valley",
          "Mineral King: Black Rock Pass Loop, Three Rivers",
          "Bridalveil Creek Loop Trail, Yosemite Valley",
          "Seville Lake Trail, Stony Creek Village",
          "Horseshoe Meadow Trail, Lone Pine",
          "Pine City Trail, Twentynine Palms",
          "White Chief Canyon Trail, Three Rivers",
          "Happy Isles to Cloud's Rest Loop, Yosemite Valley",
          "Terrace, Shadow, and Cliff Lakes, Old Station",
          "Contact Mine Trail, Twentynine Palms",
          "Onion Valley Campground to Rae Lakes via Kearsarge Pass, Seven Pines",
          "Vernal Fall Foot Bridge via Mist and John Muir Trail, Yosemite Valley",
          "Joshua Tree National Park Scenic Drive, Joshua Tree",
          "Don Cecil Trail, Dunlap",
          "Manzanita Creek Trail, Old Station",
          "Mariposa Cabin Trail, Fish Camp",
          "Old Pinnacles, Balconies Cliffs, Juniper Canyon, High Peaks and Bench Trail Loop, Soledad",
          "Tuolumne River Trail, Yosemite Valley",
          "Scorpion Canyon Loop Trail, Ventura",
          "Waterwheel Falls Trail, Yosemite Valley",
          "May Lake to Glen Aulin Trail, Yosemite Valley",
          "California Riding and Hiking Trail, Yucca Valley",
          "Horseshoe Meadows to Mount Whitney and Whitney Portal Trailhead via New Army Pass, Lone Pine",
          "McGurk Meadow Trail, Yosemite Valley",
          "Lukens Lake Trail, Yosemite Valley",
          "Mount Harkness Loop Trail, Chester",
          "Fall Canyon Trail, Death Valley",
          "Dolason Prairie Trail, Orick",
          "Skull Rock Discovery Trail, Twentynine Palms",
          "Sugar Pine Trail, Three Rivers",
          "Lassen Volcanic National Park Scenic Drive, Chester",
          "Waterwheel Falls and the Grand Canyon of the Tuolumne Trail, Yosemite Valley",
          "Bear Hill Trail, Three Rivers",
          "Sequoia Lake Trail, Stony Creek Village",
          "The High Sierra Camp Loop Trail, Yosemite Valley",
          "Mirror Lake, Snow Creek, and Upper Yosemite Falls Loop, Yosemite Valley",
          "Klamath Overlook, Klamath",
          "Sawtooth Pass Trail to Columbine Lake, Three Rivers",
          "Hidden Valley Campground to Barker Dam Nature Trail, Twentynine Palms",
          "Glacier Point to Union Point, Yosemite Valley",
          "Echo Pass and Inyo Mine OHV Loop, Death Valley",
          "Lembert Dome from Tuolomne Meadows Lodge Road, Lee Vining",
          "Del Norte and Montanon Trail to Scorpion Campgroud, Ventura",
          "Garfield Grove Trail, Three Rivers",
          "Dewey, Crocker, and Stanford Point via the Pohono Trail, Yosemite Valley",
          "Lookout Peak Hike, Dunlap",
          "Alder Creek Loop Trail, Yosemite Valley",
          "Nelson Lake Trail, Yosemite Valley",
          "Panoramic Point, Cedar Grove",
          "Little Nellie Falls Trail, Yosemite Valley",
          "Glacier Point to Half Dome, Yosemite Valley",
          "Cathedral Lakes to Clouds Rest, Yosemite Valley",
          "Alder Creek Falls, Johnsondale",
          "Granite Lake and Granite Pass Trail, Hume",
          "Tamarack Flat to El Capitan, Yosemite Valley",
          "Eureka Peak Trail, Yucca Valley",
          "North Dome Trail via Upper Yosemite Falls Trail, Yosemite Valley",
          "Zabriskie Point and Gower Gulch Path Loop, Death Valley",
          "Timber Gap Trail, Three Rivers",
          "Samuelsons Rocks Trail, Twentynine Palms",
          "Oasis of Mara Nature Trail, Twentynine Palms",
          "Butte Lake, Snag Lake, Twin Lake, Silver Lake Loop, Old Station",
          "Harmony Borax Works, Death Valley",
          "Corkscrew Peak, Death Valley",
          "Clark Range Circuit, Oakhurst",
          "Cold Springs Nature Trail, Three Rivers",
          "Porcupine Wash Ruby Lee Mill Site Trail, Coolidge Springs",
          "Tunnel View to Dewey Point, Yosemite Valley",
          "Summit, Horshoe, Snag, Cinder Cone, Rainbow, Twin, and Echo Lakes Loop, Old Station",
          "Crown Prince Lookout Trail, Twentynine Palms",
          "Juniper Canyon Trail to High Peaks Trail Loop, Paicines",
          "Kings Canyon National Scenic Byway, Cedar Grove",
          "Vogelsang Camp to Merced Lake Trail, Yosemite Valley",
          "Paradise Ridge Trail, Three Rivers",
          "Sneakeye Spring Trail, Twentynine Palms",
          "Mount Gould Trail, Seven Pines",
          "Willow Canyon Trail, Death Valley",
          "Evelyn Lake Trail, Three Rivers",
          "Deadman Canyon Backpack Trip, Three Rivers",
          "Summit Lake, Horshoe Lake, Snag Lake, Cinder Cone, Twin Lakes, and Echo Lake loop, Old Station",
          "Berry Glen and Lady Bird Grove Trail, Orick",
          "Crane Flat Lookout Trail, Yosemite Valley",
          "Saline Valley Hot Spring, Lone Pine",
          "Rainbow Lake Trail, Old Station",
          "Flint Ridge Section Trail, Klamath",
          "Shadow Lake Trail, Old Station",
          "California Riding and Hiking Trail: Keys View Road to Pinto Basin Road, Twentynine Palms",
          "Old Big Oak Flat Access Road, Yosemite Valley",
          "Bajada Nature Walk, Mecca",
          "Mount Lyell, Lee Vining",
          "Lucky Boy Vista Trail to Elton Mine, Twentynine Palms",
          "Merced Lake to Sunrise Camp Trail, Yosemite Valley",
          "Merced Lake Trail, Yosemite Valley",
          "Beehive Meadow Trail, Groveland",
          "Middle Fork Kaweah Trail, Three Rivers",
          "Hospital Rock to Potwisha Trail, Three Rivers",
          "Mount Bob Loop from Indian Cove Campground, Twentynine Palms",
          "The Clark Range and Red Peak Pass Trail, Yosemite Valley",
          "Bullfrog Lake, Independence",
          "Yosemite Falls Trail to North Dome, Yosemite Valley",
          "Lukens Lake from White Wolf, Yosemite Valley",
          "Vogelsang Lake and Volesang Pass Trail, Yosemite Valley",
          "Mill Creek Horse Trail, Crescent City",
          "Big Pine Trail, Joshua Tree",
          "Last Chance California Coastal Trail, Crescent City",
          "Racetrack Valley OHV Road, Death Valley",
          "Mist Trail, Cloud Rest, May Lake and Snow Creek Loop, Yosemite Valley",
          "Eagle and Mosquito Lakes, Three Rivers",
          "Quail Mountain via Juniper Flats, Twentynine Palms",
          "Texas Springs Trail, Death Valley",
          "Reflection Lake Trail, Old Station",
          "High Peaks Trail to Old Pinnacles Trail to Condor Gulch Trail Loop, Paicines",
          "Goler Canyon OHV Road, Trona",
          "Dewey Point Trail, Yosemite Valley",
          "Mariposa Grove to Wawona Lodge, Fish Camp",
          "Death Valley West Side OHV Road, Death Valley",
          "Stubby Springs Loop, Twentynine Palms",
          "Brooklyn Mine OHV Trail, Twentynine Palms",
          "Snow Creek Falls, Tenaya Lake, Yosemite Valley via JMT, Yosemite Valley",
          "Pinto Mountain Trail, Twentynine Palms",
          "Mono Meadow Trail, Yosemite Valley",
          "Mount Tyndall Trail, Independence",
          "Bobcat Point Loop, Three Rivers",
          "Lookout Point Trail, Groveland",
          "Ubeheh Crater Path, Death Valley",
          "Porcupine Creek to Indian Rock, North Dome, and Columbia Rock via Tioga Pass Road, Yosemite Valley",
          "Upper Yosemite Falls, North Dome, Indian Rock, Snow Creek, Yosemite Valley",
          "Conejo Well and Eagle Mountains Trail, Mecca",
          "Young Lakes via Dog Lake Trail, Yosemite Valley",
          "John Muir Trail: Tuolume Meadows to Donohue Pass, Yosemite Valley",
          "Mono and Parker Pass Trail to Spillway Lake, Lee Vining",
          "Condor Gulch Overlook Loop via Peaks View Area, Paicines",
          "Devastated Area Interpretive Trail, Old Station",
          "Crumbaugh Lake via Cold Boiling Lake Trail, Old Station",
          "North Rim Trail, Yosemite Valley",
          "Cathedral Lakes Trailhead to Yosemite Valley via Half Dome, Yosemite Valley",
          "Eureka Dunes, Bishop",
          "Cueva Valdez to Arch Rock Trail, Ventura",
          "King Creek Falls, Bench and Seaford Lakes, Old Station",
          "Kings River Trail, Shaver Lake",
          "Bench Trail, Paicines",
          "Harden Lake Trail, Yosemite Valley",
          "John Muir Trail: Yosemite Valley to Tenaya Lake, Yosemite Valley",
          "Jack Main Canyon and Tilden Lake Trail, Groveland",
          "Quail Mountain Trail, Twentynine Palms",
          "Butte Lake to Snag Lake loop, Old Station",
          "King's Creek Falls to Devil's Kitchen, Old Station",
          "Father Crowley Vista, Darwin",
          "Wonderland Wash, Twentynine Palms",
          "Buena Vista Crest Trail to Royal Arch Lake, Yosemite Valley",
          "The Grandstand via Racetrack Trail, Death Valley",
          "Diamond Peak Trail, Old Station",
          "Joshua Tree West Side Trail, Twentynine Palms",
          "Koip Peak Trail, Lee Vining",
          "Redwood Canyon to Redwood Creek, Badger",
          "Ottoway Lakes Trail, Oakhurst",
          "Old Big Oak Flat to Yosemite Falls, Yosemite Valley",
          "Tuolumne Meadows lodge to Vogelsang Camp, Yosemite Valley",
          "Laurel Lake Trail, Long Barn",
          "Tioga Road to Yosemite Falls and Eagle Peak, Yosemite Valley",
          "Bald Hills Road, Hoopa",
          "Smith Peak Trail, Yosemite Valley",
          "Joshua Tree Short Loop Trail and Canyon View Trail Hike, Yucca Valley",
          "Porcupine Wash to Monument Mountain Trail, Coolidge Springs",
          "Paradise Valley Trail to Woods Creek Crossing, Hume",
          "Tioga Pass Road to Yosemite Valley, Yosemite Valley",
          "Jumbo Rocks Campground Loop, Twentynine Palms",
          "Palisade Basin, Big Pine",
          "Lost Man Creek Trail, Orick",
          "Mirror Lake, Valley Loop Trail, Yosemite Valley",
          "Dog Lake Trail and Lambert Dome Trail Loop, Lee Vining",
          "Coastal Trail: Demartin Section, Klamath",
          "Lost Lake Trail, Stony Creek Village",
          "Saline Valley OHV Road, Darwin",
          "Prospect Peak Trail, Old Station",
          "Lower Twin and Snag Lakes Loop Trail, Old Station",
          "Lower Gaylor Lake Trail, Yosemite Valley",
          "Chain Lakes Trail from Clark Range Trailhead, Oakhurst",
          "Azalea Campground to Big Stump Grove, Cedar Grove",
          "Mt. Whitney Loop, Hume",
          "Dorst / Lost Grove Trail, Three Rivers",
          "Kearsarge Pass Trail to John Muir Trail Loop, Independence",
          "Delilah Fire Lookout OHV Trail, Dunlap",
          "Pelican Bay Trail, Ventura",
          "Peaks View Day Use Area to Bear Gulch Day Use Area Trail, Paicines",
          "Cathedral Peak: Climber's Approach, Yosemite Valley",
          "Eagle Cliffs Lucky Boy Vista loop, Twentynine Palms",
          "O'Shaughnessy Dam to Tuolumne River, Long Barn",
          "Ibex Dunes Trail, Tecopa",
          "Park Blvd Scenic Drive, Twentynine Palms",
          "Santa Rosa Island - Pier to Ford Point, Santa Barbara",
          "Shepherd Saddle Road, Three Rivers",
          "Bubbs Creek Trail, Lone Pine",
          "Chihuahua Mine, Three Rivers",
          "Torrey Pines Trail, Santa Barbara",
          "Tuolumne Meadows to Tenaya Lake via Pacific Crest and Glen Aulin Trails, Yosemite Valley",
          "Lobo Canyon Trail, Santa Barbara",
          "Joshua Tree Queen Mountain, Twentynine Palms",
          "Hexahedron Mine Trail, Twentynine Palms",
          "Keys View Nature Trail, Thousand Palms",
          "Tuolumne Meadow to White Wolf via Pacific Crest Trail, Yosemite Valley",
          "High Sierra Trail: Ninemile Creek to Bearpaw Meadow, Three Rivers",
          "Huckleberry Meadow Trail, Three Rivers",
          "North Lake Loop via Lamarck Col and Alpine Col, Bishop",
          "Horseshoe Lake Trail, Chester",
          "Snow Creek Trail to Yosemite Falls Trail via North Dome, Yosemite Valley",
          "Lyons Ranch Trail, Hoopa",
          "Smugglers Road, Scorpion Canyon and Potato Harbor, Ventura",
          "Pushawalla Plateau and Canyon Trail, Indio",
          "Old Big Oak Flat Road, Yosemite Valley",
          "Burnt Hill Trail, Yucca Valley",
          "Lippincott Mine Road, Keeler",
          "General Sherman via Lodgepole, Sequoia National Park",
          "Mount Whitney via Cottonwood Lakes, Lone Pine",
          "Black Eagle Mine OHV Trail, Mecca",
          "Foresta Falls Trail, Yosemite Valley",
          "Chilnualna Falls Extended Loop, Yosemite Valley",
          "Golden Bell and Eldorado Mine Trail, Twentynine Palms",
          "Lily Pond Nature Trail, Old Station",
          "Quail Wash to West Entrance Wash Trail, Joshua Tree",
          "Upper Colony Mill Trail, Three Rivers",
          "Silver Bell Mine Hike, Twentynine Palms",
          "Young Lakes and Mount Conness Summit, Yosemite Valley",
          "Happy Isles, Vernall Falls, Half Dome, Tenaya Lake, and Mirror Lakes Loop, Yosemite Valley",
          "Moorten's Mill Trail, Mecca",
          "North Grove and Sunset Trail, Cedar Grove",
          "East Point Trail, Santa Barbara",
          "Ubehebe Peak Trail, Death Valley",
          "Bear Hill Trail to Moro Rock Trail Loop, Three Rivers",
          "Chloride City OHV Trail, Death Valley",
          "Telescope Peak via Shorty's Well Route, Death Valley",
          "Corral Wall Trail, Twentynine Palms",
          "Upper and Lower Twin Lake Trail, Old Station",
          "Circle Meadows via Congress Trail, Sequoia National Park",
          "Bumpass Hell Trail  [CLOSED], Old Station",
          "Visitor Center to Peaks View Day Use Area, Paicines",
          "Viola Falls Trail, Stony Creek Village",
          "Peaks View Day Use Area to Old Pinnacles Trailhead, Paicines",
          "California Riding & Hiking Trail, Twentynine Palms",
          "Dog Dome and Dog Lake, Lee Vining",
          "Indian Pass, Death Valley",
          "Buena Vista, Royal Arch, and Crescent Lakes Loop, Yosemite Valley",
          "Coffin Peak, Death Valley",
          "Merced Lake to Half Dome Loop via John Muir, Pack and Cloud Rest Trails, Yosemite Valley",
          "Manzanita and Azalea Trail, Badger",
          "Ridgecrest to Death Valley OHV Trail, Ridgecrest",
          "Zumwalt Meadow Trail to Kanawyers Trail Loop, Hume",
          "King Creek Falls and Bench Lake Loop, Old Station",
          "Mammoth Peak, Yosemite Valley",
          "Death Valley Scenic Drive OHV Trail, Bishop",
          "Ah-Pah Interpretive Trail, Orick",
          "Nine Lake Basin, Three Rivers",
          "John Muir to Clouds Rest to Mist Trail, Yosemite Valley",
          "Mt. Perry, Death Valley",
          "Lake Eleanor Hike, Groveland",
          "Live Oak Tank and Ivanpah Tank, Twentynine Palms",
          "Scorpius Arch Loop, Twentynine Palms",
          "Inspiration Point Trail, Chester",
          "Santa Cruz Island: Del Norte Campground to Chinese Harbor, Ventura",
          "King's Canyon to Mt Whitney, Hume",
          "Crest View Trail, Joshua Tree",
          "White Wolf to Pate Valley Trail, Yosemite Valley",
          "Forest Lake Trail, Mill Creek",
          "Twin Lakes, Horseshoe Lake, and Summit Lake, Old Station",
          "Hanaupah Canyon Trail, Death Valley",
          "Monarch Canyon/Mine Trail, Death Valley",
          "Matterhorn Canyon and the Sawtooth Range Trail, Bridgeport",
          "Sand Dunes via Mecca Dale Road, Mecca",
          "Cahoon Rock from South Fork Campground, Three Rivers",
          "Kings River, Dunlap",
          "Tenaya Lake to May Lake to Mount Hoffman, Yosemite Valley",
          "North Wilderness Trail to Twin Knolls, Paicines",
          "Roads End to Onion Valley Trail, Hume",
          "Turkey Flats Sand Dunes, Twentynine Palms",
          "Benson Pass - Northeast Yosemite Grand Tour, Yosemite Valley",
          "Emerald Lake, Sequoia National Park",
          "Monument Mountain from Pinkham Canyon Trailhead, Mecca",
          "Pinnacles Overlook Trail, Paicines",
          "Marble Canyon Petroglyphs, Death Valley",
          "John Muir Trail: Tenaya Lake to Reds Meadow, Yosemite Valley",
          "Sawtooth Pass to Timber Gap Trail, Three Rivers",
          "Ashford Canyon Trail, Shoshone",
          "Echo Ridge & Echo Peaks, Yosemite Valley",
          "John Muir Trail: Cathedral Lakes Trail to Clouds Rest, Yosemite Valley",
          "Tenaya Lake Trail, Yosemite Valley",
          "Black Mountain Trail, Ventura",
          "Yosemite to Agnew Meadows, Yosemite Valley",
          "Parker Pass to Lyell Canyon, Lee Vining",
          "Swaney Loop, Death Valley",
          "Holter Ridge via Lost Man Trail, Orick",
          "Sifford Lakes Trail, Old Station",
          "Joshua Tree Burro Loop Trail Hike, Twentynine Palms",
          "Cathedral Peak: Southeast Buttress, Yosemite Valley",
          "Helios Canyon, Death Valley",
          "North Canyon Trail, Twentynine Palms",
          "Bathtub Lake Trail, Old Station",
          "Merced Lake High Sierra Camp Trail, Yosemite Valley",
          "Wonderland Of Rocks Traverse, Twentynine Palms",
          "Tuolome, Sunrise and Merced Lakes, and Vogelslang Loop, Yosemite Valley",
          "Taft Point via Four Mile Trail, Yosemite Valley",
          "Gin Flat Loop, Yosemite Valley",
          "Visitor Center to Bacon Ranch, Paicines",
          "Historic Stovepipe Well, Death Valley",
          "Burnt Hill Trail and Canyon View Trail Loop, Yucca Valley",
          "East Kennedy Lake Trail, Dunlap",
          "McArthur Creek Loop Trail, Orick",
          "Bumpass Hell from Kohm Yah-mah-nee visitor center, Mill Creek",
          "Kaleidoscope Canyon Trail, Shoshone",
          "Crescent Lake to Buena Vista Lake, Yosemite Valley",
          "Tamarack Creek Trail, Yosemite Valley",
          "Drake Lake Trail, Chester",
          "Young Lakes Trail, Yosemite Valley",
          "Harry Wade Road OHV Trail, Shoshone",
          "High Sierra Trail to Lakes Trail, Three Rivers",
          "Covington Trail, Yucca Valley",
          "Ireland Lake Trail, Yosemite Valley",
          "Negro Hill Trail, Twentynine Palms",
          "Johnson Canyon OHV Trail, Death Valley",
          "Golden Bee Mine Trail, Twentynine Palms",
          "Yosemite Valley East Loop, Yosemite Valley",
          "Kaweah River Trail, Three Rivers",
          "Tall Trees Access Road, Trinidad",
          "Morbid Mound Trail, Twentynine Palms",
          "Avalanche Pass Trail to Roaring River Via Kanawyers Trail, Hume",
          "Cabin Creek Trail, Three Rivers",
          "Walker Lake Trail, Lee Vining",
          "Pinto Lake Trail, Three Rivers",
          "Vidette Meadow Trail, Independence",
          "Candlestein Pass Trail, Twentynine Palms",
          "Bishop Pass Trail, Bishop",
          "Summit Lake to Kings Creek Trail, Old Station",
          "Lower Telephone Canyon, Death Valley",
          "Bench Lake Trail, Big Pine",
          "Mastodon Peak and Eagle Mountain, Mecca",
          "Quail Mountain from Covington Crest Trailhead, Joshua Tree",
          "Junction Meadow Via Kearsarge Pass and Bubbs Creek Trails, Independence",
          "The Farm Trail, Klamath",
          "Dream Lake Trail, Chester",
          "Sugar Pine Grove Trail, Yosemite Valley",
          "Crescent Meadow to Tamarack Lake, Three Rivers",
          "Tuolumne Meadows to Vogelsang Pass, Yosemite Valley",
          "John Muir Trail From Tioga Pass Road to the Merced River, Yosemite Valley",
          "Hetch Hechy Reservoir to Sierra Crest Backpacking Loop, Yosemite Valley",
          "Bearpaw Meadow Via Paradise Ridge Trail, Three Rivers",
          "Yosemite High Country Open Loop, Yosemite Valley",
          "Love Land Wash, Twentynine Palms",
          "Little Bridge Canyon Trail, Death Valley",
          "Tule Springs, Death Valley",
          "Clark Range Viewpoint, Yosemite Valley",
          "Corral Meadow Loop Trail, Old Station",
          "Rowell Trailhead to Comanche Meadows, Stony Creek Village",
          "Westfall Meadows Trail, Yosemite Valley",
          "Tamarack Flat to Yosemite Valley, Yosemite Valley",
          "Big SEKI Loop, Hume",
          "McCabe Lakes Trail, Bridgeport",
          "Generals Highway Scenic Drive, Three Rivers",
          "Tharp's Log and Huckleberry Trail Loop, Three Rivers",
          "Skunk Point Loop, Ventura",
          "Wowona to Half Dome to Yosemite Valley, Yosemite Valley",
          "Vogelsang Basin Loop via John Muir Trail, Yosemite Valley",
          "Twin Meadows Trail, Old Station",
          "Lake Eleanor to Laurel Lake, Groveland",
          "Onion Valley to Horseshoe Meadows, Independence",
          "Deer Cove To Cedar Grove, Cedar Grove",
          "Old Dale Road: Pinto Basin Road to Route 62, Coolidge Springs",
          "Negropolis Trail, Twentynine Palms",
          "Skidoo OHV Road, Death Valley",
          "Yosemite Creek Trail to Yosemite Creek Campground, Yosemite Valley",
          "Manly Beacon via Zabriskie Point and Gower Gulch, Death Valley",
          "Hidden Valley OHV Drive, Death Valley",
          "Cascade Creek from Tamarack Campground Trail, Yosemite Valley",
          "Red Canyon, Manly Beacon, Zabriskie Point Loop, Death Valley",
          "Raker Peak Loop, Old Station",
          "Merced River High Trail, Yosemite Valley",
          "Crystal Lake Trail, Chester",
          "Reggie Dome, Twentynine Palms",
          "Paradise Peak, Three Rivers",
          "Pride Rock, Death Valley",
          "Huckleberry Trail to Alta Trail Loop, Three Rivers",
          "Santa Barbara Island Loop, Malibu",
          "South Fork of the Tuolumne Trail, Yosemite Valley",
          "Pohono Trail via McGurk Meadow Trail, Yosemite Valley",
          "Visitor Contact Station to Vista Point, Paicines",
          "Rattlesnake Canyon from Indian Cove Picnic Area, Twentynine Palms",
          "Scotty's Spring, Death Valley",
          "Pinon Mesa via Hummingbird Spring Trail, Death Valley",
          "White Wolf to Upper Yosemite Falls to Yosemite Valley Lodge, Wawona",
          "White Mountain via Sawmill Walk-in Campground, Lee Vining",
          "Aspen Valley Trail, Groveland",
          "Jakey Lake Trail, Chester",
          "White Wolf to Smith Meadow Trail, Yosemite Valley",
          "Mather Ranger Station to Smith Meadow Trail, Groveland",
          "Crescent Lake from Chilnualna Falls Trailhead, Yosemite Valley",
          "Trans Sierra Trip: Colby Pass Trail, High Sierra Trail, John Muir Trail, Mount Whitney, PCT, Hume",
          "Tamarack Creek to El Capitan, Yosemite Valley",
          "Butte Lake, Cluster Lakes and Cinder Cone Loop, McArthur",
          "Big 4 Mines OHV Trail, Death Valley",
          "Careys Castle Trail [CLOSED], Mecca",
          "Jack Gunn Maltese Peak Trail, Death Valley",
          "Jubilee Mountain, Death Valley",
          "Big Oak Flat Road to Tuloumne Meadows, Yosemite Valley",
          "White Wolf to Aspen Valley Trail, Yosemite Valley",
          "Miguel Meadow to Lake Eleanor to Laurel Lake Loop, Groveland",
          "Mount Whitney from Cottonwood Lakes Walk in Campground, Lone Pine",
          "Grand Canyon of the Tuolumne and Rogers Lake, Wawona",
          "Tamarack Flat to Eagle Peak, Yosemite Valley",
          "Hetch Hetchy to Yosemite Valley, Groveland",
          "Elephant Seal Cove Trail, Malibu",
          "Silver Lake to Yosemite Village, June Lake",
          "Pleasant Valley To El Dorado Mine and Pinto Basin, Twentynine Palms",
          "Inyo Mine Trail, Death Valley",
          "May Lake Camp to Yosemite Valley, Yosemite Valley",
          "Visitor Center to Butterfield Homestead Trail, Paicines",
          "Redwood Creek Trail, Badger",
          "Rae Lake via Bubbs Creek, Hume",
          "Poopenaut Valley Trail, Groveland",
          "Mt. Lyell Base via John Muir and Rush Creek Trail, Lee Vining",
          "Titus Canyon Narrows, Death Valley",
          "Florence Lake via Kings Canyon on the John Muir and Pacific Crest Trail, Sequoia National Park",
          "Lake Eleanor Campground, Groveland",
          "White Wolf to Piute Creek and the Grand Canyon of the Tuolumne River, Wawona",
          "White Wolf to Aspen Valley Trail, Yosemite Valley",
          "Goler Wash and Mengal Pass Route, Death Valley",
          "Boiling Springs Lake via Kings Creek and Pacific Crest Trail, Old Station",
          "Diving Board, Yosemite Valley",
          "Bishop OHV Loop, Bishop",
          "Montañon Ridge Loop, Ventura",
          "Rattle Snake Canyon to Oh-Bay-Yo-Yo Shelter Hike, Twentynine Palms",
          "Arch Point Loop Trail, Malibu",
          "Snow Creek, May Lake and Clouds Rest Loop, Yosemite Valley",
          "John Muir Trail, Lone Pine",
          "Porcupine Wash Ruby Lee Mill Site Trail, Blythe",
          "5 Tanks Including Twin Tanks, Ivanpah and Live Oak Tanks, Twentynine Palms",
          "Pinto Basin Fried Liver Wash, Twentynine Palms",
          "Rock Caves Loop, Twentynine Palms",
          "Covington Loop Segment and Deer Horn Trail, Joshua Tree",
          "North Dome, Tenaya Lake, Half Dome and Happy Isles via Snow Creek and John Muir Trail, Yosemite Valley",
          "Hunter Mountain OHV Road, Death Valley",
          "Alger Lakes via Mono Pass and Parker Pass Trails, Groveland",
          "Death Valley Buttes, Death Valley",
          "Wetland Boardwalk, Trinidad",
          "Juniper Lake to Butte Lake Loop, McArthur",
          "Bridalveil Creek Campground to Ostrander Lake Loop, Yosemite Valley",
          "Tenaya Lake to Half Dome Loop, Yosemite Valley"
         ],
         "lat": [
          37.73495,
          37.74237,
          37.73465,
          36.54685,
          37.74587,
          37.82585,
          37.73388,
          37.71243,
          37.72765,
          37.73257,
          34.00264,
          37.73889,
          36.60485,
          40.47458,
          36.79495,
          36.59655,
          34.02511,
          36.58498,
          37.71658,
          36.51464,
          34.01234,
          37.71241,
          36.79468,
          36.58448,
          37.87338,
          33.73685,
          37.72731,
          36.48145,
          33.984140000000004,
          37.74208,
          37.80649,
          34.11922,
          37.73476,
          33.95082,
          37.50221,
          37.54839,
          36.23035,
          37.71247,
          37.73251,
          41.20785,
          33.99797,
          37.73467,
          36.74697,
          37.74237,
          36.59662,
          36.44886,
          36.56465,
          36.58499,
          37.94641,
          36.60611,
          33.92531,
          40.46067,
          37.742490000000004,
          37.75803,
          36.58576,
          41.30386,
          36.59655,
          40.56491,
          37.91082,
          36.78362,
          36.49183,
          34.04111,
          36.55468,
          36.79469,
          37.83276,
          36.60461,
          37.82576,
          40.43107,
          36.42095,
          33.73697,
          36.70761,
          36.55471,
          36.48131,
          34.00947,
          37.74439,
          34.0752,
          36.45329,
          37.72713,
          36.22072,
          36.69705,
          37.87679,
          36.22988,
          36.45331,
          37.94615,
          37.74467,
          36.42062,
          37.87702,
          36.62006,
          37.71536,
          36.48421,
          37.7394,
          37.85207,
          36.54919,
          40.43732,
          37.81083,
          36.4208,
          40.53626,
          36.55452,
          36.70906,
          36.70747,
          40.44312,
          36.57185,
          36.49216,
          34.11311,
          36.47823,
          36.49497,
          36.79375,
          37.73974,
          34.04983,
          36.63392,
          36.4533,
          34.08116,
          36.27403,
          36.78377,
          41.55442,
          36.80293,
          36.32748,
          34.04989,
          36.4917,
          37.50258,
          36.45329,
          37.99004,
          37.91008,
          36.49166,
          34.02475,
          36.55469,
          37.66167,
          36.42055,
          36.39584,
          41.29883,
          37.61304,
          37.74019,
          37.81165,
          34.07138,
          36.35001,
          37.74212,
          37.71508,
          36.45305,
          37.87,
          33.92689,
          37.87746,
          37.83276,
          37.87052,
          37.94559,
          34.08105,
          37.72704,
          36.72091,
          36.49191,
          37.82575,
          37.74134,
          37.87705,
          40.53591,
          37.87652,
          37.54834,
          34.04903,
          34.0062,
          36.33004,
          37.8909,
          36.49185,
          37.66685,
          36.55493,
          37.72686,
          34.07652,
          37.74339,
          36.71824,
          37.73397,
          40.49452,
          36.60456,
          37.54627,
          37.94624,
          40.44391,
          34.00616,
          36.59665,
          40.45992,
          36.79439,
          37.73897,
          37.53617,
          37.76321,
          37.71652,
          36.48104,
          34.02366,
          36.52758,
          33.98907,
          36.56491,
          36.29856,
          37.82577,
          36.52061,
          36.33218,
          36.74707,
          37.87324,
          34.09477,
          36.79343,
          40.44875,
          33.99859,
          36.06593,
          40.44308,
          36.45327,
          36.60488,
          36.64232,
          36.45381,
          37.82661,
          34.12131,
          34.04114,
          34.00957,
          37.73794,
          36.4527,
          40.49808,
          37.8776,
          37.82578,
          37.73266,
          36.47819,
          37.72039,
          37.71235,
          36.48131,
          41.30748,
          34.04834,
          36.55472,
          36.55502,
          37.01083,
          34.07152,
          37.87714,
          37.87791,
          37.72749,
          36.51472,
          37.7149,
          40.50963,
          36.5907,
          36.72699,
          37.8775,
          36.7538,
          36.44841,
          37.67062,
          33.9887,
          36.79437,
          40.46058,
          40.56518,
          37.72756,
          40.45994,
          37.86871,
          37.71547,
          34.07305,
          40.44862,
          37.73268,
          37.87201,
          36.52054,
          37.72709,
          41.59422,
          33.74456,
          34.09467,
          34.0251,
          36.77243,
          36.58239,
          33.74795,
          37.87745,
          36.7725,
          34.01755,
          34.01662,
          36.30312,
          37.72675,
          37.87733,
          37.82721,
          37.66476,
          36.79631,
          37.74251,
          36.4534,
          37.66194,
          36.72313,
          36.44785,
          34.02377,
          36.44836,
          37.73468,
          40.47636,
          34.07219,
          36.77292,
          37.73275,
          34.13363,
          36.78882,
          40.52691,
          37.5059,
          36.49488,
          37.87584,
          34.04985,
          37.87205,
          37.81161,
          34.07328,
          36.45306,
          37.67052,
          37.8512,
          40.45104,
          36.8222,
          41.20545,
          33.99795,
          36.55501,
          40.31167,
          37.87752,
          36.56535,
          36.74012,
          37.87749,
          37.74001,
          41.55436,
          36.45331,
          34.01578,
          37.72707,
          36.51645,
          37.87804,
          34.01796,
          36.3497,
          37.67052,
          36.76906,
          37.57543,
          37.87079,
          36.75378,
          37.70313,
          37.72736,
          37.87197,
          36.02707,
          36.79423,
          37.75163,
          34.07332,
          37.74255,
          36.42082,
          36.45331,
          34.0616,
          34.12848,
          40.56631,
          36.47987,
          36.73892,
          37.53083,
          36.45143,
          33.84607,
          37.71513,
          40.49788,
          33.99185,
          36.49163,
          36.71731,
          37.79547,
          36.46502,
          34.09453,
          36.77248,
          36.06574,
          36.46454,
          36.60488,
          40.49811,
          41.31742,
          37.74759,
          36.83402,
          40.49451,
          41.52392,
          40.47637,
          33.97758,
          37.72521,
          33.68143,
          37.87817,
          34.01797,
          37.73837,
          37.73468,
          37.94667,
          36.52367,
          36.52073,
          34.09708,
          37.72967,
          36.7725,
          37.74299,
          37.86981,
          37.87063,
          41.75723,
          34.08099,
          41.70647,
          37.0128,
          37.74234,
          36.44882,
          33.97674,
          36.45958,
          40.538,
          36.4785,
          35.85897,
          37.67445,
          37.53649,
          35.93775,
          33.97667,
          33.97667,
          37.73945,
          33.90172,
          37.6714,
          36.72711,
          36.55462,
          37.89319,
          37.01081,
          37.80679,
          37.74284,
          33.73715,
          37.87732,
          37.87771,
          37.89027,
          36.48288,
          40.51565,
          40.45996,
          37.71381,
          37.87204,
          37.11194,
          34.0195,
          40.46061,
          36.86418,
          36.48772,
          37.87227,
          37.73261,
          37.94644,
          34.04105,
          40.56501,
          40.4606,
          36.35184,
          34.02515,
          37.670230000000004,
          36.69389,
          40.44493,
          34.08971,
          37.89063,
          36.70907,
          37.67135,
          37.71389,
          37.87756,
          37.94645,
          37.85198,
          41.20827,
          37.92644,
          34.07442,
          33.84607,
          36.79495,
          37.80664,
          33.99257,
          37.16926,
          41.327,
          37.73235,
          37.87765,
          41.60489,
          36.74321,
          36.3308,
          40.56515,
          40.56379,
          37.87963,
          37.531,
          36.74348,
          36.79494,
          36.63536,
          36.77252,
          36.75104,
          34.01749,
          36.48248,
          37.87346,
          34.0093,
          37.94601,
          35.73869,
          34.06802,
          34.00762,
          36.52563,
          36.77268,
          36.45332,
          33.98371,
          37.87188,
          34.00319,
          34.0237,
          33.92355,
          33.92719,
          37.87206,
          36.55464,
          36.58474,
          37.22668,
          40.46688,
          37.73996,
          41.14824,
          34.04987,
          33.90111,
          37.7148,
          34.0714,
          36.62027,
          36.6046,
          36.45356,
          33.82554,
          37.69844,
          37.54838,
          33.93303,
          40.53652,
          34.04029,
          36.5713,
          33.93303,
          37.87742,
          37.73235,
          33.73692,
          36.74707,
          34.00291,
          36.69439,
          36.56477,
          36.75057,
          36.22563,
          34.08599,
          40.49453,
          36.58456,
          40.46601,
          36.49439,
          36.73995,
          36.48247,
          34.07424,
          37.87836,
          36.54764,
          37.54839,
          36.21773,
          37.73532,
          36.73996,
          35.61407,
          36.79374,
          40.46061,
          37.87961,
          37.01767,
          41.45094,
          36.5549,
          37.87314,
          36.22096,
          37.97397,
          34.00125,
          34.10363,
          40.46657,
          34.01101,
          36.79469,
          34.00955,
          37.86994,
          40.43104,
          40.49452,
          36.22563,
          36.73672,
          38.14677,
          33.82806,
          36.35034,
          36.79039,
          37.82579,
          36.49211,
          36.7947,
          33.90174,
          37.8789,
          36.59654,
          33.74828,
          36.47762,
          36.64162,
          37.8258,
          36.45329,
          35.91989,
          37.8733,
          37.87337,
          37.83428,
          33.99341,
          37.73804,
          37.89098,
          36.61949,
          41.2641,
          40.46056,
          34.08972,
          37.873310000000004,
          36.20145,
          34.0812,
          40.5652,
          37.72958,
          34.04113,
          37.87187,
          37.73395,
          37.75965,
          36.49441,
          36.65905,
          34.07513,
          36.79343,
          41.28719,
          40.43769,
          35.90761,
          37.56612,
          37.78379,
          40.44314,
          37.87203,
          35.89917,
          36.5547,
          34.09423,
          37.87746,
          34.02376,
          36.09819,
          33.92521,
          37.74713,
          36.52104,
          41.20819,
          34.09317,
          36.7947,
          36.64663,
          37.89058,
          36.45331,
          36.77253,
          34.01195,
          37.16922,
          40.49803,
          36.48687,
          37.00979,
          33.73717,
          34.00958,
          36.77249,
          41.52675,
          40.44319,
          37.76352,
          36.55465,
          37.87729,
          37.87335,
          37.94643,
          36.465090000000004,
          37.82575,
          34.00938,
          36.60106,
          36.24328,
          37.74499,
          40.48827,
          36.72279,
          37.67034,
          37.75212,
          36.79608,
          38.10867,
          36.48604,
          36.55489,
          33.97871,
          37.54839,
          37.87196,
          40.46002,
          37.97386,
          36.77252,
          36.80398,
          33.82808,
          34.0656,
          36.38589,
          37.85196,
          36.42094,
          36.75999,
          37.75213,
          36.4208,
          40.51578,
          37.73256,
          40.45434,
          34.0409,
          36.46497,
          36.60836,
          36.56486,
          33.48152,
          37.78432,
          37.67049,
          36.47744,
          34.08599,
          35.91984,
          36.24851,
          37.86983,
          37.95597,
          37.8841,
          40.46698,
          37.87246,
          37.89321,
          37.548,
          36.74089,
          37.78419,
          40.56481,
          36.34264,
          33.69963,
          36.43698,
          35.91015,
          37.71447,
          37.87234,
          37.94645,
          36.45314,
          37.86983,
          37.75067,
          37.87995,
          33.48146,
          37.78258,
          33.92358,
          36.49337,
          37.81176,
          36.49437,
          36.70906,
          36.79494,
          37.91005,
          37.78311,
          36.82184,
          36.79494,
          37.97428,
          37.86983,
          37.86981,
          36.0337,
          40.49455,
          37.73477,
          37.3714,
          34.0493,
          34.09307,
          33.48062,
          37.73936,
          36.58686,
          33.84594,
          33.98986,
          33.91086,
          34.01167,
          34.03196,
          37.74842,
          36.60175,
          37.89104,
          36.723910000000004,
          41.28686,
          40.46665,
          37.66364,
          37.82686
         ],
         "legendgroup": "",
         "lon": [
          -119.56619,
          -119.60223,
          -119.56583,
          -118.76565,
          -119.59266,
          -119.47046,
          -119.60185,
          -119.58632,
          -119.57432,
          -119.55916,
          -116.13594,
          -119.56914,
          -118.72401,
          -121.5057,
          -118.58315,
          -118.73438,
          -116.14173,
          -118.74978,
          -119.65118,
          -118.80085,
          -116.16807,
          -119.58631,
          -118.58289,
          -118.74988,
          -119.38261,
          -115.81058,
          -119.57471,
          -121.18174,
          -116.01655,
          -119.60195,
          -119.54523,
          -116.11198,
          -119.56629,
          -116.15985,
          -119.61064,
          -119.634,
          -116.7668,
          -119.58638,
          -119.55906,
          -123.99318,
          -116.05998,
          -119.56635,
          -118.97319,
          -119.60202,
          -118.73442,
          -118.59542,
          -118.77323,
          -118.74953,
          -119.7873,
          -117.1151,
          -115.92893,
          -121.4593,
          -119.60237,
          -119.80482,
          -118.82695,
          -124.01845,
          -118.73424,
          -121.30184,
          -119.25758,
          -118.62215,
          -121.2096,
          -116.18577,
          -118.74879,
          -118.58292,
          -119.49091,
          -118.72521,
          -119.47008,
          -121.53624,
          -116.80986,
          -115.8107,
          -118.92096,
          -118.74888,
          -121.18169,
          -116.05576,
          -119.5978,
          -116.38802,
          -118.59677,
          -119.57432,
          -116.72648,
          -118.87877,
          -119.34612,
          -117.06829,
          -118.16974,
          -119.78817,
          -119.59736,
          -116.84703,
          -119.35308,
          -118.80928,
          -119.67688,
          -121.16649,
          -119.55955,
          -119.57586,
          -118.76841,
          -121.53306,
          -119.48553,
          -116.81035,
          -121.56251,
          -118.75006,
          -118.92146,
          -118.92094,
          -121.39747,
          -117.14421,
          -121.20995,
          -116.15582,
          -121.18393,
          -121.17305,
          -118.59833,
          -119.55992,
          -119.55657,
          -118.81743,
          -118.59676,
          -116.24206,
          -116.79283,
          -118.62213,
          -124.08646,
          -118.74364,
          -117.51472,
          -119.55633,
          -121.20948,
          -119.60985,
          -118.59677,
          -119.88676,
          -119.25818,
          -121.20927,
          -116.14185,
          -118.7488,
          -119.66137,
          -116.84767,
          -116.83872,
          -124.0335,
          -119.07511,
          -119.56424,
          -119.50898,
          -116.39113,
          -118.76461,
          -119.60212,
          -119.67698,
          -118.59643,
          -119.64876,
          -116.18735,
          -119.35324,
          -119.49093,
          -119.35592,
          -119.78842,
          -116.24199,
          -119.57498,
          -118.97058,
          -121.20958,
          -119.4701,
          -119.60095,
          -119.33825,
          -121.5594,
          -119.34551,
          -119.63394,
          -119.5575,
          -116.08486,
          -116.83007,
          -119.26293,
          -121.20952,
          -119.60389,
          -118.74971,
          -119.57381,
          -116.39906,
          -119.5857,
          -118.89684,
          -119.60189,
          -121.42323,
          -118.72403,
          -119.62943,
          -119.78792,
          -121.40467,
          -116.0849,
          -118.73493,
          -121.47442,
          -118.58391,
          -119.57274,
          -119.65637,
          -119.84228,
          -119.65116,
          -121.18142,
          -116.07747,
          -118.75106,
          -116.16396,
          -118.77284,
          -116.8117,
          -119.47027,
          -118.77135,
          -116.80642,
          -118.97456,
          -119.3827,
          -116.16852,
          -118.66871,
          -121.5358,
          -116.14504,
          -116.74484,
          -121.39718,
          -118.59676,
          -118.72526,
          -117.26994,
          -117.45123,
          -119.59636,
          -115.79436,
          -116.18583,
          -116.05583,
          -119.57,
          -118.59656,
          -121.42736,
          -119.33369,
          -119.46992,
          -119.55842,
          -121.1839,
          -119.64861,
          -119.58631,
          -121.18144,
          -124.05676,
          -119.55981,
          -118.74886,
          -118.74974,
          -117.4549,
          -116.39088,
          -119.39493,
          -119.33884,
          -119.57416,
          -118.80094,
          -119.67668,
          -121.46519,
          -116.98989,
          -118.279,
          -119.35347,
          -118.94648,
          -118.59535,
          -119.6279,
          -116.15398,
          -118.58393,
          -121.45938,
          -121.30164,
          -119.57443,
          -121.47426,
          -119.35538,
          -119.67712,
          -116.39161,
          -121.5357,
          -119.55784,
          -119.37075,
          -118.77148,
          -119.57576,
          -124.0992,
          -115.81238,
          -116.16849,
          -116.14182,
          -118.34139,
          -117.10433,
          -115.82493,
          -119.35383,
          -118.34123,
          -119.68325,
          -119.36207,
          -117.52471,
          -119.57363,
          -119.35325,
          -119.46891,
          -119.6634,
          -118.58385,
          -119.6024,
          -118.59651,
          -119.61941,
          -118.76552,
          -118.1705,
          -116.07778,
          -118.59535,
          -119.56583,
          -121.47908,
          -116.03284,
          -118.3399,
          -119.55784,
          -116.31525,
          -118.67036,
          -121.56122,
          -119.59946,
          -121.17303,
          -119.39182,
          -119.55645,
          -119.37075,
          -119.50897,
          -116.39056,
          -118.1699,
          -119.62794,
          -119.61544,
          -121.29546,
          -117.17391,
          -123.95049,
          -116.06016,
          -118.74921,
          -121.22726,
          -119.35402,
          -118.77398,
          -118.96288,
          -119.3539,
          -119.56425,
          -124.08652,
          -118.59681,
          -116.16277,
          -119.57521,
          -116.67861,
          -119.33888,
          -119.68269,
          -118.76517,
          -119.62793,
          -118.71729,
          -119.68064,
          -119.35591,
          -118.94655,
          -119.75442,
          -119.57502,
          -119.38366,
          -118.51524,
          -118.58248,
          -119.73651,
          -116.39031,
          -119.60239,
          -116.81018,
          -118.5968,
          -116.22756,
          -116.03731,
          -121.29701,
          -116.8733,
          -116.96825,
          -119.44723,
          -118.61145,
          -115.77752,
          -119.67665,
          -121.42716,
          -116.06787,
          -121.20941,
          -118.9639,
          -119.34574,
          -118.67176,
          -116.16852,
          -118.34138,
          -116.74471,
          -118.66717,
          -118.72401,
          -121.42703,
          -124.04071,
          -119.80408,
          -117.73855,
          -121.42319,
          -124.04565,
          -121.47912,
          -116.16596,
          -119.64451,
          -115.80178,
          -119.3387,
          -116.08247,
          -119.40634,
          -119.56577,
          -119.78729,
          -118.76541,
          -118.77161,
          -116.15675,
          -119.55962,
          -118.34112,
          -119.6032,
          -119.64889,
          -119.3558,
          -124.14596,
          -116.24233,
          -124.14323,
          -117.45775,
          -119.55784,
          -118.59544,
          -116.16497,
          -116.85234,
          -121.56756,
          -121.18361,
          -117.17974,
          -119.65124,
          -119.65615,
          -116.70463,
          -116.16523,
          -115.68128,
          -119.56006,
          -115.83481,
          -119.58512,
          -118.27889,
          -118.74869,
          -119.84134,
          -117.45493,
          -119.54619,
          -119.60292,
          -115.81099,
          -119.35339,
          -119.33862,
          -119.2623,
          -121.16193,
          -121.46505,
          -121.4744,
          -119.73242,
          -119.38362,
          -117.6807,
          -119.68476,
          -121.4594,
          -119.02821,
          -121.15168,
          -119.64926,
          -119.55785,
          -119.78727,
          -116.18524,
          -121.30178,
          -121.45942,
          -117.55048,
          -116.14195,
          -119.62811,
          -117.57139,
          -121.52686,
          -116.25895,
          -119.26236,
          -118.92144,
          -119.5851,
          -119.73241,
          -119.33496,
          -119.78729,
          -119.57782,
          -123.75558,
          -119.79509,
          -116.38985,
          -115.77752,
          -118.58291,
          -119.54558,
          -116.06751,
          -118.56601,
          -124.01513,
          -119.5595,
          -119.35367,
          -124.10133,
          -118.77517,
          -117.71478,
          -121.30146,
          -121.3023,
          -119.30293,
          -119.44762,
          -118.97142,
          -118.58292,
          -118.81562,
          -118.34111,
          -119.05548,
          -119.68349,
          -121.16194,
          -119.38225,
          -116.05584,
          -119.78826,
          -116.38247,
          -116.02395,
          -120.04863,
          -118.89034,
          -118.34024,
          -118.59679,
          -120.01923,
          -119.37382,
          -120.09116,
          -116.07775,
          -116.05423,
          -116.18747,
          -119.37065,
          -118.74878,
          -118.74983,
          -118.62804,
          -121.30954,
          -119.55968,
          -123.89313,
          -119.55629,
          -116.08596,
          -119.73491,
          -116.39115,
          -117.6484,
          -118.72575,
          -118.17045,
          -115.75997,
          -119.75723,
          -119.63401,
          -115.9597,
          -121.56198,
          -116.19784,
          -118.80804,
          -115.95977,
          -119.35368,
          -119.55954,
          -115.81082,
          -118.97488,
          -120.05094,
          -117.57159,
          -118.7735,
          -116.93674,
          -116.8816,
          -116.14047,
          -121.42289,
          -118.74987,
          -121.51412,
          -121.14592,
          -118.96254,
          -121.16194,
          -116.03185,
          -119.339,
          -116.89007,
          -119.634,
          -116.72267,
          -119.56652,
          -118.96256,
          -117.67073,
          -118.59844,
          -121.4594,
          -119.3036,
          -117.41107,
          -124.03803,
          -118.7497,
          -119.38284,
          -116.72655,
          -119.88221,
          -116.04996,
          -115.45105,
          -121.30786,
          -119.66036,
          -118.58285,
          -116.30599,
          -119.64888,
          -121.5363,
          -121.42316,
          -116.88152,
          -116.91251,
          -119.38058,
          -115.75912,
          -118.76505,
          -118.66787,
          -119.47026,
          -121.20992,
          -118.5829,
          -115.83487,
          -119.35881,
          -118.73438,
          -115.82429,
          -121.22605,
          -117.29155,
          -119.46937,
          -118.59677,
          -116.6825,
          -119.3826,
          -119.3826,
          -119.46321,
          -120.04382,
          -119.5686,
          -119.26266,
          -117.33029,
          -123.98779,
          -121.45942,
          -116.25897,
          -119.38263,
          -116.76999,
          -116.24199,
          -121.30133,
          -119.55958,
          -116.18574,
          -119.34929,
          -119.60179,
          -119.7975,
          -121.1459,
          -117.07939,
          -116.38798,
          -118.66864,
          -124.05689,
          -121.53295,
          -116.62076,
          -119.53262,
          -119.74173,
          -121.39745,
          -119.37075,
          -116.65586,
          -118.74885,
          -116.37039,
          -119.33499,
          -116.07768,
          -116.8455,
          -115.92883,
          -119.59064,
          -118.77138,
          -123.9933,
          -116.15598,
          -118.58295,
          -118.81489,
          -119.26233,
          -118.5968,
          -118.34124,
          -116.16811,
          -118.56599,
          -121.42714,
          -117.19928,
          -118.32743,
          -115.81073,
          -116.3057,
          -118.34127,
          -124.07919,
          -121.39741,
          -119.84258,
          -118.74871,
          -119.35326,
          -119.38266,
          -119.78756,
          -118.67092,
          -119.4701,
          -116.05554,
          -117.09666,
          -116.88165,
          -119.80146,
          -121.42236,
          -118.7653,
          -119.62806,
          -119.73696,
          -118.58322,
          -119.27884,
          -118.83767,
          -118.74907,
          -120.01049,
          -119.634,
          -119.34929,
          -121.47469,
          -119.88249,
          -118.34124,
          -118.71388,
          -115.75899,
          -116.2294,
          -117.15093,
          -119.57786,
          -116.81009,
          -117.54233,
          -119.73697,
          -116.81035,
          -121.4651,
          -119.55788,
          -121.29614,
          -116.18523,
          -118.67094,
          -117.14413,
          -118.77271,
          -119.02957,
          -119.74133,
          -119.62791,
          -121.22545,
          -116.14036,
          -116.68249,
          -117.12722,
          -119.64895,
          -119.26656,
          -119.85089,
          -121.30947,
          -119.64933,
          -119.84106,
          -119.63454,
          -118.73841,
          -119.74113,
          -121.30189,
          -117.38866,
          -115.6785,
          -117.60708,
          -116.57937,
          -119.73634,
          -119.64932,
          -119.78757,
          -118.16989,
          -119.64895,
          -119.73356,
          -119.84984,
          -119.02955,
          -119.12859,
          -116.05416,
          -116.70383,
          -119.50901,
          -121.14585,
          -118.92146,
          -118.58292,
          -119.81475,
          -119.12791,
          -117.17427,
          -118.58292,
          -119.90277,
          -119.64895,
          -119.64868,
          -117.28167,
          -121.42319,
          -119.56597,
          -118.39686,
          -119.56288,
          -116.15632,
          -119.02959,
          -119.5706,
          -118.24013,
          -115.77769,
          -116.02328,
          -115.86521,
          -116.16202,
          -116.31427,
          -119.58746,
          -117.46085,
          -119.2629,
          -116.97807,
          -124.08977,
          -121.30926,
          -119.62455,
          -119.46842
         ],
         "marker": {
          "color": "#636efa"
         },
         "mode": "markers",
         "name": "",
         "showlegend": false,
         "subplot": "mapbox",
         "type": "scattermapbox"
        }
       ],
       "layout": {
        "legend": {
         "tracegroupgap": 0
        },
        "mapbox": {
         "center": {
          "lat": 36.983666280056575,
          "lon": -118.92843052333805
         },
         "domain": {
          "x": [
           0,
           1
          ],
          "y": [
           0,
           1
          ]
         },
         "style": "carto-positron",
         "zoom": 8
        },
        "margin": {
         "t": 60
        },
        "template": {
         "data": {
          "bar": [
           {
            "error_x": {
             "color": "#2a3f5f"
            },
            "error_y": {
             "color": "#2a3f5f"
            },
            "marker": {
             "line": {
              "color": "#E5ECF6",
              "width": 0.5
             },
             "pattern": {
              "fillmode": "overlay",
              "size": 10,
              "solidity": 0.2
             }
            },
            "type": "bar"
           }
          ],
          "barpolar": [
           {
            "marker": {
             "line": {
              "color": "#E5ECF6",
              "width": 0.5
             },
             "pattern": {
              "fillmode": "overlay",
              "size": 10,
              "solidity": 0.2
             }
            },
            "type": "barpolar"
           }
          ],
          "carpet": [
           {
            "aaxis": {
             "endlinecolor": "#2a3f5f",
             "gridcolor": "white",
             "linecolor": "white",
             "minorgridcolor": "white",
             "startlinecolor": "#2a3f5f"
            },
            "baxis": {
             "endlinecolor": "#2a3f5f",
             "gridcolor": "white",
             "linecolor": "white",
             "minorgridcolor": "white",
             "startlinecolor": "#2a3f5f"
            },
            "type": "carpet"
           }
          ],
          "choropleth": [
           {
            "colorbar": {
             "outlinewidth": 0,
             "ticks": ""
            },
            "type": "choropleth"
           }
          ],
          "contour": [
           {
            "colorbar": {
             "outlinewidth": 0,
             "ticks": ""
            },
            "colorscale": [
             [
              0,
              "#0d0887"
             ],
             [
              0.1111111111111111,
              "#46039f"
             ],
             [
              0.2222222222222222,
              "#7201a8"
             ],
             [
              0.3333333333333333,
              "#9c179e"
             ],
             [
              0.4444444444444444,
              "#bd3786"
             ],
             [
              0.5555555555555556,
              "#d8576b"
             ],
             [
              0.6666666666666666,
              "#ed7953"
             ],
             [
              0.7777777777777778,
              "#fb9f3a"
             ],
             [
              0.8888888888888888,
              "#fdca26"
             ],
             [
              1,
              "#f0f921"
             ]
            ],
            "type": "contour"
           }
          ],
          "contourcarpet": [
           {
            "colorbar": {
             "outlinewidth": 0,
             "ticks": ""
            },
            "type": "contourcarpet"
           }
          ],
          "heatmap": [
           {
            "colorbar": {
             "outlinewidth": 0,
             "ticks": ""
            },
            "colorscale": [
             [
              0,
              "#0d0887"
             ],
             [
              0.1111111111111111,
              "#46039f"
             ],
             [
              0.2222222222222222,
              "#7201a8"
             ],
             [
              0.3333333333333333,
              "#9c179e"
             ],
             [
              0.4444444444444444,
              "#bd3786"
             ],
             [
              0.5555555555555556,
              "#d8576b"
             ],
             [
              0.6666666666666666,
              "#ed7953"
             ],
             [
              0.7777777777777778,
              "#fb9f3a"
             ],
             [
              0.8888888888888888,
              "#fdca26"
             ],
             [
              1,
              "#f0f921"
             ]
            ],
            "type": "heatmap"
           }
          ],
          "heatmapgl": [
           {
            "colorbar": {
             "outlinewidth": 0,
             "ticks": ""
            },
            "colorscale": [
             [
              0,
              "#0d0887"
             ],
             [
              0.1111111111111111,
              "#46039f"
             ],
             [
              0.2222222222222222,
              "#7201a8"
             ],
             [
              0.3333333333333333,
              "#9c179e"
             ],
             [
              0.4444444444444444,
              "#bd3786"
             ],
             [
              0.5555555555555556,
              "#d8576b"
             ],
             [
              0.6666666666666666,
              "#ed7953"
             ],
             [
              0.7777777777777778,
              "#fb9f3a"
             ],
             [
              0.8888888888888888,
              "#fdca26"
             ],
             [
              1,
              "#f0f921"
             ]
            ],
            "type": "heatmapgl"
           }
          ],
          "histogram": [
           {
            "marker": {
             "pattern": {
              "fillmode": "overlay",
              "size": 10,
              "solidity": 0.2
             }
            },
            "type": "histogram"
           }
          ],
          "histogram2d": [
           {
            "colorbar": {
             "outlinewidth": 0,
             "ticks": ""
            },
            "colorscale": [
             [
              0,
              "#0d0887"
             ],
             [
              0.1111111111111111,
              "#46039f"
             ],
             [
              0.2222222222222222,
              "#7201a8"
             ],
             [
              0.3333333333333333,
              "#9c179e"
             ],
             [
              0.4444444444444444,
              "#bd3786"
             ],
             [
              0.5555555555555556,
              "#d8576b"
             ],
             [
              0.6666666666666666,
              "#ed7953"
             ],
             [
              0.7777777777777778,
              "#fb9f3a"
             ],
             [
              0.8888888888888888,
              "#fdca26"
             ],
             [
              1,
              "#f0f921"
             ]
            ],
            "type": "histogram2d"
           }
          ],
          "histogram2dcontour": [
           {
            "colorbar": {
             "outlinewidth": 0,
             "ticks": ""
            },
            "colorscale": [
             [
              0,
              "#0d0887"
             ],
             [
              0.1111111111111111,
              "#46039f"
             ],
             [
              0.2222222222222222,
              "#7201a8"
             ],
             [
              0.3333333333333333,
              "#9c179e"
             ],
             [
              0.4444444444444444,
              "#bd3786"
             ],
             [
              0.5555555555555556,
              "#d8576b"
             ],
             [
              0.6666666666666666,
              "#ed7953"
             ],
             [
              0.7777777777777778,
              "#fb9f3a"
             ],
             [
              0.8888888888888888,
              "#fdca26"
             ],
             [
              1,
              "#f0f921"
             ]
            ],
            "type": "histogram2dcontour"
           }
          ],
          "mesh3d": [
           {
            "colorbar": {
             "outlinewidth": 0,
             "ticks": ""
            },
            "type": "mesh3d"
           }
          ],
          "parcoords": [
           {
            "line": {
             "colorbar": {
              "outlinewidth": 0,
              "ticks": ""
             }
            },
            "type": "parcoords"
           }
          ],
          "pie": [
           {
            "automargin": true,
            "type": "pie"
           }
          ],
          "scatter": [
           {
            "fillpattern": {
             "fillmode": "overlay",
             "size": 10,
             "solidity": 0.2
            },
            "type": "scatter"
           }
          ],
          "scatter3d": [
           {
            "line": {
             "colorbar": {
              "outlinewidth": 0,
              "ticks": ""
             }
            },
            "marker": {
             "colorbar": {
              "outlinewidth": 0,
              "ticks": ""
             }
            },
            "type": "scatter3d"
           }
          ],
          "scattercarpet": [
           {
            "marker": {
             "colorbar": {
              "outlinewidth": 0,
              "ticks": ""
             }
            },
            "type": "scattercarpet"
           }
          ],
          "scattergeo": [
           {
            "marker": {
             "colorbar": {
              "outlinewidth": 0,
              "ticks": ""
             }
            },
            "type": "scattergeo"
           }
          ],
          "scattergl": [
           {
            "marker": {
             "colorbar": {
              "outlinewidth": 0,
              "ticks": ""
             }
            },
            "type": "scattergl"
           }
          ],
          "scattermapbox": [
           {
            "marker": {
             "colorbar": {
              "outlinewidth": 0,
              "ticks": ""
             }
            },
            "type": "scattermapbox"
           }
          ],
          "scatterpolar": [
           {
            "marker": {
             "colorbar": {
              "outlinewidth": 0,
              "ticks": ""
             }
            },
            "type": "scatterpolar"
           }
          ],
          "scatterpolargl": [
           {
            "marker": {
             "colorbar": {
              "outlinewidth": 0,
              "ticks": ""
             }
            },
            "type": "scatterpolargl"
           }
          ],
          "scatterternary": [
           {
            "marker": {
             "colorbar": {
              "outlinewidth": 0,
              "ticks": ""
             }
            },
            "type": "scatterternary"
           }
          ],
          "surface": [
           {
            "colorbar": {
             "outlinewidth": 0,
             "ticks": ""
            },
            "colorscale": [
             [
              0,
              "#0d0887"
             ],
             [
              0.1111111111111111,
              "#46039f"
             ],
             [
              0.2222222222222222,
              "#7201a8"
             ],
             [
              0.3333333333333333,
              "#9c179e"
             ],
             [
              0.4444444444444444,
              "#bd3786"
             ],
             [
              0.5555555555555556,
              "#d8576b"
             ],
             [
              0.6666666666666666,
              "#ed7953"
             ],
             [
              0.7777777777777778,
              "#fb9f3a"
             ],
             [
              0.8888888888888888,
              "#fdca26"
             ],
             [
              1,
              "#f0f921"
             ]
            ],
            "type": "surface"
           }
          ],
          "table": [
           {
            "cells": {
             "fill": {
              "color": "#EBF0F8"
             },
             "line": {
              "color": "white"
             }
            },
            "header": {
             "fill": {
              "color": "#C8D4E3"
             },
             "line": {
              "color": "white"
             }
            },
            "type": "table"
           }
          ]
         },
         "layout": {
          "annotationdefaults": {
           "arrowcolor": "#2a3f5f",
           "arrowhead": 0,
           "arrowwidth": 1
          },
          "autotypenumbers": "strict",
          "coloraxis": {
           "colorbar": {
            "outlinewidth": 0,
            "ticks": ""
           }
          },
          "colorscale": {
           "diverging": [
            [
             0,
             "#8e0152"
            ],
            [
             0.1,
             "#c51b7d"
            ],
            [
             0.2,
             "#de77ae"
            ],
            [
             0.3,
             "#f1b6da"
            ],
            [
             0.4,
             "#fde0ef"
            ],
            [
             0.5,
             "#f7f7f7"
            ],
            [
             0.6,
             "#e6f5d0"
            ],
            [
             0.7,
             "#b8e186"
            ],
            [
             0.8,
             "#7fbc41"
            ],
            [
             0.9,
             "#4d9221"
            ],
            [
             1,
             "#276419"
            ]
           ],
           "sequential": [
            [
             0,
             "#0d0887"
            ],
            [
             0.1111111111111111,
             "#46039f"
            ],
            [
             0.2222222222222222,
             "#7201a8"
            ],
            [
             0.3333333333333333,
             "#9c179e"
            ],
            [
             0.4444444444444444,
             "#bd3786"
            ],
            [
             0.5555555555555556,
             "#d8576b"
            ],
            [
             0.6666666666666666,
             "#ed7953"
            ],
            [
             0.7777777777777778,
             "#fb9f3a"
            ],
            [
             0.8888888888888888,
             "#fdca26"
            ],
            [
             1,
             "#f0f921"
            ]
           ],
           "sequentialminus": [
            [
             0,
             "#0d0887"
            ],
            [
             0.1111111111111111,
             "#46039f"
            ],
            [
             0.2222222222222222,
             "#7201a8"
            ],
            [
             0.3333333333333333,
             "#9c179e"
            ],
            [
             0.4444444444444444,
             "#bd3786"
            ],
            [
             0.5555555555555556,
             "#d8576b"
            ],
            [
             0.6666666666666666,
             "#ed7953"
            ],
            [
             0.7777777777777778,
             "#fb9f3a"
            ],
            [
             0.8888888888888888,
             "#fdca26"
            ],
            [
             1,
             "#f0f921"
            ]
           ]
          },
          "colorway": [
           "#636efa",
           "#EF553B",
           "#00cc96",
           "#ab63fa",
           "#FFA15A",
           "#19d3f3",
           "#FF6692",
           "#B6E880",
           "#FF97FF",
           "#FECB52"
          ],
          "font": {
           "color": "#2a3f5f"
          },
          "geo": {
           "bgcolor": "white",
           "lakecolor": "white",
           "landcolor": "#E5ECF6",
           "showlakes": true,
           "showland": true,
           "subunitcolor": "white"
          },
          "hoverlabel": {
           "align": "left"
          },
          "hovermode": "closest",
          "mapbox": {
           "style": "light"
          },
          "paper_bgcolor": "white",
          "plot_bgcolor": "#E5ECF6",
          "polar": {
           "angularaxis": {
            "gridcolor": "white",
            "linecolor": "white",
            "ticks": ""
           },
           "bgcolor": "#E5ECF6",
           "radialaxis": {
            "gridcolor": "white",
            "linecolor": "white",
            "ticks": ""
           }
          },
          "scene": {
           "xaxis": {
            "backgroundcolor": "#E5ECF6",
            "gridcolor": "white",
            "gridwidth": 2,
            "linecolor": "white",
            "showbackground": true,
            "ticks": "",
            "zerolinecolor": "white"
           },
           "yaxis": {
            "backgroundcolor": "#E5ECF6",
            "gridcolor": "white",
            "gridwidth": 2,
            "linecolor": "white",
            "showbackground": true,
            "ticks": "",
            "zerolinecolor": "white"
           },
           "zaxis": {
            "backgroundcolor": "#E5ECF6",
            "gridcolor": "white",
            "gridwidth": 2,
            "linecolor": "white",
            "showbackground": true,
            "ticks": "",
            "zerolinecolor": "white"
           }
          },
          "shapedefaults": {
           "line": {
            "color": "#2a3f5f"
           }
          },
          "ternary": {
           "aaxis": {
            "gridcolor": "white",
            "linecolor": "white",
            "ticks": ""
           },
           "baxis": {
            "gridcolor": "white",
            "linecolor": "white",
            "ticks": ""
           },
           "bgcolor": "#E5ECF6",
           "caxis": {
            "gridcolor": "white",
            "linecolor": "white",
            "ticks": ""
           }
          },
          "title": {
           "x": 0.05
          },
          "xaxis": {
           "automargin": true,
           "gridcolor": "white",
           "linecolor": "white",
           "ticks": "",
           "title": {
            "standoff": 15
           },
           "zerolinecolor": "white",
           "zerolinewidth": 2
          },
          "yaxis": {
           "automargin": true,
           "gridcolor": "white",
           "linecolor": "white",
           "ticks": "",
           "title": {
            "standoff": 15
           },
           "zerolinecolor": "white",
           "zerolinewidth": 2
          }
         }
        }
       }
      },
      "text/html": [
       "<div>                            <div id=\"1dbb1bd7-a8df-4638-ac44-2a0a0c215ae3\" class=\"plotly-graph-div\" style=\"height:525px; width:100%;\"></div>            <script type=\"text/javascript\">                require([\"plotly\"], function(Plotly) {                    window.PLOTLYENV=window.PLOTLYENV || {};                                    if (document.getElementById(\"1dbb1bd7-a8df-4638-ac44-2a0a0c215ae3\")) {                    Plotly.newPlot(                        \"1dbb1bd7-a8df-4638-ac44-2a0a0c215ae3\",                        [{\"hovertemplate\":\"\\u003cb\\u003e%{hovertext}\\u003c\\u002fb\\u003e\\u003cbr\\u003e\\u003cbr\\u003elat=%{lat}\\u003cbr\\u003elong=%{lon}\\u003cextra\\u003e\\u003c\\u002fextra\\u003e\",\"hovertext\":[\"Vernal and Nevada Falls via the Mist Trail, Yosemite Valley\",\"Upper Yosemite Falls Trail, Yosemite Valley\",\"Half Dome Trail, Yosemite Valley\",\"Moro Rock Trail, Three Rivers\",\"Lower Yosemite Falls Trail, Yosemite Valley\",\"Clouds Rest Trail via Tenaya Lake, Yosemite Valley\",\"Four Mile Trail, Yosemite Valley\",\"Sentinel Dome Trail, Yosemite Valley\",\"Glacier Point Trail, Yosemite Valley\",\"Vernal Falls, Yosemite Valley\",\"Ryan Mountain Trail, Twentynine Palms\",\"Mirror Lake via Valley Loop Trail, Yosemite Valley\",\"Tokopah Falls via Tokopah Valley Trail, Sequoia National Park\",\"Lassen Peak, Old Station\",\"Mist Falls Trail, Hume\",\"Heather Lake, Emerald Lake, and Pear Lake Trail via Watchtower and Pear Lake Trails, Three Rivers\",\"Barker Dam Nature Trail, Twentynine Palms\",\"General Sherman Tree Trail, Three Rivers\",\"Bridalveil Fall Trail, Yosemite Valley\",\"Marble Falls Trail, Three Rivers\",\"Hidden Valley Nature Trail, Twentynine Palms\",\"Taft Point and The Fissures, Yosemite Valley\",\"Rae Lakes Trail, Cedar Grove\",\"Congress Trail, Three Rivers\",\"Cathedral Lakes Trail, Yosemite Valley\",\"Lost Palms Oasis, Indio\",\"Vernal and Nevada Falls via the Panorama Trail, Yosemite Valley\",\"Condor Gulch Trail to High Peaks Trail Loop, Paicines\",\"Arch Rock Nature Trail, Twentynine Palms\",\"Columbia Rock Trail, Yosemite Valley\",\"Porcupine Creek Trail to Indian Ridge Natural Arch to North Dome, Yosemite Valley\",\"Fortynine Palms Oasis Trail, Twentynine Palms\",\"John Muir Trail via Yosemite Valley, Yosemite Valley\",\"Lost Horse Mine Loop Trail, Twentynine Palms\",\"Mariposa Grove of Giant Sequoias Trail, Yosemite Valley\",\"Chilnualna Falls Trail, Yosemite Valley\",\"Badwater Basin Salt Flats Trail, Death Valley\",\"Sentinel Dome and Taft Point Loop, Yosemite Valley\",\"Nevada Falls, Yosemite Valley\",\"Tall Trees Grove Loop Trail, Trinidad\",\"Skull Rock Nature Trail, Twentynine Palms\",\"Clouds Rest Trail from Yosemite Valley, Yosemite Valley\",\"General Grant Loop Trail, Dunlap\",\"El Capitan Trail (historical), Yosemite Valley\",\"Alta Peak Trail, Three Rivers\",\"Mineral King to Eagle Lake Trail, Three Rivers\",\"Big Trees Trail, Three Rivers\",\"Giant Forest Loop Trail, Three Rivers\",\"Wapama Falls Trail, Long Barn\",\"Mesquite Flat Sand Dunes Trail, Death Valley\",\"Cholla Cactus Garden Nature Trail, Twentynine Palms\",\"Kings Creek Falls Trail, Old Station\",\"Yosemite Point, Yosemite Valley\",\"Tuolumne Grove Trail, Yosemite Valley\",\"Crystal Cave Trail, Three Rivers\",\"Lady Bird Johnson Grove Trail, Orick\",\"Heather Lake via Watchtower Trail, Three Rivers\",\"Cinder Cone Nature Trail, Old Station\",\"Mount Dana Summit Trail, Lee Vining\",\"Zumwalt Meadow And Roaring River Falls, Stony Creek Village\",\"Old Pinnacles Trail Loop, Soledad\",\"Willow Hole Trail, Joshua Tree\",\"High Sierra Trail: Crescent Meadow to Whitney Portal, Three Rivers\",\"Paradise Valley Trail, Hume\",\"Mount Hoffman Trail, Yosemite Valley\",\"Twin Lakes Trail, Stony Creek Village\",\"Tenaya Lake Trail, Yosemite Valley\",\"Brokeoff Mountain Trail, Mill Creek\",\"Zabriskie Point, Death Valley\",\"Mastodon Peak Loop Trail, Mecca\",\"Redwood Canyon Sugar Bowl Trail, Stony Creek Village\",\"Crescent and Log Meadows Trail, Three Rivers\",\"Bear Gulch Day Use Area to Reservoir via Rim Trail, Paicines\",\"Split Rock Loop Trail, Twentynine Palms\",\"Sentinel Meadow Cook's Meadow Loop Trail, Yosemite Valley\",\"Black Rock Canyon to Panorama Loop Trail, Yucca Valley\",\"Mineral King to Little Five Lakes Trail, Three Rivers\",\"Illilouette Falls Trail, Yosemite Valley\",\"Dante's View Trail, Death Valley\",\"Big Baldy Ridge Trail, Stony Creek Village\",\"Tuolumne Meadows to Glen Aulin High Sierra Camp, Yosemite Valley\",\"Telescope Peak Trail, Death Valley\",\"Mount Langley, Lone Pine\",\"Hetch Hetchy Trail to Rancheria Falls, Long Barn\",\"Valley Floor Loop Trail, Yosemite Valley\",\"Golden Canyon Trail to Red Cathedral, Death Valley\",\"Lembert Dome Loop, Yosemite Valley\",\"Little Baldy Trail, Three Rivers\",\"Inspiration Point Trail, Yosemite Valley\",\"High Peaks Trail, Paicines\",\"Mirror Lake from Shuttle Stop 17, Yosemite Valley\",\"Ten Lakes Trail, Yosemite Valley\",\"Hanging Rock Trail, Three Rivers\",\"Mill Creek Falls Trail, Mill Creek\",\"Olmsted Point Nature Trail, Yosemite Valley\",\"Golden Canyon and Gower Gulch Loop via Zabriskie Point, Death Valley\",\"Manzanita Lake Loop, Old Station\",\"High Sierra Trail to Hamilton Lakes, Three Rivers\",\"Sugar Bowl - Redwood Creek Loop, Stony Creek Village\",\"Hart Tree, Fallen Goliath, Redwood Creek Loop, Stony Creek Village\",\"Devil's Kitchen Trail, Chester\",\"Mosaic Canyon Trail, Death Valley\",\"High Peaks & Balconies Cave Loop Trail, Paicines\",\"Boy Scout Trail To Willow Hole Extended Route, Twentynine Palms\",\"Moses Spring Trail to Bear Gulch Reservoir, Paicines\",\"Old Pinnacles Trail to Balconies, Paicines\",\"Zumwalt Meadow Loop Trail, Hume\",\"Mirror Lake Paved Trail, Yosemite Valley\",\"Potato Harbor Trail, Ventura\",\"Muir Grove Trail, Three Rivers\",\"Monarch Lakes Trail, Three Rivers\",\"The Maze Loop, Twentynine Palms\",\"Death Valley Natural Bridge Road, Death Valley\",\"Roaring River Falls Trail, Cedar Grove\",\"Hidden Beach and False Klamath Rock, Klamath\",\"Grizzly Falls, Dunlap\",\"Darwin Falls Trail via Old Toll Road, Darwin\",\"Smugglers Cove Trail, Ventura\",\"Balconies Trail, Paicines\",\"Grizzly Giant Loop Trail, Fish Camp\",\"Sawtooth Pass Trail, Three Rivers\",\"Kibbie Lake Trail, Mi Wuk Village\",\"Gaylor Lakes Trail, Lee Vining\",\"Juniper Canyon Trail to High Peaks, Paicines\",\"Wall Street Mill Trail, Twentynine Palms\",\"Eagle View Trail, Three Rivers\",\"Dewey Point Trail, Yosemite Valley\",\"Gower Gulch Loop Trail, Death Valley\",\"Desolation Canyon Trail, Death Valley\",\"Redwood Creek Trail, Orick\",\"John Muir Trail in Kings Canyon, Mammoth Lakes\",\"Snow Creek Falls Trail, Yosemite Valley\",\"May Lake High Sierra Camp from Tioga Pass Road, Yosemite Valley\",\"Black Rock Canyon Trail to Warren Peak, Yucca Valley\",\"Ladybug Camp Trail, Three Rivers\",\"El Capitan Loop, Yosemite Valley\",\"Artist Point Trail, Yosemite Valley\",\"Franklin Lakes Trail, Three Rivers\",\"Grand Canyon of the Tuolumne, Yosemite Valley\",\"Keys View Loop to Inspiration Point Trail, Thousand Palms\",\"Young Lakes Trail Loop, Yosemite Valley\",\"May Lake, Yosemite Valley\",\"Elizabeth Lake Trail, Yosemite Valley\",\"Hetch Hetchy Loop via Lake Vernon, Groveland\",\"North View and Maze Trails, Twentynine Palms\",\"Panorama Trail to Little Yosemite Valley, Yosemite Valley\",\"Big Stump Loop Trail, Dunlap\",\"Balconies Cave Trail, Paicines\",\"Sunrise Lakes Trail, Yosemite Valley\",\"Eagle Peak Trail, Yosemite Valley\",\"Tuolumne Meadows to Yosemite Valley Trail, Yosemite Valley\",\"Chaos Crags Trail, Old Station\",\"Lyell Canyon and Vogelsang Loop Trail, Yosemite Valley\",\"Lower Chilnualna Falls Trail, Yosemite Valley\",\"Scorpion Bay to Cavern Point Loop, Ventura\",\"Berdoo Canyon, Twentynine Palms\",\"Artists Drive, Death Valley\",\"Mono Pass Trail, Lee Vining\",\"Balconies Trail to Machete Ridge, Paicines\",\"Ostrander Lake Trail, Yosemite Valley\",\"Tharp's Log Trail, Three Rivers\",\"Pohono Trail Glacier Point to Inspiration Point, Yosemite Valley\",\"High View Nature Trail, Yucca Valley\",\"Yosemite Valley to Tuolumne Meadows Trail, Yosemite Valley\",\"Buena Vista Trail, Stony Creek Village\",\"Four Mile Trail to Panorama Trail Loop, Yosemite Valley\",\"Cluster Lakes Loop Trail, Old Station\",\"Lodgepole and Willow Meadow, Three Rivers\",\"Swinging Bridge Trail, Yosemite Valley\",\"Rancheria Falls Trail, Long Barn\",\"Boiling Springs Lake Loop Trail, Old Station\",\"Joshua Tree National Park Geology OHV Tour Road, Twentynine Palms\",\"Nine Lakes Basin Loop Trail, Three Rivers\",\"Cold Boiling Lake Trail to Bumpass Hell Trail, Old Station\",\"Road's End to the Bailey Bridge, Hume\",\"Yosemite Grand Tour, Yosemite Valley\",\"Wawona Meadow Loop Trail, Yosemite Valley\",\"Merced Grove Trail, Yosemite Valley\",\"West Valley Loop Trail, Yosemite Valley\",\"High Peaks and Bear Gulch Loop Trail, Paicines\",\"Desert Queen Mine and Eagle Cliff Boulder House, Twentynine Palms\",\"Bearpaw Meadow to Redwood Meadow Trail, Three Rivers\",\"Cap Rock and Gram Parsons Nature Trail, Twentynine Palms\",\"Sunset Rock, Three Rivers\",\"Devil's Golf Course, Death Valley\",\"May Lake from Sunrise Lakes Trailhead, Yosemite Valley\",\"Paradise Creek Trail, Three Rivers\",\"Artist's Palette, Death Valley\",\"North Grove Loop Trail, Dunlap\",\"Tuolumne Meadow to Cathedral Pass, Yosemite Valley\",\"Indian Cove Campground Trail, Twentynine Palms\",\"Hotel Creek Trail to Cedar Grove Overlook, Cedar Grove\",\"Ridge Lakes Trail, Old Station\",\"Hall of Horrors, Twentynine Palms\",\"Sidewinder Canyon, Death Valley\",\"Terminal Geyser & Boiling Springs Lake, Chester\",\"Crystal Lake via Sawtooth Pass Trail, Three Rivers\",\"Ranger Lake, Three Rivers\",\"Cottonwood-Marble Canyon Loop, Death Valley\",\"Panamint Dunes Trail, Death Valley\",\"Yosemite Creek Trail, Yosemite Valley\",\"Old Dale Road, Twentynine Palms\",\"Joshua Tree Boy Scout Trail, Joshua Tree\",\"Eagle Cliff Mine, Twentynine Palms\",\"East Valley Floor Trail, Yosemite Valley\",\"Mineral King Loop, Three Rivers\",\"Echo Lake Trail, Old Station\",\"Lembert Dome Trail, Yosemite Valley\",\"Clouds Rest Loop, Yosemite Valley\",\"Vernal, Nevada, and Illilouette Fall Route, Yosemite Valley\",\"Chalone Peak Trail, Paicines\",\"Bridalveil Falls from Southside Drive, Yosemite Valley\",\"Pohnono Trail to Sentinel Dome Trail Loop, Yosemite Valley\",\"Condor Gulch Trail To Overlook, Paicines\",\"Skunk Cabbage Trail, Orick\",\"El Montanon Trail, Ventura\",\"Bearpaw Meadow to Hamilton Lake Trail, Sequoia National Park\",\"Crescent Meadow Loop Trail, Three Rivers\",\"Ubehebe and Little Hebe Crater Trail, Death Valley\",\"Black Rock Canyon Trail, Yucca Valley\",\"Pothole Dome Trail, Yosemite Valley\",\"Tuolumne River Loop: Dana and Lyell Forks, Yosemite Valley\",\"Panorama Trail, Yosemite Valley\",\"Potwisha Campground Trail, Three Rivers\",\"Stanford Point Trail, Yosemite Valley\",\"Paradise Meadow Trail, Old Station\",\"Salt Creek Interpretive Trail, Death Valley\",\"Mount Williamson Trail, Independence\",\"Dog Lake Trail, Yosemite Valley\",\"Park Ridge Trail Panoramic Point to Park Ridge Fire Lookout, Dunlap\",\"First Mosquito Lake Trail, Three Rivers\",\"Dewey Point via McGurk Meadow Trail, Yosemite Valley\",\"Ryan Ranch Trail, Twentynine Palms\",\"Bubbs Creek Trail, Hume\",\"Kings Creek Falls, Bench Lake, and Sifford Lake Loop Trail, Old Station\",\"Butte Lake-Snag Lake-Cinder Cone Loop, McArthur\",\"Taft Point via Glacier Point, Yosemite Valley\",\"Cold Boiling Lake Trail, Old Station\",\"John Muir Trail: Tuolumne to Reds Meadow, Yosemite Valley\",\"The Pohono Trail from Inspiration Point, Yosemite Valley\",\"West Side Loop Trail, Yucca Valley\",\"Sulphur Works, Old Station\",\"John Muir Trail: Happy Isles to Tuolumne Meadows, Yosemite Valley\",\"Soda Springs and Parsons Lodge Trail, Yosemite Valley\",\"Middle Fork Kaweah Falls from Hospital Rock, Three Rivers\",\"Pohono Trail: Glacier Point to Dewey Point, Yosemite Valley\",\"Yurok Loop Trail, Orick\",\"Cottonwood Spring Nature Trail, Mecca\",\"Joshua Tree Peak Trail, Twentynine Palms\",\"Garrett's Arch, Twentynine Palms\",\"Onion Valley, Kearsarge Pass, Forrester Pass, Shepherds Pass Backpacking Trip, Seven Pines\",\"Grotto Canyon, Death Valley\",\"Pinkham Canyon OHV Road, Mecca\",\"PCT: CA Section I - Tuolumne Meadow to Sonora Pass, Yosemite Valley\",\"Onion Valley to Gardiner Lake, Independence\",\"Santa Cruz Island: Pelican Bay And Prisoners Harbor Trails, Santa Barbara\",\"East Anacapa Island Trail, Ventura\",\"Darwin Falls Trail, Darwin\",\"Merced Lake Loop Trail, Yosemite Valley\",\"Waterwheel Falls and Glen Aulin Trail, Yosemite Valley\",\"Murphy Creek Trail to Polly Dome Lake, Yosemite Valley\",\"Badger Pass to Glacier Point Trail, Yosemite Valley\",\"Copper Creek Trail, Hume\",\"Valley Loop Trail, Yosemite Valley\",\"Mineral King: Black Rock Pass Loop, Three Rivers\",\"Bridalveil Creek Loop Trail, Yosemite Valley\",\"Seville Lake Trail, Stony Creek Village\",\"Horseshoe Meadow Trail, Lone Pine\",\"Pine City Trail, Twentynine Palms\",\"White Chief Canyon Trail, Three Rivers\",\"Happy Isles to Cloud's Rest Loop, Yosemite Valley\",\"Terrace, Shadow, and Cliff Lakes, Old Station\",\"Contact Mine Trail, Twentynine Palms\",\"Onion Valley Campground to Rae Lakes via Kearsarge Pass, Seven Pines\",\"Vernal Fall Foot Bridge via Mist and John Muir Trail, Yosemite Valley\",\"Joshua Tree National Park Scenic Drive, Joshua Tree\",\"Don Cecil Trail, Dunlap\",\"Manzanita Creek Trail, Old Station\",\"Mariposa Cabin Trail, Fish Camp\",\"Old Pinnacles, Balconies Cliffs, Juniper Canyon, High Peaks and Bench Trail Loop, Soledad\",\"Tuolumne River Trail, Yosemite Valley\",\"Scorpion Canyon Loop Trail, Ventura\",\"Waterwheel Falls Trail, Yosemite Valley\",\"May Lake to Glen Aulin Trail, Yosemite Valley\",\"California Riding and Hiking Trail, Yucca Valley\",\"Horseshoe Meadows to Mount Whitney and Whitney Portal Trailhead via New Army Pass, Lone Pine\",\"McGurk Meadow Trail, Yosemite Valley\",\"Lukens Lake Trail, Yosemite Valley\",\"Mount Harkness Loop Trail, Chester\",\"Fall Canyon Trail, Death Valley\",\"Dolason Prairie Trail, Orick\",\"Skull Rock Discovery Trail, Twentynine Palms\",\"Sugar Pine Trail, Three Rivers\",\"Lassen Volcanic National Park Scenic Drive, Chester\",\"Waterwheel Falls and the Grand Canyon of the Tuolumne Trail, Yosemite Valley\",\"Bear Hill Trail, Three Rivers\",\"Sequoia Lake Trail, Stony Creek Village\",\"The High Sierra Camp Loop Trail, Yosemite Valley\",\"Mirror Lake, Snow Creek, and Upper Yosemite Falls Loop, Yosemite Valley\",\"Klamath Overlook, Klamath\",\"Sawtooth Pass Trail to Columbine Lake, Three Rivers\",\"Hidden Valley Campground to Barker Dam Nature Trail, Twentynine Palms\",\"Glacier Point to Union Point, Yosemite Valley\",\"Echo Pass and Inyo Mine OHV Loop, Death Valley\",\"Lembert Dome from Tuolomne Meadows Lodge Road, Lee Vining\",\"Del Norte and Montanon Trail to Scorpion Campgroud, Ventura\",\"Garfield Grove Trail, Three Rivers\",\"Dewey, Crocker, and Stanford Point via the Pohono Trail, Yosemite Valley\",\"Lookout Peak Hike, Dunlap\",\"Alder Creek Loop Trail, Yosemite Valley\",\"Nelson Lake Trail, Yosemite Valley\",\"Panoramic Point, Cedar Grove\",\"Little Nellie Falls Trail, Yosemite Valley\",\"Glacier Point to Half Dome, Yosemite Valley\",\"Cathedral Lakes to Clouds Rest, Yosemite Valley\",\"Alder Creek Falls, Johnsondale\",\"Granite Lake and Granite Pass Trail, Hume\",\"Tamarack Flat to El Capitan, Yosemite Valley\",\"Eureka Peak Trail, Yucca Valley\",\"North Dome Trail via Upper Yosemite Falls Trail, Yosemite Valley\",\"Zabriskie Point and Gower Gulch Path Loop, Death Valley\",\"Timber Gap Trail, Three Rivers\",\"Samuelsons Rocks Trail, Twentynine Palms\",\"Oasis of Mara Nature Trail, Twentynine Palms\",\"Butte Lake, Snag Lake, Twin Lake, Silver Lake Loop, Old Station\",\"Harmony Borax Works, Death Valley\",\"Corkscrew Peak, Death Valley\",\"Clark Range Circuit, Oakhurst\",\"Cold Springs Nature Trail, Three Rivers\",\"Porcupine Wash Ruby Lee Mill Site Trail, Coolidge Springs\",\"Tunnel View to Dewey Point, Yosemite Valley\",\"Summit, Horshoe, Snag, Cinder Cone, Rainbow, Twin, and Echo Lakes Loop, Old Station\",\"Crown Prince Lookout Trail, Twentynine Palms\",\"Juniper Canyon Trail to High Peaks Trail Loop, Paicines\",\"Kings Canyon National Scenic Byway, Cedar Grove\",\"Vogelsang Camp to Merced Lake Trail, Yosemite Valley\",\"Paradise Ridge Trail, Three Rivers\",\"Sneakeye Spring Trail, Twentynine Palms\",\"Mount Gould Trail, Seven Pines\",\"Willow Canyon Trail, Death Valley\",\"Evelyn Lake Trail, Three Rivers\",\"Deadman Canyon Backpack Trip, Three Rivers\",\"Summit Lake, Horshoe Lake, Snag Lake, Cinder Cone, Twin Lakes, and Echo Lake loop, Old Station\",\"Berry Glen and Lady Bird Grove Trail, Orick\",\"Crane Flat Lookout Trail, Yosemite Valley\",\"Saline Valley Hot Spring, Lone Pine\",\"Rainbow Lake Trail, Old Station\",\"Flint Ridge Section Trail, Klamath\",\"Shadow Lake Trail, Old Station\",\"California Riding and Hiking Trail: Keys View Road to Pinto Basin Road, Twentynine Palms\",\"Old Big Oak Flat Access Road, Yosemite Valley\",\"Bajada Nature Walk, Mecca\",\"Mount Lyell, Lee Vining\",\"Lucky Boy Vista Trail to Elton Mine, Twentynine Palms\",\"Merced Lake to Sunrise Camp Trail, Yosemite Valley\",\"Merced Lake Trail, Yosemite Valley\",\"Beehive Meadow Trail, Groveland\",\"Middle Fork Kaweah Trail, Three Rivers\",\"Hospital Rock to Potwisha Trail, Three Rivers\",\"Mount Bob Loop from Indian Cove Campground, Twentynine Palms\",\"The Clark Range and Red Peak Pass Trail, Yosemite Valley\",\"Bullfrog Lake, Independence\",\"Yosemite Falls Trail to North Dome, Yosemite Valley\",\"Lukens Lake from White Wolf, Yosemite Valley\",\"Vogelsang Lake and Volesang Pass Trail, Yosemite Valley\",\"Mill Creek Horse Trail, Crescent City\",\"Big Pine Trail, Joshua Tree\",\"Last Chance California Coastal Trail, Crescent City\",\"Racetrack Valley OHV Road, Death Valley\",\"Mist Trail, Cloud Rest, May Lake and Snow Creek Loop, Yosemite Valley\",\"Eagle and Mosquito Lakes, Three Rivers\",\"Quail Mountain via Juniper Flats, Twentynine Palms\",\"Texas Springs Trail, Death Valley\",\"Reflection Lake Trail, Old Station\",\"High Peaks Trail to Old Pinnacles Trail to Condor Gulch Trail Loop, Paicines\",\"Goler Canyon OHV Road, Trona\",\"Dewey Point Trail, Yosemite Valley\",\"Mariposa Grove to Wawona Lodge, Fish Camp\",\"Death Valley West Side OHV Road, Death Valley\",\"Stubby Springs Loop, Twentynine Palms\",\"Brooklyn Mine OHV Trail, Twentynine Palms\",\"Snow Creek Falls, Tenaya Lake, Yosemite Valley via JMT, Yosemite Valley\",\"Pinto Mountain Trail, Twentynine Palms\",\"Mono Meadow Trail, Yosemite Valley\",\"Mount Tyndall Trail, Independence\",\"Bobcat Point Loop, Three Rivers\",\"Lookout Point Trail, Groveland\",\"Ubeheh Crater Path, Death Valley\",\"Porcupine Creek to Indian Rock, North Dome, and Columbia Rock via Tioga Pass Road, Yosemite Valley\",\"Upper Yosemite Falls, North Dome, Indian Rock, Snow Creek, Yosemite Valley\",\"Conejo Well and Eagle Mountains Trail, Mecca\",\"Young Lakes via Dog Lake Trail, Yosemite Valley\",\"John Muir Trail: Tuolume Meadows to Donohue Pass, Yosemite Valley\",\"Mono and Parker Pass Trail to Spillway Lake, Lee Vining\",\"Condor Gulch Overlook Loop via Peaks View Area, Paicines\",\"Devastated Area Interpretive Trail, Old Station\",\"Crumbaugh Lake via Cold Boiling Lake Trail, Old Station\",\"North Rim Trail, Yosemite Valley\",\"Cathedral Lakes Trailhead to Yosemite Valley via Half Dome, Yosemite Valley\",\"Eureka Dunes, Bishop\",\"Cueva Valdez to Arch Rock Trail, Ventura\",\"King Creek Falls, Bench and Seaford Lakes, Old Station\",\"Kings River Trail, Shaver Lake\",\"Bench Trail, Paicines\",\"Harden Lake Trail, Yosemite Valley\",\"John Muir Trail: Yosemite Valley to Tenaya Lake, Yosemite Valley\",\"Jack Main Canyon and Tilden Lake Trail, Groveland\",\"Quail Mountain Trail, Twentynine Palms\",\"Butte Lake to Snag Lake loop, Old Station\",\"King's Creek Falls to Devil's Kitchen, Old Station\",\"Father Crowley Vista, Darwin\",\"Wonderland Wash, Twentynine Palms\",\"Buena Vista Crest Trail to Royal Arch Lake, Yosemite Valley\",\"The Grandstand via Racetrack Trail, Death Valley\",\"Diamond Peak Trail, Old Station\",\"Joshua Tree West Side Trail, Twentynine Palms\",\"Koip Peak Trail, Lee Vining\",\"Redwood Canyon to Redwood Creek, Badger\",\"Ottoway Lakes Trail, Oakhurst\",\"Old Big Oak Flat to Yosemite Falls, Yosemite Valley\",\"Tuolumne Meadows lodge to Vogelsang Camp, Yosemite Valley\",\"Laurel Lake Trail, Long Barn\",\"Tioga Road to Yosemite Falls and Eagle Peak, Yosemite Valley\",\"Bald Hills Road, Hoopa\",\"Smith Peak Trail, Yosemite Valley\",\"Joshua Tree Short Loop Trail and Canyon View Trail Hike, Yucca Valley\",\"Porcupine Wash to Monument Mountain Trail, Coolidge Springs\",\"Paradise Valley Trail to Woods Creek Crossing, Hume\",\"Tioga Pass Road to Yosemite Valley, Yosemite Valley\",\"Jumbo Rocks Campground Loop, Twentynine Palms\",\"Palisade Basin, Big Pine\",\"Lost Man Creek Trail, Orick\",\"Mirror Lake, Valley Loop Trail, Yosemite Valley\",\"Dog Lake Trail and Lambert Dome Trail Loop, Lee Vining\",\"Coastal Trail: Demartin Section, Klamath\",\"Lost Lake Trail, Stony Creek Village\",\"Saline Valley OHV Road, Darwin\",\"Prospect Peak Trail, Old Station\",\"Lower Twin and Snag Lakes Loop Trail, Old Station\",\"Lower Gaylor Lake Trail, Yosemite Valley\",\"Chain Lakes Trail from Clark Range Trailhead, Oakhurst\",\"Azalea Campground to Big Stump Grove, Cedar Grove\",\"Mt. Whitney Loop, Hume\",\"Dorst \\u002f Lost Grove Trail, Three Rivers\",\"Kearsarge Pass Trail to John Muir Trail Loop, Independence\",\"Delilah Fire Lookout OHV Trail, Dunlap\",\"Pelican Bay Trail, Ventura\",\"Peaks View Day Use Area to Bear Gulch Day Use Area Trail, Paicines\",\"Cathedral Peak: Climber's Approach, Yosemite Valley\",\"Eagle Cliffs Lucky Boy Vista loop, Twentynine Palms\",\"O'Shaughnessy Dam to Tuolumne River, Long Barn\",\"Ibex Dunes Trail, Tecopa\",\"Park Blvd Scenic Drive, Twentynine Palms\",\"Santa Rosa Island - Pier to Ford Point, Santa Barbara\",\"Shepherd Saddle Road, Three Rivers\",\"Bubbs Creek Trail, Lone Pine\",\"Chihuahua Mine, Three Rivers\",\"Torrey Pines Trail, Santa Barbara\",\"Tuolumne Meadows to Tenaya Lake via Pacific Crest and Glen Aulin Trails, Yosemite Valley\",\"Lobo Canyon Trail, Santa Barbara\",\"Joshua Tree Queen Mountain, Twentynine Palms\",\"Hexahedron Mine Trail, Twentynine Palms\",\"Keys View Nature Trail, Thousand Palms\",\"Tuolumne Meadow to White Wolf via Pacific Crest Trail, Yosemite Valley\",\"High Sierra Trail: Ninemile Creek to Bearpaw Meadow, Three Rivers\",\"Huckleberry Meadow Trail, Three Rivers\",\"North Lake Loop via Lamarck Col and Alpine Col, Bishop\",\"Horseshoe Lake Trail, Chester\",\"Snow Creek Trail to Yosemite Falls Trail via North Dome, Yosemite Valley\",\"Lyons Ranch Trail, Hoopa\",\"Smugglers Road, Scorpion Canyon and Potato Harbor, Ventura\",\"Pushawalla Plateau and Canyon Trail, Indio\",\"Old Big Oak Flat Road, Yosemite Valley\",\"Burnt Hill Trail, Yucca Valley\",\"Lippincott Mine Road, Keeler\",\"General Sherman via Lodgepole, Sequoia National Park\",\"Mount Whitney via Cottonwood Lakes, Lone Pine\",\"Black Eagle Mine OHV Trail, Mecca\",\"Foresta Falls Trail, Yosemite Valley\",\"Chilnualna Falls Extended Loop, Yosemite Valley\",\"Golden Bell and Eldorado Mine Trail, Twentynine Palms\",\"Lily Pond Nature Trail, Old Station\",\"Quail Wash to West Entrance Wash Trail, Joshua Tree\",\"Upper Colony Mill Trail, Three Rivers\",\"Silver Bell Mine Hike, Twentynine Palms\",\"Young Lakes and Mount Conness Summit, Yosemite Valley\",\"Happy Isles, Vernall Falls, Half Dome, Tenaya Lake, and Mirror Lakes Loop, Yosemite Valley\",\"Moorten's Mill Trail, Mecca\",\"North Grove and Sunset Trail, Cedar Grove\",\"East Point Trail, Santa Barbara\",\"Ubehebe Peak Trail, Death Valley\",\"Bear Hill Trail to Moro Rock Trail Loop, Three Rivers\",\"Chloride City OHV Trail, Death Valley\",\"Telescope Peak via Shorty's Well Route, Death Valley\",\"Corral Wall Trail, Twentynine Palms\",\"Upper and Lower Twin Lake Trail, Old Station\",\"Circle Meadows via Congress Trail, Sequoia National Park\",\"Bumpass Hell Trail  [CLOSED], Old Station\",\"Visitor Center to Peaks View Day Use Area, Paicines\",\"Viola Falls Trail, Stony Creek Village\",\"Peaks View Day Use Area to Old Pinnacles Trailhead, Paicines\",\"California Riding & Hiking Trail, Twentynine Palms\",\"Dog Dome and Dog Lake, Lee Vining\",\"Indian Pass, Death Valley\",\"Buena Vista, Royal Arch, and Crescent Lakes Loop, Yosemite Valley\",\"Coffin Peak, Death Valley\",\"Merced Lake to Half Dome Loop via John Muir, Pack and Cloud Rest Trails, Yosemite Valley\",\"Manzanita and Azalea Trail, Badger\",\"Ridgecrest to Death Valley OHV Trail, Ridgecrest\",\"Zumwalt Meadow Trail to Kanawyers Trail Loop, Hume\",\"King Creek Falls and Bench Lake Loop, Old Station\",\"Mammoth Peak, Yosemite Valley\",\"Death Valley Scenic Drive OHV Trail, Bishop\",\"Ah-Pah Interpretive Trail, Orick\",\"Nine Lake Basin, Three Rivers\",\"John Muir to Clouds Rest to Mist Trail, Yosemite Valley\",\"Mt. Perry, Death Valley\",\"Lake Eleanor Hike, Groveland\",\"Live Oak Tank and Ivanpah Tank, Twentynine Palms\",\"Scorpius Arch Loop, Twentynine Palms\",\"Inspiration Point Trail, Chester\",\"Santa Cruz Island: Del Norte Campground to Chinese Harbor, Ventura\",\"King's Canyon to Mt Whitney, Hume\",\"Crest View Trail, Joshua Tree\",\"White Wolf to Pate Valley Trail, Yosemite Valley\",\"Forest Lake Trail, Mill Creek\",\"Twin Lakes, Horseshoe Lake, and Summit Lake, Old Station\",\"Hanaupah Canyon Trail, Death Valley\",\"Monarch Canyon\\u002fMine Trail, Death Valley\",\"Matterhorn Canyon and the Sawtooth Range Trail, Bridgeport\",\"Sand Dunes via Mecca Dale Road, Mecca\",\"Cahoon Rock from South Fork Campground, Three Rivers\",\"Kings River, Dunlap\",\"Tenaya Lake to May Lake to Mount Hoffman, Yosemite Valley\",\"North Wilderness Trail to Twin Knolls, Paicines\",\"Roads End to Onion Valley Trail, Hume\",\"Turkey Flats Sand Dunes, Twentynine Palms\",\"Benson Pass - Northeast Yosemite Grand Tour, Yosemite Valley\",\"Emerald Lake, Sequoia National Park\",\"Monument Mountain from Pinkham Canyon Trailhead, Mecca\",\"Pinnacles Overlook Trail, Paicines\",\"Marble Canyon Petroglyphs, Death Valley\",\"John Muir Trail: Tenaya Lake to Reds Meadow, Yosemite Valley\",\"Sawtooth Pass to Timber Gap Trail, Three Rivers\",\"Ashford Canyon Trail, Shoshone\",\"Echo Ridge & Echo Peaks, Yosemite Valley\",\"John Muir Trail: Cathedral Lakes Trail to Clouds Rest, Yosemite Valley\",\"Tenaya Lake Trail, Yosemite Valley\",\"Black Mountain Trail, Ventura\",\"Yosemite to Agnew Meadows, Yosemite Valley\",\"Parker Pass to Lyell Canyon, Lee Vining\",\"Swaney Loop, Death Valley\",\"Holter Ridge via Lost Man Trail, Orick\",\"Sifford Lakes Trail, Old Station\",\"Joshua Tree Burro Loop Trail Hike, Twentynine Palms\",\"Cathedral Peak: Southeast Buttress, Yosemite Valley\",\"Helios Canyon, Death Valley\",\"North Canyon Trail, Twentynine Palms\",\"Bathtub Lake Trail, Old Station\",\"Merced Lake High Sierra Camp Trail, Yosemite Valley\",\"Wonderland Of Rocks Traverse, Twentynine Palms\",\"Tuolome, Sunrise and Merced Lakes, and Vogelslang Loop, Yosemite Valley\",\"Taft Point via Four Mile Trail, Yosemite Valley\",\"Gin Flat Loop, Yosemite Valley\",\"Visitor Center to Bacon Ranch, Paicines\",\"Historic Stovepipe Well, Death Valley\",\"Burnt Hill Trail and Canyon View Trail Loop, Yucca Valley\",\"East Kennedy Lake Trail, Dunlap\",\"McArthur Creek Loop Trail, Orick\",\"Bumpass Hell from Kohm Yah-mah-nee visitor center, Mill Creek\",\"Kaleidoscope Canyon Trail, Shoshone\",\"Crescent Lake to Buena Vista Lake, Yosemite Valley\",\"Tamarack Creek Trail, Yosemite Valley\",\"Drake Lake Trail, Chester\",\"Young Lakes Trail, Yosemite Valley\",\"Harry Wade Road OHV Trail, Shoshone\",\"High Sierra Trail to Lakes Trail, Three Rivers\",\"Covington Trail, Yucca Valley\",\"Ireland Lake Trail, Yosemite Valley\",\"Negro Hill Trail, Twentynine Palms\",\"Johnson Canyon OHV Trail, Death Valley\",\"Golden Bee Mine Trail, Twentynine Palms\",\"Yosemite Valley East Loop, Yosemite Valley\",\"Kaweah River Trail, Three Rivers\",\"Tall Trees Access Road, Trinidad\",\"Morbid Mound Trail, Twentynine Palms\",\"Avalanche Pass Trail to Roaring River Via Kanawyers Trail, Hume\",\"Cabin Creek Trail, Three Rivers\",\"Walker Lake Trail, Lee Vining\",\"Pinto Lake Trail, Three Rivers\",\"Vidette Meadow Trail, Independence\",\"Candlestein Pass Trail, Twentynine Palms\",\"Bishop Pass Trail, Bishop\",\"Summit Lake to Kings Creek Trail, Old Station\",\"Lower Telephone Canyon, Death Valley\",\"Bench Lake Trail, Big Pine\",\"Mastodon Peak and Eagle Mountain, Mecca\",\"Quail Mountain from Covington Crest Trailhead, Joshua Tree\",\"Junction Meadow Via Kearsarge Pass and Bubbs Creek Trails, Independence\",\"The Farm Trail, Klamath\",\"Dream Lake Trail, Chester\",\"Sugar Pine Grove Trail, Yosemite Valley\",\"Crescent Meadow to Tamarack Lake, Three Rivers\",\"Tuolumne Meadows to Vogelsang Pass, Yosemite Valley\",\"John Muir Trail From Tioga Pass Road to the Merced River, Yosemite Valley\",\"Hetch Hechy Reservoir to Sierra Crest Backpacking Loop, Yosemite Valley\",\"Bearpaw Meadow Via Paradise Ridge Trail, Three Rivers\",\"Yosemite High Country Open Loop, Yosemite Valley\",\"Love Land Wash, Twentynine Palms\",\"Little Bridge Canyon Trail, Death Valley\",\"Tule Springs, Death Valley\",\"Clark Range Viewpoint, Yosemite Valley\",\"Corral Meadow Loop Trail, Old Station\",\"Rowell Trailhead to Comanche Meadows, Stony Creek Village\",\"Westfall Meadows Trail, Yosemite Valley\",\"Tamarack Flat to Yosemite Valley, Yosemite Valley\",\"Big SEKI Loop, Hume\",\"McCabe Lakes Trail, Bridgeport\",\"Generals Highway Scenic Drive, Three Rivers\",\"Tharp's Log and Huckleberry Trail Loop, Three Rivers\",\"Skunk Point Loop, Ventura\",\"Wowona to Half Dome to Yosemite Valley, Yosemite Valley\",\"Vogelsang Basin Loop via John Muir Trail, Yosemite Valley\",\"Twin Meadows Trail, Old Station\",\"Lake Eleanor to Laurel Lake, Groveland\",\"Onion Valley to Horseshoe Meadows, Independence\",\"Deer Cove To Cedar Grove, Cedar Grove\",\"Old Dale Road: Pinto Basin Road to Route 62, Coolidge Springs\",\"Negropolis Trail, Twentynine Palms\",\"Skidoo OHV Road, Death Valley\",\"Yosemite Creek Trail to Yosemite Creek Campground, Yosemite Valley\",\"Manly Beacon via Zabriskie Point and Gower Gulch, Death Valley\",\"Hidden Valley OHV Drive, Death Valley\",\"Cascade Creek from Tamarack Campground Trail, Yosemite Valley\",\"Red Canyon, Manly Beacon, Zabriskie Point Loop, Death Valley\",\"Raker Peak Loop, Old Station\",\"Merced River High Trail, Yosemite Valley\",\"Crystal Lake Trail, Chester\",\"Reggie Dome, Twentynine Palms\",\"Paradise Peak, Three Rivers\",\"Pride Rock, Death Valley\",\"Huckleberry Trail to Alta Trail Loop, Three Rivers\",\"Santa Barbara Island Loop, Malibu\",\"South Fork of the Tuolumne Trail, Yosemite Valley\",\"Pohono Trail via McGurk Meadow Trail, Yosemite Valley\",\"Visitor Contact Station to Vista Point, Paicines\",\"Rattlesnake Canyon from Indian Cove Picnic Area, Twentynine Palms\",\"Scotty's Spring, Death Valley\",\"Pinon Mesa via Hummingbird Spring Trail, Death Valley\",\"White Wolf to Upper Yosemite Falls to Yosemite Valley Lodge, Wawona\",\"White Mountain via Sawmill Walk-in Campground, Lee Vining\",\"Aspen Valley Trail, Groveland\",\"Jakey Lake Trail, Chester\",\"White Wolf to Smith Meadow Trail, Yosemite Valley\",\"Mather Ranger Station to Smith Meadow Trail, Groveland\",\"Crescent Lake from Chilnualna Falls Trailhead, Yosemite Valley\",\"Trans Sierra Trip: Colby Pass Trail, High Sierra Trail, John Muir Trail, Mount Whitney, PCT, Hume\",\"Tamarack Creek to El Capitan, Yosemite Valley\",\"Butte Lake, Cluster Lakes and Cinder Cone Loop, McArthur\",\"Big 4 Mines OHV Trail, Death Valley\",\"Careys Castle Trail [CLOSED], Mecca\",\"Jack Gunn Maltese Peak Trail, Death Valley\",\"Jubilee Mountain, Death Valley\",\"Big Oak Flat Road to Tuloumne Meadows, Yosemite Valley\",\"White Wolf to Aspen Valley Trail, Yosemite Valley\",\"Miguel Meadow to Lake Eleanor to Laurel Lake Loop, Groveland\",\"Mount Whitney from Cottonwood Lakes Walk in Campground, Lone Pine\",\"Grand Canyon of the Tuolumne and Rogers Lake, Wawona\",\"Tamarack Flat to Eagle Peak, Yosemite Valley\",\"Hetch Hetchy to Yosemite Valley, Groveland\",\"Elephant Seal Cove Trail, Malibu\",\"Silver Lake to Yosemite Village, June Lake\",\"Pleasant Valley To El Dorado Mine and Pinto Basin, Twentynine Palms\",\"Inyo Mine Trail, Death Valley\",\"May Lake Camp to Yosemite Valley, Yosemite Valley\",\"Visitor Center to Butterfield Homestead Trail, Paicines\",\"Redwood Creek Trail, Badger\",\"Rae Lake via Bubbs Creek, Hume\",\"Poopenaut Valley Trail, Groveland\",\"Mt. Lyell Base via John Muir and Rush Creek Trail, Lee Vining\",\"Titus Canyon Narrows, Death Valley\",\"Florence Lake via Kings Canyon on the John Muir and Pacific Crest Trail, Sequoia National Park\",\"Lake Eleanor Campground, Groveland\",\"White Wolf to Piute Creek and the Grand Canyon of the Tuolumne River, Wawona\",\"White Wolf to Aspen Valley Trail, Yosemite Valley\",\"Goler Wash and Mengal Pass Route, Death Valley\",\"Boiling Springs Lake via Kings Creek and Pacific Crest Trail, Old Station\",\"Diving Board, Yosemite Valley\",\"Bishop OHV Loop, Bishop\",\"Monta\\u00f1on Ridge Loop, Ventura\",\"Rattle Snake Canyon to Oh-Bay-Yo-Yo Shelter Hike, Twentynine Palms\",\"Arch Point Loop Trail, Malibu\",\"Snow Creek, May Lake and Clouds Rest Loop, Yosemite Valley\",\"John Muir Trail, Lone Pine\",\"Porcupine Wash Ruby Lee Mill Site Trail, Blythe\",\"5 Tanks Including Twin Tanks, Ivanpah and Live Oak Tanks, Twentynine Palms\",\"Pinto Basin Fried Liver Wash, Twentynine Palms\",\"Rock Caves Loop, Twentynine Palms\",\"Covington Loop Segment and Deer Horn Trail, Joshua Tree\",\"North Dome, Tenaya Lake, Half Dome and Happy Isles via Snow Creek and John Muir Trail, Yosemite Valley\",\"Hunter Mountain OHV Road, Death Valley\",\"Alger Lakes via Mono Pass and Parker Pass Trails, Groveland\",\"Death Valley Buttes, Death Valley\",\"Wetland Boardwalk, Trinidad\",\"Juniper Lake to Butte Lake Loop, McArthur\",\"Bridalveil Creek Campground to Ostrander Lake Loop, Yosemite Valley\",\"Tenaya Lake to Half Dome Loop, Yosemite Valley\"],\"lat\":[37.73495,37.74237,37.73465,36.54685,37.74587,37.82585,37.73388,37.71243,37.72765,37.73257,34.00264,37.73889,36.60485,40.47458,36.79495,36.59655,34.02511,36.58498,37.71658,36.51464,34.01234,37.71241,36.79468,36.58448,37.87338,33.73685,37.72731,36.48145,33.984140000000004,37.74208,37.80649,34.11922,37.73476,33.95082,37.50221,37.54839,36.23035,37.71247,37.73251,41.20785,33.99797,37.73467,36.74697,37.74237,36.59662,36.44886,36.56465,36.58499,37.94641,36.60611,33.92531,40.46067,37.742490000000004,37.75803,36.58576,41.30386,36.59655,40.56491,37.91082,36.78362,36.49183,34.04111,36.55468,36.79469,37.83276,36.60461,37.82576,40.43107,36.42095,33.73697,36.70761,36.55471,36.48131,34.00947,37.74439,34.0752,36.45329,37.72713,36.22072,36.69705,37.87679,36.22988,36.45331,37.94615,37.74467,36.42062,37.87702,36.62006,37.71536,36.48421,37.7394,37.85207,36.54919,40.43732,37.81083,36.4208,40.53626,36.55452,36.70906,36.70747,40.44312,36.57185,36.49216,34.11311,36.47823,36.49497,36.79375,37.73974,34.04983,36.63392,36.4533,34.08116,36.27403,36.78377,41.55442,36.80293,36.32748,34.04989,36.4917,37.50258,36.45329,37.99004,37.91008,36.49166,34.02475,36.55469,37.66167,36.42055,36.39584,41.29883,37.61304,37.74019,37.81165,34.07138,36.35001,37.74212,37.71508,36.45305,37.87,33.92689,37.87746,37.83276,37.87052,37.94559,34.08105,37.72704,36.72091,36.49191,37.82575,37.74134,37.87705,40.53591,37.87652,37.54834,34.04903,34.0062,36.33004,37.8909,36.49185,37.66685,36.55493,37.72686,34.07652,37.74339,36.71824,37.73397,40.49452,36.60456,37.54627,37.94624,40.44391,34.00616,36.59665,40.45992,36.79439,37.73897,37.53617,37.76321,37.71652,36.48104,34.02366,36.52758,33.98907,36.56491,36.29856,37.82577,36.52061,36.33218,36.74707,37.87324,34.09477,36.79343,40.44875,33.99859,36.06593,40.44308,36.45327,36.60488,36.64232,36.45381,37.82661,34.12131,34.04114,34.00957,37.73794,36.4527,40.49808,37.8776,37.82578,37.73266,36.47819,37.72039,37.71235,36.48131,41.30748,34.04834,36.55472,36.55502,37.01083,34.07152,37.87714,37.87791,37.72749,36.51472,37.7149,40.50963,36.5907,36.72699,37.8775,36.7538,36.44841,37.67062,33.9887,36.79437,40.46058,40.56518,37.72756,40.45994,37.86871,37.71547,34.07305,40.44862,37.73268,37.87201,36.52054,37.72709,41.59422,33.74456,34.09467,34.0251,36.77243,36.58239,33.74795,37.87745,36.7725,34.01755,34.01662,36.30312,37.72675,37.87733,37.82721,37.66476,36.79631,37.74251,36.4534,37.66194,36.72313,36.44785,34.02377,36.44836,37.73468,40.47636,34.07219,36.77292,37.73275,34.13363,36.78882,40.52691,37.5059,36.49488,37.87584,34.04985,37.87205,37.81161,34.07328,36.45306,37.67052,37.8512,40.45104,36.8222,41.20545,33.99795,36.55501,40.31167,37.87752,36.56535,36.74012,37.87749,37.74001,41.55436,36.45331,34.01578,37.72707,36.51645,37.87804,34.01796,36.3497,37.67052,36.76906,37.57543,37.87079,36.75378,37.70313,37.72736,37.87197,36.02707,36.79423,37.75163,34.07332,37.74255,36.42082,36.45331,34.0616,34.12848,40.56631,36.47987,36.73892,37.53083,36.45143,33.84607,37.71513,40.49788,33.99185,36.49163,36.71731,37.79547,36.46502,34.09453,36.77248,36.06574,36.46454,36.60488,40.49811,41.31742,37.74759,36.83402,40.49451,41.52392,40.47637,33.97758,37.72521,33.68143,37.87817,34.01797,37.73837,37.73468,37.94667,36.52367,36.52073,34.09708,37.72967,36.7725,37.74299,37.86981,37.87063,41.75723,34.08099,41.70647,37.0128,37.74234,36.44882,33.97674,36.45958,40.538,36.4785,35.85897,37.67445,37.53649,35.93775,33.97667,33.97667,37.73945,33.90172,37.6714,36.72711,36.55462,37.89319,37.01081,37.80679,37.74284,33.73715,37.87732,37.87771,37.89027,36.48288,40.51565,40.45996,37.71381,37.87204,37.11194,34.0195,40.46061,36.86418,36.48772,37.87227,37.73261,37.94644,34.04105,40.56501,40.4606,36.35184,34.02515,37.670230000000004,36.69389,40.44493,34.08971,37.89063,36.70907,37.67135,37.71389,37.87756,37.94645,37.85198,41.20827,37.92644,34.07442,33.84607,36.79495,37.80664,33.99257,37.16926,41.327,37.73235,37.87765,41.60489,36.74321,36.3308,40.56515,40.56379,37.87963,37.531,36.74348,36.79494,36.63536,36.77252,36.75104,34.01749,36.48248,37.87346,34.0093,37.94601,35.73869,34.06802,34.00762,36.52563,36.77268,36.45332,33.98371,37.87188,34.00319,34.0237,33.92355,33.92719,37.87206,36.55464,36.58474,37.22668,40.46688,37.73996,41.14824,34.04987,33.90111,37.7148,34.0714,36.62027,36.6046,36.45356,33.82554,37.69844,37.54838,33.93303,40.53652,34.04029,36.5713,33.93303,37.87742,37.73235,33.73692,36.74707,34.00291,36.69439,36.56477,36.75057,36.22563,34.08599,40.49453,36.58456,40.46601,36.49439,36.73995,36.48247,34.07424,37.87836,36.54764,37.54839,36.21773,37.73532,36.73996,35.61407,36.79374,40.46061,37.87961,37.01767,41.45094,36.5549,37.87314,36.22096,37.97397,34.00125,34.10363,40.46657,34.01101,36.79469,34.00955,37.86994,40.43104,40.49452,36.22563,36.73672,38.14677,33.82806,36.35034,36.79039,37.82579,36.49211,36.7947,33.90174,37.8789,36.59654,33.74828,36.47762,36.64162,37.8258,36.45329,35.91989,37.8733,37.87337,37.83428,33.99341,37.73804,37.89098,36.61949,41.2641,40.46056,34.08972,37.873310000000004,36.20145,34.0812,40.5652,37.72958,34.04113,37.87187,37.73395,37.75965,36.49441,36.65905,34.07513,36.79343,41.28719,40.43769,35.90761,37.56612,37.78379,40.44314,37.87203,35.89917,36.5547,34.09423,37.87746,34.02376,36.09819,33.92521,37.74713,36.52104,41.20819,34.09317,36.7947,36.64663,37.89058,36.45331,36.77253,34.01195,37.16922,40.49803,36.48687,37.00979,33.73717,34.00958,36.77249,41.52675,40.44319,37.76352,36.55465,37.87729,37.87335,37.94643,36.465090000000004,37.82575,34.00938,36.60106,36.24328,37.74499,40.48827,36.72279,37.67034,37.75212,36.79608,38.10867,36.48604,36.55489,33.97871,37.54839,37.87196,40.46002,37.97386,36.77252,36.80398,33.82808,34.0656,36.38589,37.85196,36.42094,36.75999,37.75213,36.4208,40.51578,37.73256,40.45434,34.0409,36.46497,36.60836,36.56486,33.48152,37.78432,37.67049,36.47744,34.08599,35.91984,36.24851,37.86983,37.95597,37.8841,40.46698,37.87246,37.89321,37.548,36.74089,37.78419,40.56481,36.34264,33.69963,36.43698,35.91015,37.71447,37.87234,37.94645,36.45314,37.86983,37.75067,37.87995,33.48146,37.78258,33.92358,36.49337,37.81176,36.49437,36.70906,36.79494,37.91005,37.78311,36.82184,36.79494,37.97428,37.86983,37.86981,36.0337,40.49455,37.73477,37.3714,34.0493,34.09307,33.48062,37.73936,36.58686,33.84594,33.98986,33.91086,34.01167,34.03196,37.74842,36.60175,37.89104,36.723910000000004,41.28686,40.46665,37.66364,37.82686],\"legendgroup\":\"\",\"lon\":[-119.56619,-119.60223,-119.56583,-118.76565,-119.59266,-119.47046,-119.60185,-119.58632,-119.57432,-119.55916,-116.13594,-119.56914,-118.72401,-121.5057,-118.58315,-118.73438,-116.14173,-118.74978,-119.65118,-118.80085,-116.16807,-119.58631,-118.58289,-118.74988,-119.38261,-115.81058,-119.57471,-121.18174,-116.01655,-119.60195,-119.54523,-116.11198,-119.56629,-116.15985,-119.61064,-119.634,-116.7668,-119.58638,-119.55906,-123.99318,-116.05998,-119.56635,-118.97319,-119.60202,-118.73442,-118.59542,-118.77323,-118.74953,-119.7873,-117.1151,-115.92893,-121.4593,-119.60237,-119.80482,-118.82695,-124.01845,-118.73424,-121.30184,-119.25758,-118.62215,-121.2096,-116.18577,-118.74879,-118.58292,-119.49091,-118.72521,-119.47008,-121.53624,-116.80986,-115.8107,-118.92096,-118.74888,-121.18169,-116.05576,-119.5978,-116.38802,-118.59677,-119.57432,-116.72648,-118.87877,-119.34612,-117.06829,-118.16974,-119.78817,-119.59736,-116.84703,-119.35308,-118.80928,-119.67688,-121.16649,-119.55955,-119.57586,-118.76841,-121.53306,-119.48553,-116.81035,-121.56251,-118.75006,-118.92146,-118.92094,-121.39747,-117.14421,-121.20995,-116.15582,-121.18393,-121.17305,-118.59833,-119.55992,-119.55657,-118.81743,-118.59676,-116.24206,-116.79283,-118.62213,-124.08646,-118.74364,-117.51472,-119.55633,-121.20948,-119.60985,-118.59677,-119.88676,-119.25818,-121.20927,-116.14185,-118.7488,-119.66137,-116.84767,-116.83872,-124.0335,-119.07511,-119.56424,-119.50898,-116.39113,-118.76461,-119.60212,-119.67698,-118.59643,-119.64876,-116.18735,-119.35324,-119.49093,-119.35592,-119.78842,-116.24199,-119.57498,-118.97058,-121.20958,-119.4701,-119.60095,-119.33825,-121.5594,-119.34551,-119.63394,-119.5575,-116.08486,-116.83007,-119.26293,-121.20952,-119.60389,-118.74971,-119.57381,-116.39906,-119.5857,-118.89684,-119.60189,-121.42323,-118.72403,-119.62943,-119.78792,-121.40467,-116.0849,-118.73493,-121.47442,-118.58391,-119.57274,-119.65637,-119.84228,-119.65116,-121.18142,-116.07747,-118.75106,-116.16396,-118.77284,-116.8117,-119.47027,-118.77135,-116.80642,-118.97456,-119.3827,-116.16852,-118.66871,-121.5358,-116.14504,-116.74484,-121.39718,-118.59676,-118.72526,-117.26994,-117.45123,-119.59636,-115.79436,-116.18583,-116.05583,-119.57,-118.59656,-121.42736,-119.33369,-119.46992,-119.55842,-121.1839,-119.64861,-119.58631,-121.18144,-124.05676,-119.55981,-118.74886,-118.74974,-117.4549,-116.39088,-119.39493,-119.33884,-119.57416,-118.80094,-119.67668,-121.46519,-116.98989,-118.279,-119.35347,-118.94648,-118.59535,-119.6279,-116.15398,-118.58393,-121.45938,-121.30164,-119.57443,-121.47426,-119.35538,-119.67712,-116.39161,-121.5357,-119.55784,-119.37075,-118.77148,-119.57576,-124.0992,-115.81238,-116.16849,-116.14182,-118.34139,-117.10433,-115.82493,-119.35383,-118.34123,-119.68325,-119.36207,-117.52471,-119.57363,-119.35325,-119.46891,-119.6634,-118.58385,-119.6024,-118.59651,-119.61941,-118.76552,-118.1705,-116.07778,-118.59535,-119.56583,-121.47908,-116.03284,-118.3399,-119.55784,-116.31525,-118.67036,-121.56122,-119.59946,-121.17303,-119.39182,-119.55645,-119.37075,-119.50897,-116.39056,-118.1699,-119.62794,-119.61544,-121.29546,-117.17391,-123.95049,-116.06016,-118.74921,-121.22726,-119.35402,-118.77398,-118.96288,-119.3539,-119.56425,-124.08652,-118.59681,-116.16277,-119.57521,-116.67861,-119.33888,-119.68269,-118.76517,-119.62793,-118.71729,-119.68064,-119.35591,-118.94655,-119.75442,-119.57502,-119.38366,-118.51524,-118.58248,-119.73651,-116.39031,-119.60239,-116.81018,-118.5968,-116.22756,-116.03731,-121.29701,-116.8733,-116.96825,-119.44723,-118.61145,-115.77752,-119.67665,-121.42716,-116.06787,-121.20941,-118.9639,-119.34574,-118.67176,-116.16852,-118.34138,-116.74471,-118.66717,-118.72401,-121.42703,-124.04071,-119.80408,-117.73855,-121.42319,-124.04565,-121.47912,-116.16596,-119.64451,-115.80178,-119.3387,-116.08247,-119.40634,-119.56577,-119.78729,-118.76541,-118.77161,-116.15675,-119.55962,-118.34112,-119.6032,-119.64889,-119.3558,-124.14596,-116.24233,-124.14323,-117.45775,-119.55784,-118.59544,-116.16497,-116.85234,-121.56756,-121.18361,-117.17974,-119.65124,-119.65615,-116.70463,-116.16523,-115.68128,-119.56006,-115.83481,-119.58512,-118.27889,-118.74869,-119.84134,-117.45493,-119.54619,-119.60292,-115.81099,-119.35339,-119.33862,-119.2623,-121.16193,-121.46505,-121.4744,-119.73242,-119.38362,-117.6807,-119.68476,-121.4594,-119.02821,-121.15168,-119.64926,-119.55785,-119.78727,-116.18524,-121.30178,-121.45942,-117.55048,-116.14195,-119.62811,-117.57139,-121.52686,-116.25895,-119.26236,-118.92144,-119.5851,-119.73241,-119.33496,-119.78729,-119.57782,-123.75558,-119.79509,-116.38985,-115.77752,-118.58291,-119.54558,-116.06751,-118.56601,-124.01513,-119.5595,-119.35367,-124.10133,-118.77517,-117.71478,-121.30146,-121.3023,-119.30293,-119.44762,-118.97142,-118.58292,-118.81562,-118.34111,-119.05548,-119.68349,-121.16194,-119.38225,-116.05584,-119.78826,-116.38247,-116.02395,-120.04863,-118.89034,-118.34024,-118.59679,-120.01923,-119.37382,-120.09116,-116.07775,-116.05423,-116.18747,-119.37065,-118.74878,-118.74983,-118.62804,-121.30954,-119.55968,-123.89313,-119.55629,-116.08596,-119.73491,-116.39115,-117.6484,-118.72575,-118.17045,-115.75997,-119.75723,-119.63401,-115.9597,-121.56198,-116.19784,-118.80804,-115.95977,-119.35368,-119.55954,-115.81082,-118.97488,-120.05094,-117.57159,-118.7735,-116.93674,-116.8816,-116.14047,-121.42289,-118.74987,-121.51412,-121.14592,-118.96254,-121.16194,-116.03185,-119.339,-116.89007,-119.634,-116.72267,-119.56652,-118.96256,-117.67073,-118.59844,-121.4594,-119.3036,-117.41107,-124.03803,-118.7497,-119.38284,-116.72655,-119.88221,-116.04996,-115.45105,-121.30786,-119.66036,-118.58285,-116.30599,-119.64888,-121.5363,-121.42316,-116.88152,-116.91251,-119.38058,-115.75912,-118.76505,-118.66787,-119.47026,-121.20992,-118.5829,-115.83487,-119.35881,-118.73438,-115.82429,-121.22605,-117.29155,-119.46937,-118.59677,-116.6825,-119.3826,-119.3826,-119.46321,-120.04382,-119.5686,-119.26266,-117.33029,-123.98779,-121.45942,-116.25897,-119.38263,-116.76999,-116.24199,-121.30133,-119.55958,-116.18574,-119.34929,-119.60179,-119.7975,-121.1459,-117.07939,-116.38798,-118.66864,-124.05689,-121.53295,-116.62076,-119.53262,-119.74173,-121.39745,-119.37075,-116.65586,-118.74885,-116.37039,-119.33499,-116.07768,-116.8455,-115.92883,-119.59064,-118.77138,-123.9933,-116.15598,-118.58295,-118.81489,-119.26233,-118.5968,-118.34124,-116.16811,-118.56599,-121.42714,-117.19928,-118.32743,-115.81073,-116.3057,-118.34127,-124.07919,-121.39741,-119.84258,-118.74871,-119.35326,-119.38266,-119.78756,-118.67092,-119.4701,-116.05554,-117.09666,-116.88165,-119.80146,-121.42236,-118.7653,-119.62806,-119.73696,-118.58322,-119.27884,-118.83767,-118.74907,-120.01049,-119.634,-119.34929,-121.47469,-119.88249,-118.34124,-118.71388,-115.75899,-116.2294,-117.15093,-119.57786,-116.81009,-117.54233,-119.73697,-116.81035,-121.4651,-119.55788,-121.29614,-116.18523,-118.67094,-117.14413,-118.77271,-119.02957,-119.74133,-119.62791,-121.22545,-116.14036,-116.68249,-117.12722,-119.64895,-119.26656,-119.85089,-121.30947,-119.64933,-119.84106,-119.63454,-118.73841,-119.74113,-121.30189,-117.38866,-115.6785,-117.60708,-116.57937,-119.73634,-119.64932,-119.78757,-118.16989,-119.64895,-119.73356,-119.84984,-119.02955,-119.12859,-116.05416,-116.70383,-119.50901,-121.14585,-118.92146,-118.58292,-119.81475,-119.12791,-117.17427,-118.58292,-119.90277,-119.64895,-119.64868,-117.28167,-121.42319,-119.56597,-118.39686,-119.56288,-116.15632,-119.02959,-119.5706,-118.24013,-115.77769,-116.02328,-115.86521,-116.16202,-116.31427,-119.58746,-117.46085,-119.2629,-116.97807,-124.08977,-121.30926,-119.62455,-119.46842],\"marker\":{\"color\":\"#636efa\"},\"mode\":\"markers\",\"name\":\"\",\"showlegend\":false,\"subplot\":\"mapbox\",\"type\":\"scattermapbox\"}],                        {\"template\":{\"data\":{\"histogram2dcontour\":[{\"type\":\"histogram2dcontour\",\"colorbar\":{\"outlinewidth\":0,\"ticks\":\"\"},\"colorscale\":[[0.0,\"#0d0887\"],[0.1111111111111111,\"#46039f\"],[0.2222222222222222,\"#7201a8\"],[0.3333333333333333,\"#9c179e\"],[0.4444444444444444,\"#bd3786\"],[0.5555555555555556,\"#d8576b\"],[0.6666666666666666,\"#ed7953\"],[0.7777777777777778,\"#fb9f3a\"],[0.8888888888888888,\"#fdca26\"],[1.0,\"#f0f921\"]]}],\"choropleth\":[{\"type\":\"choropleth\",\"colorbar\":{\"outlinewidth\":0,\"ticks\":\"\"}}],\"histogram2d\":[{\"type\":\"histogram2d\",\"colorbar\":{\"outlinewidth\":0,\"ticks\":\"\"},\"colorscale\":[[0.0,\"#0d0887\"],[0.1111111111111111,\"#46039f\"],[0.2222222222222222,\"#7201a8\"],[0.3333333333333333,\"#9c179e\"],[0.4444444444444444,\"#bd3786\"],[0.5555555555555556,\"#d8576b\"],[0.6666666666666666,\"#ed7953\"],[0.7777777777777778,\"#fb9f3a\"],[0.8888888888888888,\"#fdca26\"],[1.0,\"#f0f921\"]]}],\"heatmap\":[{\"type\":\"heatmap\",\"colorbar\":{\"outlinewidth\":0,\"ticks\":\"\"},\"colorscale\":[[0.0,\"#0d0887\"],[0.1111111111111111,\"#46039f\"],[0.2222222222222222,\"#7201a8\"],[0.3333333333333333,\"#9c179e\"],[0.4444444444444444,\"#bd3786\"],[0.5555555555555556,\"#d8576b\"],[0.6666666666666666,\"#ed7953\"],[0.7777777777777778,\"#fb9f3a\"],[0.8888888888888888,\"#fdca26\"],[1.0,\"#f0f921\"]]}],\"heatmapgl\":[{\"type\":\"heatmapgl\",\"colorbar\":{\"outlinewidth\":0,\"ticks\":\"\"},\"colorscale\":[[0.0,\"#0d0887\"],[0.1111111111111111,\"#46039f\"],[0.2222222222222222,\"#7201a8\"],[0.3333333333333333,\"#9c179e\"],[0.4444444444444444,\"#bd3786\"],[0.5555555555555556,\"#d8576b\"],[0.6666666666666666,\"#ed7953\"],[0.7777777777777778,\"#fb9f3a\"],[0.8888888888888888,\"#fdca26\"],[1.0,\"#f0f921\"]]}],\"contourcarpet\":[{\"type\":\"contourcarpet\",\"colorbar\":{\"outlinewidth\":0,\"ticks\":\"\"}}],\"contour\":[{\"type\":\"contour\",\"colorbar\":{\"outlinewidth\":0,\"ticks\":\"\"},\"colorscale\":[[0.0,\"#0d0887\"],[0.1111111111111111,\"#46039f\"],[0.2222222222222222,\"#7201a8\"],[0.3333333333333333,\"#9c179e\"],[0.4444444444444444,\"#bd3786\"],[0.5555555555555556,\"#d8576b\"],[0.6666666666666666,\"#ed7953\"],[0.7777777777777778,\"#fb9f3a\"],[0.8888888888888888,\"#fdca26\"],[1.0,\"#f0f921\"]]}],\"surface\":[{\"type\":\"surface\",\"colorbar\":{\"outlinewidth\":0,\"ticks\":\"\"},\"colorscale\":[[0.0,\"#0d0887\"],[0.1111111111111111,\"#46039f\"],[0.2222222222222222,\"#7201a8\"],[0.3333333333333333,\"#9c179e\"],[0.4444444444444444,\"#bd3786\"],[0.5555555555555556,\"#d8576b\"],[0.6666666666666666,\"#ed7953\"],[0.7777777777777778,\"#fb9f3a\"],[0.8888888888888888,\"#fdca26\"],[1.0,\"#f0f921\"]]}],\"mesh3d\":[{\"type\":\"mesh3d\",\"colorbar\":{\"outlinewidth\":0,\"ticks\":\"\"}}],\"scatter\":[{\"fillpattern\":{\"fillmode\":\"overlay\",\"size\":10,\"solidity\":0.2},\"type\":\"scatter\"}],\"parcoords\":[{\"type\":\"parcoords\",\"line\":{\"colorbar\":{\"outlinewidth\":0,\"ticks\":\"\"}}}],\"scatterpolargl\":[{\"type\":\"scatterpolargl\",\"marker\":{\"colorbar\":{\"outlinewidth\":0,\"ticks\":\"\"}}}],\"bar\":[{\"error_x\":{\"color\":\"#2a3f5f\"},\"error_y\":{\"color\":\"#2a3f5f\"},\"marker\":{\"line\":{\"color\":\"#E5ECF6\",\"width\":0.5},\"pattern\":{\"fillmode\":\"overlay\",\"size\":10,\"solidity\":0.2}},\"type\":\"bar\"}],\"scattergeo\":[{\"type\":\"scattergeo\",\"marker\":{\"colorbar\":{\"outlinewidth\":0,\"ticks\":\"\"}}}],\"scatterpolar\":[{\"type\":\"scatterpolar\",\"marker\":{\"colorbar\":{\"outlinewidth\":0,\"ticks\":\"\"}}}],\"histogram\":[{\"marker\":{\"pattern\":{\"fillmode\":\"overlay\",\"size\":10,\"solidity\":0.2}},\"type\":\"histogram\"}],\"scattergl\":[{\"type\":\"scattergl\",\"marker\":{\"colorbar\":{\"outlinewidth\":0,\"ticks\":\"\"}}}],\"scatter3d\":[{\"type\":\"scatter3d\",\"line\":{\"colorbar\":{\"outlinewidth\":0,\"ticks\":\"\"}},\"marker\":{\"colorbar\":{\"outlinewidth\":0,\"ticks\":\"\"}}}],\"scattermapbox\":[{\"type\":\"scattermapbox\",\"marker\":{\"colorbar\":{\"outlinewidth\":0,\"ticks\":\"\"}}}],\"scatterternary\":[{\"type\":\"scatterternary\",\"marker\":{\"colorbar\":{\"outlinewidth\":0,\"ticks\":\"\"}}}],\"scattercarpet\":[{\"type\":\"scattercarpet\",\"marker\":{\"colorbar\":{\"outlinewidth\":0,\"ticks\":\"\"}}}],\"carpet\":[{\"aaxis\":{\"endlinecolor\":\"#2a3f5f\",\"gridcolor\":\"white\",\"linecolor\":\"white\",\"minorgridcolor\":\"white\",\"startlinecolor\":\"#2a3f5f\"},\"baxis\":{\"endlinecolor\":\"#2a3f5f\",\"gridcolor\":\"white\",\"linecolor\":\"white\",\"minorgridcolor\":\"white\",\"startlinecolor\":\"#2a3f5f\"},\"type\":\"carpet\"}],\"table\":[{\"cells\":{\"fill\":{\"color\":\"#EBF0F8\"},\"line\":{\"color\":\"white\"}},\"header\":{\"fill\":{\"color\":\"#C8D4E3\"},\"line\":{\"color\":\"white\"}},\"type\":\"table\"}],\"barpolar\":[{\"marker\":{\"line\":{\"color\":\"#E5ECF6\",\"width\":0.5},\"pattern\":{\"fillmode\":\"overlay\",\"size\":10,\"solidity\":0.2}},\"type\":\"barpolar\"}],\"pie\":[{\"automargin\":true,\"type\":\"pie\"}]},\"layout\":{\"autotypenumbers\":\"strict\",\"colorway\":[\"#636efa\",\"#EF553B\",\"#00cc96\",\"#ab63fa\",\"#FFA15A\",\"#19d3f3\",\"#FF6692\",\"#B6E880\",\"#FF97FF\",\"#FECB52\"],\"font\":{\"color\":\"#2a3f5f\"},\"hovermode\":\"closest\",\"hoverlabel\":{\"align\":\"left\"},\"paper_bgcolor\":\"white\",\"plot_bgcolor\":\"#E5ECF6\",\"polar\":{\"bgcolor\":\"#E5ECF6\",\"angularaxis\":{\"gridcolor\":\"white\",\"linecolor\":\"white\",\"ticks\":\"\"},\"radialaxis\":{\"gridcolor\":\"white\",\"linecolor\":\"white\",\"ticks\":\"\"}},\"ternary\":{\"bgcolor\":\"#E5ECF6\",\"aaxis\":{\"gridcolor\":\"white\",\"linecolor\":\"white\",\"ticks\":\"\"},\"baxis\":{\"gridcolor\":\"white\",\"linecolor\":\"white\",\"ticks\":\"\"},\"caxis\":{\"gridcolor\":\"white\",\"linecolor\":\"white\",\"ticks\":\"\"}},\"coloraxis\":{\"colorbar\":{\"outlinewidth\":0,\"ticks\":\"\"}},\"colorscale\":{\"sequential\":[[0.0,\"#0d0887\"],[0.1111111111111111,\"#46039f\"],[0.2222222222222222,\"#7201a8\"],[0.3333333333333333,\"#9c179e\"],[0.4444444444444444,\"#bd3786\"],[0.5555555555555556,\"#d8576b\"],[0.6666666666666666,\"#ed7953\"],[0.7777777777777778,\"#fb9f3a\"],[0.8888888888888888,\"#fdca26\"],[1.0,\"#f0f921\"]],\"sequentialminus\":[[0.0,\"#0d0887\"],[0.1111111111111111,\"#46039f\"],[0.2222222222222222,\"#7201a8\"],[0.3333333333333333,\"#9c179e\"],[0.4444444444444444,\"#bd3786\"],[0.5555555555555556,\"#d8576b\"],[0.6666666666666666,\"#ed7953\"],[0.7777777777777778,\"#fb9f3a\"],[0.8888888888888888,\"#fdca26\"],[1.0,\"#f0f921\"]],\"diverging\":[[0,\"#8e0152\"],[0.1,\"#c51b7d\"],[0.2,\"#de77ae\"],[0.3,\"#f1b6da\"],[0.4,\"#fde0ef\"],[0.5,\"#f7f7f7\"],[0.6,\"#e6f5d0\"],[0.7,\"#b8e186\"],[0.8,\"#7fbc41\"],[0.9,\"#4d9221\"],[1,\"#276419\"]]},\"xaxis\":{\"gridcolor\":\"white\",\"linecolor\":\"white\",\"ticks\":\"\",\"title\":{\"standoff\":15},\"zerolinecolor\":\"white\",\"automargin\":true,\"zerolinewidth\":2},\"yaxis\":{\"gridcolor\":\"white\",\"linecolor\":\"white\",\"ticks\":\"\",\"title\":{\"standoff\":15},\"zerolinecolor\":\"white\",\"automargin\":true,\"zerolinewidth\":2},\"scene\":{\"xaxis\":{\"backgroundcolor\":\"#E5ECF6\",\"gridcolor\":\"white\",\"linecolor\":\"white\",\"showbackground\":true,\"ticks\":\"\",\"zerolinecolor\":\"white\",\"gridwidth\":2},\"yaxis\":{\"backgroundcolor\":\"#E5ECF6\",\"gridcolor\":\"white\",\"linecolor\":\"white\",\"showbackground\":true,\"ticks\":\"\",\"zerolinecolor\":\"white\",\"gridwidth\":2},\"zaxis\":{\"backgroundcolor\":\"#E5ECF6\",\"gridcolor\":\"white\",\"linecolor\":\"white\",\"showbackground\":true,\"ticks\":\"\",\"zerolinecolor\":\"white\",\"gridwidth\":2}},\"shapedefaults\":{\"line\":{\"color\":\"#2a3f5f\"}},\"annotationdefaults\":{\"arrowcolor\":\"#2a3f5f\",\"arrowhead\":0,\"arrowwidth\":1},\"geo\":{\"bgcolor\":\"white\",\"landcolor\":\"#E5ECF6\",\"subunitcolor\":\"white\",\"showland\":true,\"showlakes\":true,\"lakecolor\":\"white\"},\"title\":{\"x\":0.05},\"mapbox\":{\"style\":\"light\"}}},\"mapbox\":{\"domain\":{\"x\":[0.0,1.0],\"y\":[0.0,1.0]},\"center\":{\"lat\":36.983666280056575,\"lon\":-118.92843052333805},\"zoom\":8,\"style\":\"carto-positron\"},\"legend\":{\"tracegroupgap\":0},\"margin\":{\"t\":60}},                        {\"responsive\": true}                    ).then(function(){\n",
       "                            \n",
       "var gd = document.getElementById('1dbb1bd7-a8df-4638-ac44-2a0a0c215ae3');\n",
       "var x = new MutationObserver(function (mutations, observer) {{\n",
       "        var display = window.getComputedStyle(gd).display;\n",
       "        if (!display || display === 'none') {{\n",
       "            console.log([gd, 'removed!']);\n",
       "            Plotly.purge(gd);\n",
       "            observer.disconnect();\n",
       "        }}\n",
       "}});\n",
       "\n",
       "// Listen for the removal of the full notebook cells\n",
       "var notebookContainer = gd.closest('#notebook-container');\n",
       "if (notebookContainer) {{\n",
       "    x.observe(notebookContainer, {childList: true});\n",
       "}}\n",
       "\n",
       "// Listen for the clearing of the current output cell\n",
       "var outputEl = gd.closest('.output');\n",
       "if (outputEl) {{\n",
       "    x.observe(outputEl, {childList: true});\n",
       "}}\n",
       "\n",
       "                        })                };                });            </script>        </div>"
      ]
     },
     "metadata": {},
     "output_type": "display_data"
    }
   ],
   "source": [
    "px.scatter_mapbox(California, lon = \"long\", lat = \"lat\", mapbox_style=\"carto-positron\", hover_name = \"trail_city\")"
   ]
  },
  {
   "cell_type": "code",
   "execution_count": 181,
   "id": "f9322fb1",
   "metadata": {},
   "outputs": [],
   "source": [
    "def state_visual(df, state):\n",
    "    state_trails = df[df['state_name'] == state]\n",
    "    fig = px.scatter_mapbox(state_trails, lon = \"long\", lat = \"lat\",\n",
    "                            mapbox_style=\"carto-positron\", hover_name = \"trail_city\")\n",
    "    return fig"
   ]
  },
  {
   "cell_type": "code",
   "execution_count": 182,
   "id": "25ec5d63",
   "metadata": {},
   "outputs": [
    {
     "data": {
      "application/vnd.plotly.v1+json": {
       "config": {
        "plotlyServerURL": "https://plot.ly"
       },
       "data": [
        {
         "hovertemplate": "<b>%{hovertext}</b><br><br>lat=%{lat}<br>long=%{lon}<extra></extra>",
         "hovertext": [
          "Kilauea Iki Trail and Crater Rim Trail, Pahala",
          "Kalapana Lava Viewing, Pahoa",
          "Pu'u Huluhulu via Napau Crater Trail, Pahoa",
          "Halema’uma’u Steam Bluff and Sulfur Banks, Volcano",
          "Puu Loa Petroglyphs Trail, Pahala",
          "Mauna Loa via Observatory Trail and Summit Trail, Holualoa",
          "Devastation Trail to Puu Puai Overlook, Pahala",
          "End of Chain of Craters Road Trail to Lava Viewing, Kalapana",
          "Sandalwood (Iliahi) Trail, Pahala",
          "Halema'uma'u Trail, Pahoa",
          "Kipuka Puaulu Trail, Pahala",
          "End of Chain of Craters Road to Active Lava Flow, Kalapana",
          "Hilina Pali Trail, Pahala",
          "Nāulu Trail, Pahala",
          "Mauna Loa Trail, Pahala",
          "Crater Rim Drive, Volcano",
          "Napau Crater Trail to Makaopuhi Crater, Pahala",
          "Kilauea Iki Trail, Volcano",
          "Puna Kau Trail to Halape Trail, Pahala",
          "Keauhou Trail, Pahala",
          "Kau Desert Footprints Trail, Pahala",
          "Mauna Loa Trail to Red Hill, Volcano",
          "Puna Kau Trail, Pahala",
          "Puna Kau Trail to Apua Point, Pahala",
          "Crater Rim Trail: East from Jaggar Museum, Volcano",
          "Mauna Ulu Eruption Trail, Pahoa",
          "Halape Trail, Pahala",
          "Mauna Loa Cabin Trail via Observatory Trail, Honaunau",
          "Old Hawaiian Trail, Hawaiian Ocean View",
          "Mauna Iki Trail to Kulanaokuaiki Campground, Pahala",
          "Thurston Lava Tube Trail [CLOSED], Pahala",
          "Palm Trail, Hawaiian Ocean View",
          "Kilauea Craters Trail [CLOSED], Volcano",
          "Byron Ledge Trail from Devastation Trailhead [CLOSED], Pahala",
          "Byron Ledge & Halema'uma'u Loop [CLOSED], Volcano"
         ],
         "lat": [
          19.41648,
          19.3557,
          19.36539,
          19.42902,
          19.28898,
          19.53805,
          19.4064,
          19.29555,
          19.4314,
          19.42964,
          19.43748,
          19.33504,
          19.29546,
          19.31753,
          19.49264,
          19.40536,
          19.36522,
          19.42964,
          19.29056,
          19.3572,
          19.36885,
          19.49266,
          19.29054,
          19.29037,
          19.42019,
          19.36525,
          19.32556,
          19.53804,
          19.26041,
          19.36842,
          19.41357,
          19.08609,
          19.41351,
          19.40613,
          19.43001
         ],
         "legendgroup": "",
         "lon": [
          -155.24294,
          -154.98677,
          -155.2165,
          -155.25833,
          -155.12998,
          -155.57531,
          -155.25293,
          -155.09752,
          -155.26536,
          -155.25883,
          -155.30324,
          -155.02078,
          -155.30693,
          -155.16243,
          -155.3854,
          -155.25306,
          -155.21615,
          -155.25812,
          -155.1341,
          -155.22412,
          -155.36754,
          -155.38535,
          -155.13412,
          -155.13408,
          -155.28883,
          -155.21625,
          -155.2785,
          -155.57516,
          -155.61541,
          -155.36769,
          -155.2389,
          -155.68402,
          -155.23894,
          -155.25297,
          -155.25985
         ],
         "marker": {
          "color": "#636efa"
         },
         "mode": "markers",
         "name": "",
         "showlegend": false,
         "subplot": "mapbox",
         "type": "scattermapbox"
        }
       ],
       "layout": {
        "legend": {
         "tracegroupgap": 0
        },
        "mapbox": {
         "center": {
          "lat": 19.375781142857143,
          "lon": -155.27389742857142
         },
         "domain": {
          "x": [
           0,
           1
          ],
          "y": [
           0,
           1
          ]
         },
         "style": "carto-positron",
         "zoom": 8
        },
        "margin": {
         "t": 60
        },
        "template": {
         "data": {
          "bar": [
           {
            "error_x": {
             "color": "#2a3f5f"
            },
            "error_y": {
             "color": "#2a3f5f"
            },
            "marker": {
             "line": {
              "color": "#E5ECF6",
              "width": 0.5
             },
             "pattern": {
              "fillmode": "overlay",
              "size": 10,
              "solidity": 0.2
             }
            },
            "type": "bar"
           }
          ],
          "barpolar": [
           {
            "marker": {
             "line": {
              "color": "#E5ECF6",
              "width": 0.5
             },
             "pattern": {
              "fillmode": "overlay",
              "size": 10,
              "solidity": 0.2
             }
            },
            "type": "barpolar"
           }
          ],
          "carpet": [
           {
            "aaxis": {
             "endlinecolor": "#2a3f5f",
             "gridcolor": "white",
             "linecolor": "white",
             "minorgridcolor": "white",
             "startlinecolor": "#2a3f5f"
            },
            "baxis": {
             "endlinecolor": "#2a3f5f",
             "gridcolor": "white",
             "linecolor": "white",
             "minorgridcolor": "white",
             "startlinecolor": "#2a3f5f"
            },
            "type": "carpet"
           }
          ],
          "choropleth": [
           {
            "colorbar": {
             "outlinewidth": 0,
             "ticks": ""
            },
            "type": "choropleth"
           }
          ],
          "contour": [
           {
            "colorbar": {
             "outlinewidth": 0,
             "ticks": ""
            },
            "colorscale": [
             [
              0,
              "#0d0887"
             ],
             [
              0.1111111111111111,
              "#46039f"
             ],
             [
              0.2222222222222222,
              "#7201a8"
             ],
             [
              0.3333333333333333,
              "#9c179e"
             ],
             [
              0.4444444444444444,
              "#bd3786"
             ],
             [
              0.5555555555555556,
              "#d8576b"
             ],
             [
              0.6666666666666666,
              "#ed7953"
             ],
             [
              0.7777777777777778,
              "#fb9f3a"
             ],
             [
              0.8888888888888888,
              "#fdca26"
             ],
             [
              1,
              "#f0f921"
             ]
            ],
            "type": "contour"
           }
          ],
          "contourcarpet": [
           {
            "colorbar": {
             "outlinewidth": 0,
             "ticks": ""
            },
            "type": "contourcarpet"
           }
          ],
          "heatmap": [
           {
            "colorbar": {
             "outlinewidth": 0,
             "ticks": ""
            },
            "colorscale": [
             [
              0,
              "#0d0887"
             ],
             [
              0.1111111111111111,
              "#46039f"
             ],
             [
              0.2222222222222222,
              "#7201a8"
             ],
             [
              0.3333333333333333,
              "#9c179e"
             ],
             [
              0.4444444444444444,
              "#bd3786"
             ],
             [
              0.5555555555555556,
              "#d8576b"
             ],
             [
              0.6666666666666666,
              "#ed7953"
             ],
             [
              0.7777777777777778,
              "#fb9f3a"
             ],
             [
              0.8888888888888888,
              "#fdca26"
             ],
             [
              1,
              "#f0f921"
             ]
            ],
            "type": "heatmap"
           }
          ],
          "heatmapgl": [
           {
            "colorbar": {
             "outlinewidth": 0,
             "ticks": ""
            },
            "colorscale": [
             [
              0,
              "#0d0887"
             ],
             [
              0.1111111111111111,
              "#46039f"
             ],
             [
              0.2222222222222222,
              "#7201a8"
             ],
             [
              0.3333333333333333,
              "#9c179e"
             ],
             [
              0.4444444444444444,
              "#bd3786"
             ],
             [
              0.5555555555555556,
              "#d8576b"
             ],
             [
              0.6666666666666666,
              "#ed7953"
             ],
             [
              0.7777777777777778,
              "#fb9f3a"
             ],
             [
              0.8888888888888888,
              "#fdca26"
             ],
             [
              1,
              "#f0f921"
             ]
            ],
            "type": "heatmapgl"
           }
          ],
          "histogram": [
           {
            "marker": {
             "pattern": {
              "fillmode": "overlay",
              "size": 10,
              "solidity": 0.2
             }
            },
            "type": "histogram"
           }
          ],
          "histogram2d": [
           {
            "colorbar": {
             "outlinewidth": 0,
             "ticks": ""
            },
            "colorscale": [
             [
              0,
              "#0d0887"
             ],
             [
              0.1111111111111111,
              "#46039f"
             ],
             [
              0.2222222222222222,
              "#7201a8"
             ],
             [
              0.3333333333333333,
              "#9c179e"
             ],
             [
              0.4444444444444444,
              "#bd3786"
             ],
             [
              0.5555555555555556,
              "#d8576b"
             ],
             [
              0.6666666666666666,
              "#ed7953"
             ],
             [
              0.7777777777777778,
              "#fb9f3a"
             ],
             [
              0.8888888888888888,
              "#fdca26"
             ],
             [
              1,
              "#f0f921"
             ]
            ],
            "type": "histogram2d"
           }
          ],
          "histogram2dcontour": [
           {
            "colorbar": {
             "outlinewidth": 0,
             "ticks": ""
            },
            "colorscale": [
             [
              0,
              "#0d0887"
             ],
             [
              0.1111111111111111,
              "#46039f"
             ],
             [
              0.2222222222222222,
              "#7201a8"
             ],
             [
              0.3333333333333333,
              "#9c179e"
             ],
             [
              0.4444444444444444,
              "#bd3786"
             ],
             [
              0.5555555555555556,
              "#d8576b"
             ],
             [
              0.6666666666666666,
              "#ed7953"
             ],
             [
              0.7777777777777778,
              "#fb9f3a"
             ],
             [
              0.8888888888888888,
              "#fdca26"
             ],
             [
              1,
              "#f0f921"
             ]
            ],
            "type": "histogram2dcontour"
           }
          ],
          "mesh3d": [
           {
            "colorbar": {
             "outlinewidth": 0,
             "ticks": ""
            },
            "type": "mesh3d"
           }
          ],
          "parcoords": [
           {
            "line": {
             "colorbar": {
              "outlinewidth": 0,
              "ticks": ""
             }
            },
            "type": "parcoords"
           }
          ],
          "pie": [
           {
            "automargin": true,
            "type": "pie"
           }
          ],
          "scatter": [
           {
            "fillpattern": {
             "fillmode": "overlay",
             "size": 10,
             "solidity": 0.2
            },
            "type": "scatter"
           }
          ],
          "scatter3d": [
           {
            "line": {
             "colorbar": {
              "outlinewidth": 0,
              "ticks": ""
             }
            },
            "marker": {
             "colorbar": {
              "outlinewidth": 0,
              "ticks": ""
             }
            },
            "type": "scatter3d"
           }
          ],
          "scattercarpet": [
           {
            "marker": {
             "colorbar": {
              "outlinewidth": 0,
              "ticks": ""
             }
            },
            "type": "scattercarpet"
           }
          ],
          "scattergeo": [
           {
            "marker": {
             "colorbar": {
              "outlinewidth": 0,
              "ticks": ""
             }
            },
            "type": "scattergeo"
           }
          ],
          "scattergl": [
           {
            "marker": {
             "colorbar": {
              "outlinewidth": 0,
              "ticks": ""
             }
            },
            "type": "scattergl"
           }
          ],
          "scattermapbox": [
           {
            "marker": {
             "colorbar": {
              "outlinewidth": 0,
              "ticks": ""
             }
            },
            "type": "scattermapbox"
           }
          ],
          "scatterpolar": [
           {
            "marker": {
             "colorbar": {
              "outlinewidth": 0,
              "ticks": ""
             }
            },
            "type": "scatterpolar"
           }
          ],
          "scatterpolargl": [
           {
            "marker": {
             "colorbar": {
              "outlinewidth": 0,
              "ticks": ""
             }
            },
            "type": "scatterpolargl"
           }
          ],
          "scatterternary": [
           {
            "marker": {
             "colorbar": {
              "outlinewidth": 0,
              "ticks": ""
             }
            },
            "type": "scatterternary"
           }
          ],
          "surface": [
           {
            "colorbar": {
             "outlinewidth": 0,
             "ticks": ""
            },
            "colorscale": [
             [
              0,
              "#0d0887"
             ],
             [
              0.1111111111111111,
              "#46039f"
             ],
             [
              0.2222222222222222,
              "#7201a8"
             ],
             [
              0.3333333333333333,
              "#9c179e"
             ],
             [
              0.4444444444444444,
              "#bd3786"
             ],
             [
              0.5555555555555556,
              "#d8576b"
             ],
             [
              0.6666666666666666,
              "#ed7953"
             ],
             [
              0.7777777777777778,
              "#fb9f3a"
             ],
             [
              0.8888888888888888,
              "#fdca26"
             ],
             [
              1,
              "#f0f921"
             ]
            ],
            "type": "surface"
           }
          ],
          "table": [
           {
            "cells": {
             "fill": {
              "color": "#EBF0F8"
             },
             "line": {
              "color": "white"
             }
            },
            "header": {
             "fill": {
              "color": "#C8D4E3"
             },
             "line": {
              "color": "white"
             }
            },
            "type": "table"
           }
          ]
         },
         "layout": {
          "annotationdefaults": {
           "arrowcolor": "#2a3f5f",
           "arrowhead": 0,
           "arrowwidth": 1
          },
          "autotypenumbers": "strict",
          "coloraxis": {
           "colorbar": {
            "outlinewidth": 0,
            "ticks": ""
           }
          },
          "colorscale": {
           "diverging": [
            [
             0,
             "#8e0152"
            ],
            [
             0.1,
             "#c51b7d"
            ],
            [
             0.2,
             "#de77ae"
            ],
            [
             0.3,
             "#f1b6da"
            ],
            [
             0.4,
             "#fde0ef"
            ],
            [
             0.5,
             "#f7f7f7"
            ],
            [
             0.6,
             "#e6f5d0"
            ],
            [
             0.7,
             "#b8e186"
            ],
            [
             0.8,
             "#7fbc41"
            ],
            [
             0.9,
             "#4d9221"
            ],
            [
             1,
             "#276419"
            ]
           ],
           "sequential": [
            [
             0,
             "#0d0887"
            ],
            [
             0.1111111111111111,
             "#46039f"
            ],
            [
             0.2222222222222222,
             "#7201a8"
            ],
            [
             0.3333333333333333,
             "#9c179e"
            ],
            [
             0.4444444444444444,
             "#bd3786"
            ],
            [
             0.5555555555555556,
             "#d8576b"
            ],
            [
             0.6666666666666666,
             "#ed7953"
            ],
            [
             0.7777777777777778,
             "#fb9f3a"
            ],
            [
             0.8888888888888888,
             "#fdca26"
            ],
            [
             1,
             "#f0f921"
            ]
           ],
           "sequentialminus": [
            [
             0,
             "#0d0887"
            ],
            [
             0.1111111111111111,
             "#46039f"
            ],
            [
             0.2222222222222222,
             "#7201a8"
            ],
            [
             0.3333333333333333,
             "#9c179e"
            ],
            [
             0.4444444444444444,
             "#bd3786"
            ],
            [
             0.5555555555555556,
             "#d8576b"
            ],
            [
             0.6666666666666666,
             "#ed7953"
            ],
            [
             0.7777777777777778,
             "#fb9f3a"
            ],
            [
             0.8888888888888888,
             "#fdca26"
            ],
            [
             1,
             "#f0f921"
            ]
           ]
          },
          "colorway": [
           "#636efa",
           "#EF553B",
           "#00cc96",
           "#ab63fa",
           "#FFA15A",
           "#19d3f3",
           "#FF6692",
           "#B6E880",
           "#FF97FF",
           "#FECB52"
          ],
          "font": {
           "color": "#2a3f5f"
          },
          "geo": {
           "bgcolor": "white",
           "lakecolor": "white",
           "landcolor": "#E5ECF6",
           "showlakes": true,
           "showland": true,
           "subunitcolor": "white"
          },
          "hoverlabel": {
           "align": "left"
          },
          "hovermode": "closest",
          "mapbox": {
           "style": "light"
          },
          "paper_bgcolor": "white",
          "plot_bgcolor": "#E5ECF6",
          "polar": {
           "angularaxis": {
            "gridcolor": "white",
            "linecolor": "white",
            "ticks": ""
           },
           "bgcolor": "#E5ECF6",
           "radialaxis": {
            "gridcolor": "white",
            "linecolor": "white",
            "ticks": ""
           }
          },
          "scene": {
           "xaxis": {
            "backgroundcolor": "#E5ECF6",
            "gridcolor": "white",
            "gridwidth": 2,
            "linecolor": "white",
            "showbackground": true,
            "ticks": "",
            "zerolinecolor": "white"
           },
           "yaxis": {
            "backgroundcolor": "#E5ECF6",
            "gridcolor": "white",
            "gridwidth": 2,
            "linecolor": "white",
            "showbackground": true,
            "ticks": "",
            "zerolinecolor": "white"
           },
           "zaxis": {
            "backgroundcolor": "#E5ECF6",
            "gridcolor": "white",
            "gridwidth": 2,
            "linecolor": "white",
            "showbackground": true,
            "ticks": "",
            "zerolinecolor": "white"
           }
          },
          "shapedefaults": {
           "line": {
            "color": "#2a3f5f"
           }
          },
          "ternary": {
           "aaxis": {
            "gridcolor": "white",
            "linecolor": "white",
            "ticks": ""
           },
           "baxis": {
            "gridcolor": "white",
            "linecolor": "white",
            "ticks": ""
           },
           "bgcolor": "#E5ECF6",
           "caxis": {
            "gridcolor": "white",
            "linecolor": "white",
            "ticks": ""
           }
          },
          "title": {
           "x": 0.05
          },
          "xaxis": {
           "automargin": true,
           "gridcolor": "white",
           "linecolor": "white",
           "ticks": "",
           "title": {
            "standoff": 15
           },
           "zerolinecolor": "white",
           "zerolinewidth": 2
          },
          "yaxis": {
           "automargin": true,
           "gridcolor": "white",
           "linecolor": "white",
           "ticks": "",
           "title": {
            "standoff": 15
           },
           "zerolinecolor": "white",
           "zerolinewidth": 2
          }
         }
        }
       }
      },
      "text/html": [
       "<div>                            <div id=\"f01ac1e7-fd1d-482c-84e4-94025f23629a\" class=\"plotly-graph-div\" style=\"height:525px; width:100%;\"></div>            <script type=\"text/javascript\">                require([\"plotly\"], function(Plotly) {                    window.PLOTLYENV=window.PLOTLYENV || {};                                    if (document.getElementById(\"f01ac1e7-fd1d-482c-84e4-94025f23629a\")) {                    Plotly.newPlot(                        \"f01ac1e7-fd1d-482c-84e4-94025f23629a\",                        [{\"hovertemplate\":\"\\u003cb\\u003e%{hovertext}\\u003c\\u002fb\\u003e\\u003cbr\\u003e\\u003cbr\\u003elat=%{lat}\\u003cbr\\u003elong=%{lon}\\u003cextra\\u003e\\u003c\\u002fextra\\u003e\",\"hovertext\":[\"Kilauea Iki Trail and Crater Rim Trail, Pahala\",\"Kalapana Lava Viewing, Pahoa\",\"Pu'u Huluhulu via Napau Crater Trail, Pahoa\",\"Halema\\u2019uma\\u2019u Steam Bluff and Sulfur Banks, Volcano\",\"Puu Loa Petroglyphs Trail, Pahala\",\"Mauna Loa via Observatory Trail and Summit Trail, Holualoa\",\"Devastation Trail to Puu Puai Overlook, Pahala\",\"End of Chain of Craters Road Trail to Lava Viewing, Kalapana\",\"Sandalwood (Iliahi) Trail, Pahala\",\"Halema'uma'u Trail, Pahoa\",\"Kipuka Puaulu Trail, Pahala\",\"End of Chain of Craters Road to Active Lava Flow, Kalapana\",\"Hilina Pali Trail, Pahala\",\"N\\u0101ulu Trail, Pahala\",\"Mauna Loa Trail, Pahala\",\"Crater Rim Drive, Volcano\",\"Napau Crater Trail to Makaopuhi Crater, Pahala\",\"Kilauea Iki Trail, Volcano\",\"Puna Kau Trail to Halape Trail, Pahala\",\"Keauhou Trail, Pahala\",\"Kau Desert Footprints Trail, Pahala\",\"Mauna Loa Trail to Red Hill, Volcano\",\"Puna Kau Trail, Pahala\",\"Puna Kau Trail to Apua Point, Pahala\",\"Crater Rim Trail: East from Jaggar Museum, Volcano\",\"Mauna Ulu Eruption Trail, Pahoa\",\"Halape Trail, Pahala\",\"Mauna Loa Cabin Trail via Observatory Trail, Honaunau\",\"Old Hawaiian Trail, Hawaiian Ocean View\",\"Mauna Iki Trail to Kulanaokuaiki Campground, Pahala\",\"Thurston Lava Tube Trail [CLOSED], Pahala\",\"Palm Trail, Hawaiian Ocean View\",\"Kilauea Craters Trail [CLOSED], Volcano\",\"Byron Ledge Trail from Devastation Trailhead [CLOSED], Pahala\",\"Byron Ledge & Halema'uma'u Loop [CLOSED], Volcano\"],\"lat\":[19.41648,19.3557,19.36539,19.42902,19.28898,19.53805,19.4064,19.29555,19.4314,19.42964,19.43748,19.33504,19.29546,19.31753,19.49264,19.40536,19.36522,19.42964,19.29056,19.3572,19.36885,19.49266,19.29054,19.29037,19.42019,19.36525,19.32556,19.53804,19.26041,19.36842,19.41357,19.08609,19.41351,19.40613,19.43001],\"legendgroup\":\"\",\"lon\":[-155.24294,-154.98677,-155.2165,-155.25833,-155.12998,-155.57531,-155.25293,-155.09752,-155.26536,-155.25883,-155.30324,-155.02078,-155.30693,-155.16243,-155.3854,-155.25306,-155.21615,-155.25812,-155.1341,-155.22412,-155.36754,-155.38535,-155.13412,-155.13408,-155.28883,-155.21625,-155.2785,-155.57516,-155.61541,-155.36769,-155.2389,-155.68402,-155.23894,-155.25297,-155.25985],\"marker\":{\"color\":\"#636efa\"},\"mode\":\"markers\",\"name\":\"\",\"showlegend\":false,\"subplot\":\"mapbox\",\"type\":\"scattermapbox\"}],                        {\"template\":{\"data\":{\"histogram2dcontour\":[{\"type\":\"histogram2dcontour\",\"colorbar\":{\"outlinewidth\":0,\"ticks\":\"\"},\"colorscale\":[[0.0,\"#0d0887\"],[0.1111111111111111,\"#46039f\"],[0.2222222222222222,\"#7201a8\"],[0.3333333333333333,\"#9c179e\"],[0.4444444444444444,\"#bd3786\"],[0.5555555555555556,\"#d8576b\"],[0.6666666666666666,\"#ed7953\"],[0.7777777777777778,\"#fb9f3a\"],[0.8888888888888888,\"#fdca26\"],[1.0,\"#f0f921\"]]}],\"choropleth\":[{\"type\":\"choropleth\",\"colorbar\":{\"outlinewidth\":0,\"ticks\":\"\"}}],\"histogram2d\":[{\"type\":\"histogram2d\",\"colorbar\":{\"outlinewidth\":0,\"ticks\":\"\"},\"colorscale\":[[0.0,\"#0d0887\"],[0.1111111111111111,\"#46039f\"],[0.2222222222222222,\"#7201a8\"],[0.3333333333333333,\"#9c179e\"],[0.4444444444444444,\"#bd3786\"],[0.5555555555555556,\"#d8576b\"],[0.6666666666666666,\"#ed7953\"],[0.7777777777777778,\"#fb9f3a\"],[0.8888888888888888,\"#fdca26\"],[1.0,\"#f0f921\"]]}],\"heatmap\":[{\"type\":\"heatmap\",\"colorbar\":{\"outlinewidth\":0,\"ticks\":\"\"},\"colorscale\":[[0.0,\"#0d0887\"],[0.1111111111111111,\"#46039f\"],[0.2222222222222222,\"#7201a8\"],[0.3333333333333333,\"#9c179e\"],[0.4444444444444444,\"#bd3786\"],[0.5555555555555556,\"#d8576b\"],[0.6666666666666666,\"#ed7953\"],[0.7777777777777778,\"#fb9f3a\"],[0.8888888888888888,\"#fdca26\"],[1.0,\"#f0f921\"]]}],\"heatmapgl\":[{\"type\":\"heatmapgl\",\"colorbar\":{\"outlinewidth\":0,\"ticks\":\"\"},\"colorscale\":[[0.0,\"#0d0887\"],[0.1111111111111111,\"#46039f\"],[0.2222222222222222,\"#7201a8\"],[0.3333333333333333,\"#9c179e\"],[0.4444444444444444,\"#bd3786\"],[0.5555555555555556,\"#d8576b\"],[0.6666666666666666,\"#ed7953\"],[0.7777777777777778,\"#fb9f3a\"],[0.8888888888888888,\"#fdca26\"],[1.0,\"#f0f921\"]]}],\"contourcarpet\":[{\"type\":\"contourcarpet\",\"colorbar\":{\"outlinewidth\":0,\"ticks\":\"\"}}],\"contour\":[{\"type\":\"contour\",\"colorbar\":{\"outlinewidth\":0,\"ticks\":\"\"},\"colorscale\":[[0.0,\"#0d0887\"],[0.1111111111111111,\"#46039f\"],[0.2222222222222222,\"#7201a8\"],[0.3333333333333333,\"#9c179e\"],[0.4444444444444444,\"#bd3786\"],[0.5555555555555556,\"#d8576b\"],[0.6666666666666666,\"#ed7953\"],[0.7777777777777778,\"#fb9f3a\"],[0.8888888888888888,\"#fdca26\"],[1.0,\"#f0f921\"]]}],\"surface\":[{\"type\":\"surface\",\"colorbar\":{\"outlinewidth\":0,\"ticks\":\"\"},\"colorscale\":[[0.0,\"#0d0887\"],[0.1111111111111111,\"#46039f\"],[0.2222222222222222,\"#7201a8\"],[0.3333333333333333,\"#9c179e\"],[0.4444444444444444,\"#bd3786\"],[0.5555555555555556,\"#d8576b\"],[0.6666666666666666,\"#ed7953\"],[0.7777777777777778,\"#fb9f3a\"],[0.8888888888888888,\"#fdca26\"],[1.0,\"#f0f921\"]]}],\"mesh3d\":[{\"type\":\"mesh3d\",\"colorbar\":{\"outlinewidth\":0,\"ticks\":\"\"}}],\"scatter\":[{\"fillpattern\":{\"fillmode\":\"overlay\",\"size\":10,\"solidity\":0.2},\"type\":\"scatter\"}],\"parcoords\":[{\"type\":\"parcoords\",\"line\":{\"colorbar\":{\"outlinewidth\":0,\"ticks\":\"\"}}}],\"scatterpolargl\":[{\"type\":\"scatterpolargl\",\"marker\":{\"colorbar\":{\"outlinewidth\":0,\"ticks\":\"\"}}}],\"bar\":[{\"error_x\":{\"color\":\"#2a3f5f\"},\"error_y\":{\"color\":\"#2a3f5f\"},\"marker\":{\"line\":{\"color\":\"#E5ECF6\",\"width\":0.5},\"pattern\":{\"fillmode\":\"overlay\",\"size\":10,\"solidity\":0.2}},\"type\":\"bar\"}],\"scattergeo\":[{\"type\":\"scattergeo\",\"marker\":{\"colorbar\":{\"outlinewidth\":0,\"ticks\":\"\"}}}],\"scatterpolar\":[{\"type\":\"scatterpolar\",\"marker\":{\"colorbar\":{\"outlinewidth\":0,\"ticks\":\"\"}}}],\"histogram\":[{\"marker\":{\"pattern\":{\"fillmode\":\"overlay\",\"size\":10,\"solidity\":0.2}},\"type\":\"histogram\"}],\"scattergl\":[{\"type\":\"scattergl\",\"marker\":{\"colorbar\":{\"outlinewidth\":0,\"ticks\":\"\"}}}],\"scatter3d\":[{\"type\":\"scatter3d\",\"line\":{\"colorbar\":{\"outlinewidth\":0,\"ticks\":\"\"}},\"marker\":{\"colorbar\":{\"outlinewidth\":0,\"ticks\":\"\"}}}],\"scattermapbox\":[{\"type\":\"scattermapbox\",\"marker\":{\"colorbar\":{\"outlinewidth\":0,\"ticks\":\"\"}}}],\"scatterternary\":[{\"type\":\"scatterternary\",\"marker\":{\"colorbar\":{\"outlinewidth\":0,\"ticks\":\"\"}}}],\"scattercarpet\":[{\"type\":\"scattercarpet\",\"marker\":{\"colorbar\":{\"outlinewidth\":0,\"ticks\":\"\"}}}],\"carpet\":[{\"aaxis\":{\"endlinecolor\":\"#2a3f5f\",\"gridcolor\":\"white\",\"linecolor\":\"white\",\"minorgridcolor\":\"white\",\"startlinecolor\":\"#2a3f5f\"},\"baxis\":{\"endlinecolor\":\"#2a3f5f\",\"gridcolor\":\"white\",\"linecolor\":\"white\",\"minorgridcolor\":\"white\",\"startlinecolor\":\"#2a3f5f\"},\"type\":\"carpet\"}],\"table\":[{\"cells\":{\"fill\":{\"color\":\"#EBF0F8\"},\"line\":{\"color\":\"white\"}},\"header\":{\"fill\":{\"color\":\"#C8D4E3\"},\"line\":{\"color\":\"white\"}},\"type\":\"table\"}],\"barpolar\":[{\"marker\":{\"line\":{\"color\":\"#E5ECF6\",\"width\":0.5},\"pattern\":{\"fillmode\":\"overlay\",\"size\":10,\"solidity\":0.2}},\"type\":\"barpolar\"}],\"pie\":[{\"automargin\":true,\"type\":\"pie\"}]},\"layout\":{\"autotypenumbers\":\"strict\",\"colorway\":[\"#636efa\",\"#EF553B\",\"#00cc96\",\"#ab63fa\",\"#FFA15A\",\"#19d3f3\",\"#FF6692\",\"#B6E880\",\"#FF97FF\",\"#FECB52\"],\"font\":{\"color\":\"#2a3f5f\"},\"hovermode\":\"closest\",\"hoverlabel\":{\"align\":\"left\"},\"paper_bgcolor\":\"white\",\"plot_bgcolor\":\"#E5ECF6\",\"polar\":{\"bgcolor\":\"#E5ECF6\",\"angularaxis\":{\"gridcolor\":\"white\",\"linecolor\":\"white\",\"ticks\":\"\"},\"radialaxis\":{\"gridcolor\":\"white\",\"linecolor\":\"white\",\"ticks\":\"\"}},\"ternary\":{\"bgcolor\":\"#E5ECF6\",\"aaxis\":{\"gridcolor\":\"white\",\"linecolor\":\"white\",\"ticks\":\"\"},\"baxis\":{\"gridcolor\":\"white\",\"linecolor\":\"white\",\"ticks\":\"\"},\"caxis\":{\"gridcolor\":\"white\",\"linecolor\":\"white\",\"ticks\":\"\"}},\"coloraxis\":{\"colorbar\":{\"outlinewidth\":0,\"ticks\":\"\"}},\"colorscale\":{\"sequential\":[[0.0,\"#0d0887\"],[0.1111111111111111,\"#46039f\"],[0.2222222222222222,\"#7201a8\"],[0.3333333333333333,\"#9c179e\"],[0.4444444444444444,\"#bd3786\"],[0.5555555555555556,\"#d8576b\"],[0.6666666666666666,\"#ed7953\"],[0.7777777777777778,\"#fb9f3a\"],[0.8888888888888888,\"#fdca26\"],[1.0,\"#f0f921\"]],\"sequentialminus\":[[0.0,\"#0d0887\"],[0.1111111111111111,\"#46039f\"],[0.2222222222222222,\"#7201a8\"],[0.3333333333333333,\"#9c179e\"],[0.4444444444444444,\"#bd3786\"],[0.5555555555555556,\"#d8576b\"],[0.6666666666666666,\"#ed7953\"],[0.7777777777777778,\"#fb9f3a\"],[0.8888888888888888,\"#fdca26\"],[1.0,\"#f0f921\"]],\"diverging\":[[0,\"#8e0152\"],[0.1,\"#c51b7d\"],[0.2,\"#de77ae\"],[0.3,\"#f1b6da\"],[0.4,\"#fde0ef\"],[0.5,\"#f7f7f7\"],[0.6,\"#e6f5d0\"],[0.7,\"#b8e186\"],[0.8,\"#7fbc41\"],[0.9,\"#4d9221\"],[1,\"#276419\"]]},\"xaxis\":{\"gridcolor\":\"white\",\"linecolor\":\"white\",\"ticks\":\"\",\"title\":{\"standoff\":15},\"zerolinecolor\":\"white\",\"automargin\":true,\"zerolinewidth\":2},\"yaxis\":{\"gridcolor\":\"white\",\"linecolor\":\"white\",\"ticks\":\"\",\"title\":{\"standoff\":15},\"zerolinecolor\":\"white\",\"automargin\":true,\"zerolinewidth\":2},\"scene\":{\"xaxis\":{\"backgroundcolor\":\"#E5ECF6\",\"gridcolor\":\"white\",\"linecolor\":\"white\",\"showbackground\":true,\"ticks\":\"\",\"zerolinecolor\":\"white\",\"gridwidth\":2},\"yaxis\":{\"backgroundcolor\":\"#E5ECF6\",\"gridcolor\":\"white\",\"linecolor\":\"white\",\"showbackground\":true,\"ticks\":\"\",\"zerolinecolor\":\"white\",\"gridwidth\":2},\"zaxis\":{\"backgroundcolor\":\"#E5ECF6\",\"gridcolor\":\"white\",\"linecolor\":\"white\",\"showbackground\":true,\"ticks\":\"\",\"zerolinecolor\":\"white\",\"gridwidth\":2}},\"shapedefaults\":{\"line\":{\"color\":\"#2a3f5f\"}},\"annotationdefaults\":{\"arrowcolor\":\"#2a3f5f\",\"arrowhead\":0,\"arrowwidth\":1},\"geo\":{\"bgcolor\":\"white\",\"landcolor\":\"#E5ECF6\",\"subunitcolor\":\"white\",\"showland\":true,\"showlakes\":true,\"lakecolor\":\"white\"},\"title\":{\"x\":0.05},\"mapbox\":{\"style\":\"light\"}}},\"mapbox\":{\"domain\":{\"x\":[0.0,1.0],\"y\":[0.0,1.0]},\"center\":{\"lat\":19.375781142857143,\"lon\":-155.27389742857142},\"zoom\":8,\"style\":\"carto-positron\"},\"legend\":{\"tracegroupgap\":0},\"margin\":{\"t\":60}},                        {\"responsive\": true}                    ).then(function(){\n",
       "                            \n",
       "var gd = document.getElementById('f01ac1e7-fd1d-482c-84e4-94025f23629a');\n",
       "var x = new MutationObserver(function (mutations, observer) {{\n",
       "        var display = window.getComputedStyle(gd).display;\n",
       "        if (!display || display === 'none') {{\n",
       "            console.log([gd, 'removed!']);\n",
       "            Plotly.purge(gd);\n",
       "            observer.disconnect();\n",
       "        }}\n",
       "}});\n",
       "\n",
       "// Listen for the removal of the full notebook cells\n",
       "var notebookContainer = gd.closest('#notebook-container');\n",
       "if (notebookContainer) {{\n",
       "    x.observe(notebookContainer, {childList: true});\n",
       "}}\n",
       "\n",
       "// Listen for the clearing of the current output cell\n",
       "var outputEl = gd.closest('.output');\n",
       "if (outputEl) {{\n",
       "    x.observe(outputEl, {childList: true});\n",
       "}}\n",
       "\n",
       "                        })                };                });            </script>        </div>"
      ]
     },
     "metadata": {},
     "output_type": "display_data"
    }
   ],
   "source": [
    "state_visual(df, \"Hawaii\")"
   ]
  }
 ],
 "metadata": {
  "kernelspec": {
   "display_name": "Python [conda env:PIC16B-24W] *",
   "language": "python",
   "name": "conda-env-PIC16B-24W-py"
  },
  "language_info": {
   "codemirror_mode": {
    "name": "ipython",
    "version": 3
   },
   "file_extension": ".py",
   "mimetype": "text/x-python",
   "name": "python",
   "nbconvert_exporter": "python",
   "pygments_lexer": "ipython3",
   "version": "3.11.6"
  }
 },
 "nbformat": 4,
 "nbformat_minor": 5
}
