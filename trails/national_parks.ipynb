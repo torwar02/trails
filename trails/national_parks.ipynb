{
 "cells": [
  {
   "cell_type": "markdown",
   "metadata": {
    "id": "r0pLSCDuJZ__"
   },
   "source": [
    "# Import Packages"
   ]
  },
  {
   "cell_type": "code",
   "execution_count": 12,
   "metadata": {
    "id": "wLimFw_vQQbm"
   },
   "outputs": [],
   "source": [
    "import pandas as pd\n",
    "import numpy as np\n",
    "from matplotlib import pyplot as plt"
   ]
  },
  {
   "cell_type": "code",
   "execution_count": 13,
   "metadata": {
    "id": "b0sbN2wzny4a"
   },
   "outputs": [],
   "source": [
    "import gensim\n",
    "import spacy\n",
    "import openpyxl"
   ]
  },
  {
   "cell_type": "code",
   "execution_count": 3,
   "metadata": {
    "colab": {
     "base_uri": "https://localhost:8080/"
    },
    "id": "qyjPHU8GoGz7",
    "outputId": "a0ff8f70-8360-4b0b-f327-2e609a1c256a"
   },
   "outputs": [
    {
     "name": "stdout",
     "output_type": "stream",
     "text": [
      "/Users/ziongassner/anaconda3/bin/python: No module named spacy\r\n"
     ]
    }
   ],
   "source": [
    "!python -m spacy download en_core_web_lg"
   ]
  },
  {
   "cell_type": "code",
   "execution_count": 14,
   "metadata": {
    "id": "bVtINyPUn5Ui"
   },
   "outputs": [],
   "source": [
    "nlp = spacy.load('en_core_web_lg')"
   ]
  },
  {
   "cell_type": "markdown",
   "metadata": {
    "id": "6imtDN2ZJdXQ"
   },
   "source": [
    "# Load Data"
   ]
  },
  {
   "cell_type": "code",
   "execution_count": 15,
   "metadata": {
    "id": "XYJkFiihQYHZ"
   },
   "outputs": [],
   "source": [
    "df = pd.read_csv(\"national_parks.csv\")"
   ]
  },
  {
   "cell_type": "code",
   "execution_count": 16,
   "metadata": {
    "colab": {
     "base_uri": "https://localhost:8080/",
     "height": 424
    },
    "id": "TXqZ6tw7Qs8G",
    "outputId": "293507b1-c8e6-4c01-ed8f-9f4e9f7a5997"
   },
   "outputs": [
    {
     "data": {
      "text/html": [
       "<div>\n",
       "<style scoped>\n",
       "    .dataframe tbody tr th:only-of-type {\n",
       "        vertical-align: middle;\n",
       "    }\n",
       "\n",
       "    .dataframe tbody tr th {\n",
       "        vertical-align: top;\n",
       "    }\n",
       "\n",
       "    .dataframe thead th {\n",
       "        text-align: right;\n",
       "    }\n",
       "</style>\n",
       "<table border=\"1\" class=\"dataframe\">\n",
       "  <thead>\n",
       "    <tr style=\"text-align: right;\">\n",
       "      <th></th>\n",
       "      <th>national_park</th>\n",
       "      <th>state</th>\n",
       "      <th>trail</th>\n",
       "      <th>activity</th>\n",
       "      <th>overall_rating</th>\n",
       "      <th>comment_title</th>\n",
       "      <th>comment_ratings</th>\n",
       "      <th>comment_text</th>\n",
       "    </tr>\n",
       "  </thead>\n",
       "  <tbody>\n",
       "    <tr>\n",
       "      <th>0</th>\n",
       "      <td>Acadia National Park</td>\n",
       "      <td>Maine (ME)</td>\n",
       "      <td>Beech Mountain Trail</td>\n",
       "      <td>Hiking Trails</td>\n",
       "      <td>4.5</td>\n",
       "      <td>Turned back on 3/20/21 due to ice</td>\n",
       "      <td>4.0 of 5 bubbles</td>\n",
       "      <td>I have hiked to the fire tower a few times. It...</td>\n",
       "    </tr>\n",
       "    <tr>\n",
       "      <th>1</th>\n",
       "      <td>Acadia National Park</td>\n",
       "      <td>Maine (ME)</td>\n",
       "      <td>Beech Mountain Trail</td>\n",
       "      <td>Hiking Trails</td>\n",
       "      <td>4.5</td>\n",
       "      <td>Spectacular</td>\n",
       "      <td>5.0 of 5 bubbles</td>\n",
       "      <td>This trail was recommended in my Acadia travel...</td>\n",
       "    </tr>\n",
       "    <tr>\n",
       "      <th>2</th>\n",
       "      <td>Acadia National Park</td>\n",
       "      <td>Maine (ME)</td>\n",
       "      <td>Beech Mountain Trail</td>\n",
       "      <td>Hiking Trails</td>\n",
       "      <td>4.5</td>\n",
       "      <td>Great Trail</td>\n",
       "      <td>5.0 of 5 bubbles</td>\n",
       "      <td>Beech Mountain Trail is one of my favorites in...</td>\n",
       "    </tr>\n",
       "    <tr>\n",
       "      <th>3</th>\n",
       "      <td>Acadia National Park</td>\n",
       "      <td>Maine (ME)</td>\n",
       "      <td>Beech Mountain Trail</td>\n",
       "      <td>Hiking Trails</td>\n",
       "      <td>4.5</td>\n",
       "      <td>Best trail in Acadia</td>\n",
       "      <td>5.0 of 5 bubbles</td>\n",
       "      <td>We stumbled onto this trail and were very happ...</td>\n",
       "    </tr>\n",
       "    <tr>\n",
       "      <th>4</th>\n",
       "      <td>Acadia National Park</td>\n",
       "      <td>Maine (ME)</td>\n",
       "      <td>Beech Mountain Trail</td>\n",
       "      <td>Hiking Trails</td>\n",
       "      <td>4.5</td>\n",
       "      <td>Great trail for family</td>\n",
       "      <td>5.0 of 5 bubbles</td>\n",
       "      <td>My family has kids ranging from age 10 to 3. W...</td>\n",
       "    </tr>\n",
       "    <tr>\n",
       "      <th>...</th>\n",
       "      <td>...</td>\n",
       "      <td>...</td>\n",
       "      <td>...</td>\n",
       "      <td>...</td>\n",
       "      <td>...</td>\n",
       "      <td>...</td>\n",
       "      <td>...</td>\n",
       "      <td>...</td>\n",
       "    </tr>\n",
       "    <tr>\n",
       "      <th>3868</th>\n",
       "      <td>Zion National Park</td>\n",
       "      <td>Utah (UT)</td>\n",
       "      <td>Zion Canyon Scenic Drive</td>\n",
       "      <td>Scenic Drives</td>\n",
       "      <td>5.0</td>\n",
       "      <td>Words Can't Adequality Describe This</td>\n",
       "      <td>5.0 of 5 bubbles</td>\n",
       "      <td>Breathtaking drive!  Pictures just don't do th...</td>\n",
       "    </tr>\n",
       "    <tr>\n",
       "      <th>3869</th>\n",
       "      <td>Zion National Park</td>\n",
       "      <td>Utah (UT)</td>\n",
       "      <td>Zion Canyon Scenic Drive</td>\n",
       "      <td>Scenic Drives</td>\n",
       "      <td>5.0</td>\n",
       "      <td>Beautiful Drive</td>\n",
       "      <td>5.0 of 5 bubbles</td>\n",
       "      <td>Spectacular scenery all along the route. Plent...</td>\n",
       "    </tr>\n",
       "    <tr>\n",
       "      <th>3870</th>\n",
       "      <td>Zion National Park</td>\n",
       "      <td>Utah (UT)</td>\n",
       "      <td>Zion Canyon Scenic Drive</td>\n",
       "      <td>Scenic Drives</td>\n",
       "      <td>5.0</td>\n",
       "      <td>Spectacular Zion.</td>\n",
       "      <td>5.0 of 5 bubbles</td>\n",
       "      <td>The Zion Canyon Scenic Drive is spectacular!  ...</td>\n",
       "    </tr>\n",
       "    <tr>\n",
       "      <th>3871</th>\n",
       "      <td>Zion National Park</td>\n",
       "      <td>Utah (UT)</td>\n",
       "      <td>Zion Canyon Scenic Drive</td>\n",
       "      <td>Scenic Drives</td>\n",
       "      <td>5.0</td>\n",
       "      <td>Mix 'n match</td>\n",
       "      <td>4.0 of 5 bubbles</td>\n",
       "      <td>We experienced Zion Canyon Scenic Drive two ways.</td>\n",
       "    </tr>\n",
       "    <tr>\n",
       "      <th>3872</th>\n",
       "      <td>Zion National Park</td>\n",
       "      <td>Utah (UT)</td>\n",
       "      <td>Zion Canyon Scenic Drive</td>\n",
       "      <td>Scenic Drives</td>\n",
       "      <td>5.0</td>\n",
       "      <td>Really cool</td>\n",
       "      <td>5.0 of 5 bubbles</td>\n",
       "      <td>Great views driving by here many times on the ...</td>\n",
       "    </tr>\n",
       "  </tbody>\n",
       "</table>\n",
       "<p>3873 rows × 8 columns</p>\n",
       "</div>"
      ],
      "text/plain": [
       "             national_park       state                     trail  \\\n",
       "0     Acadia National Park  Maine (ME)      Beech Mountain Trail   \n",
       "1     Acadia National Park  Maine (ME)      Beech Mountain Trail   \n",
       "2     Acadia National Park  Maine (ME)      Beech Mountain Trail   \n",
       "3     Acadia National Park  Maine (ME)      Beech Mountain Trail   \n",
       "4     Acadia National Park  Maine (ME)      Beech Mountain Trail   \n",
       "...                    ...         ...                       ...   \n",
       "3868    Zion National Park   Utah (UT)  Zion Canyon Scenic Drive   \n",
       "3869    Zion National Park   Utah (UT)  Zion Canyon Scenic Drive   \n",
       "3870    Zion National Park   Utah (UT)  Zion Canyon Scenic Drive   \n",
       "3871    Zion National Park   Utah (UT)  Zion Canyon Scenic Drive   \n",
       "3872    Zion National Park   Utah (UT)  Zion Canyon Scenic Drive   \n",
       "\n",
       "           activity  overall_rating                         comment_title  \\\n",
       "0     Hiking Trails             4.5     Turned back on 3/20/21 due to ice   \n",
       "1     Hiking Trails             4.5                           Spectacular   \n",
       "2     Hiking Trails             4.5                           Great Trail   \n",
       "3     Hiking Trails             4.5                  Best trail in Acadia   \n",
       "4     Hiking Trails             4.5                Great trail for family   \n",
       "...             ...             ...                                   ...   \n",
       "3868  Scenic Drives             5.0  Words Can't Adequality Describe This   \n",
       "3869  Scenic Drives             5.0                       Beautiful Drive   \n",
       "3870  Scenic Drives             5.0                     Spectacular Zion.   \n",
       "3871  Scenic Drives             5.0                          Mix 'n match   \n",
       "3872  Scenic Drives             5.0                           Really cool   \n",
       "\n",
       "       comment_ratings                                       comment_text  \n",
       "0     4.0 of 5 bubbles  I have hiked to the fire tower a few times. It...  \n",
       "1     5.0 of 5 bubbles  This trail was recommended in my Acadia travel...  \n",
       "2     5.0 of 5 bubbles  Beech Mountain Trail is one of my favorites in...  \n",
       "3     5.0 of 5 bubbles  We stumbled onto this trail and were very happ...  \n",
       "4     5.0 of 5 bubbles  My family has kids ranging from age 10 to 3. W...  \n",
       "...                ...                                                ...  \n",
       "3868  5.0 of 5 bubbles  Breathtaking drive!  Pictures just don't do th...  \n",
       "3869  5.0 of 5 bubbles  Spectacular scenery all along the route. Plent...  \n",
       "3870  5.0 of 5 bubbles  The Zion Canyon Scenic Drive is spectacular!  ...  \n",
       "3871  4.0 of 5 bubbles  We experienced Zion Canyon Scenic Drive two ways.  \n",
       "3872  5.0 of 5 bubbles  Great views driving by here many times on the ...  \n",
       "\n",
       "[3873 rows x 8 columns]"
      ]
     },
     "execution_count": 16,
     "metadata": {},
     "output_type": "execute_result"
    }
   ],
   "source": [
    "df"
   ]
  },
  {
   "cell_type": "code",
   "execution_count": 17,
   "metadata": {
    "id": "S7Sd9xD2XDVZ"
   },
   "outputs": [],
   "source": [
    "df2 = pd.read_excel(\"coords.xlsx\")"
   ]
  },
  {
   "cell_type": "code",
   "execution_count": 18,
   "metadata": {
    "colab": {
     "base_uri": "https://localhost:8080/",
     "height": 424
    },
    "id": "5-tzgWE0XZU_",
    "outputId": "3ef1a56e-27f3-4c55-c6c6-83c2ac6ee5a5"
   },
   "outputs": [
    {
     "data": {
      "text/html": [
       "<div>\n",
       "<style scoped>\n",
       "    .dataframe tbody tr th:only-of-type {\n",
       "        vertical-align: middle;\n",
       "    }\n",
       "\n",
       "    .dataframe tbody tr th {\n",
       "        vertical-align: top;\n",
       "    }\n",
       "\n",
       "    .dataframe thead th {\n",
       "        text-align: right;\n",
       "    }\n",
       "</style>\n",
       "<table border=\"1\" class=\"dataframe\">\n",
       "  <thead>\n",
       "    <tr style=\"text-align: right;\">\n",
       "      <th></th>\n",
       "      <th>Latitude</th>\n",
       "      <th>Longitude</th>\n",
       "      <th>Park</th>\n",
       "      <th>State(s)</th>\n",
       "      <th>Park Established</th>\n",
       "      <th>Area</th>\n",
       "      <th>Visitors (2018)</th>\n",
       "    </tr>\n",
       "  </thead>\n",
       "  <tbody>\n",
       "    <tr>\n",
       "      <th>0</th>\n",
       "      <td>44.35</td>\n",
       "      <td>-68.21</td>\n",
       "      <td>Acadia</td>\n",
       "      <td>Maine</td>\n",
       "      <td>February 26, 1919</td>\n",
       "      <td>49,075.26 acres (198.6 km2)</td>\n",
       "      <td>3537575</td>\n",
       "    </tr>\n",
       "    <tr>\n",
       "      <th>1</th>\n",
       "      <td>-14.25</td>\n",
       "      <td>-170.68</td>\n",
       "      <td>American Samoa</td>\n",
       "      <td>American Samoa</td>\n",
       "      <td>October 31, 1988</td>\n",
       "      <td>8,256.67 acres (33.4 km2)</td>\n",
       "      <td>28626</td>\n",
       "    </tr>\n",
       "    <tr>\n",
       "      <th>2</th>\n",
       "      <td>38.68</td>\n",
       "      <td>-109.57</td>\n",
       "      <td>Arches</td>\n",
       "      <td>Utah</td>\n",
       "      <td>November 12, 1971</td>\n",
       "      <td>76,678.98 acres (310.3 km2)</td>\n",
       "      <td>1663557</td>\n",
       "    </tr>\n",
       "    <tr>\n",
       "      <th>3</th>\n",
       "      <td>43.75</td>\n",
       "      <td>-102.50</td>\n",
       "      <td>Badlands</td>\n",
       "      <td>South Dakota</td>\n",
       "      <td>November 10, 1978</td>\n",
       "      <td>242,755.94 acres (982.4 km2)</td>\n",
       "      <td>1008942</td>\n",
       "    </tr>\n",
       "    <tr>\n",
       "      <th>4</th>\n",
       "      <td>29.25</td>\n",
       "      <td>-103.25</td>\n",
       "      <td>Big Bend</td>\n",
       "      <td>Texas</td>\n",
       "      <td>June 12, 1944</td>\n",
       "      <td>801,163.21 acres (3,242.2 km2)</td>\n",
       "      <td>440091</td>\n",
       "    </tr>\n",
       "    <tr>\n",
       "      <th>...</th>\n",
       "      <td>...</td>\n",
       "      <td>...</td>\n",
       "      <td>...</td>\n",
       "      <td>...</td>\n",
       "      <td>...</td>\n",
       "      <td>...</td>\n",
       "      <td>...</td>\n",
       "    </tr>\n",
       "    <tr>\n",
       "      <th>56</th>\n",
       "      <td>43.57</td>\n",
       "      <td>-103.48</td>\n",
       "      <td>Wind Cave</td>\n",
       "      <td>South Dakota</td>\n",
       "      <td>January 9, 1903</td>\n",
       "      <td>33,970.84 acres (137.5 km2)</td>\n",
       "      <td>656397</td>\n",
       "    </tr>\n",
       "    <tr>\n",
       "      <th>57</th>\n",
       "      <td>61.00</td>\n",
       "      <td>-142.00</td>\n",
       "      <td>Wrangell–St. Elias</td>\n",
       "      <td>Alaska</td>\n",
       "      <td>December 2, 1980</td>\n",
       "      <td>8,323,146.48 acres (33,682.6 km2)</td>\n",
       "      <td>79450</td>\n",
       "    </tr>\n",
       "    <tr>\n",
       "      <th>58</th>\n",
       "      <td>44.60</td>\n",
       "      <td>-110.50</td>\n",
       "      <td>Yellowstone</td>\n",
       "      <td>Wyoming, Montana, Idaho</td>\n",
       "      <td>March 1, 1872</td>\n",
       "      <td>2,219,790.71 acres (8,983.2 km2)</td>\n",
       "      <td>4115000</td>\n",
       "    </tr>\n",
       "    <tr>\n",
       "      <th>59</th>\n",
       "      <td>37.83</td>\n",
       "      <td>-119.50</td>\n",
       "      <td>Yosemite</td>\n",
       "      <td>California</td>\n",
       "      <td>October 1, 1890</td>\n",
       "      <td>761,747.50 acres (3,082.7 km2)</td>\n",
       "      <td>4009436</td>\n",
       "    </tr>\n",
       "    <tr>\n",
       "      <th>60</th>\n",
       "      <td>37.30</td>\n",
       "      <td>-113.05</td>\n",
       "      <td>Zion</td>\n",
       "      <td>Utah</td>\n",
       "      <td>November 19, 1919</td>\n",
       "      <td>147,237.02 acres (595.8 km2)</td>\n",
       "      <td>4320033</td>\n",
       "    </tr>\n",
       "  </tbody>\n",
       "</table>\n",
       "<p>61 rows × 7 columns</p>\n",
       "</div>"
      ],
      "text/plain": [
       "    Latitude  Longitude                Park                 State(s)  \\\n",
       "0      44.35     -68.21              Acadia                    Maine   \n",
       "1     -14.25    -170.68      American Samoa           American Samoa   \n",
       "2      38.68    -109.57              Arches                     Utah   \n",
       "3      43.75    -102.50            Badlands             South Dakota   \n",
       "4      29.25    -103.25            Big Bend                    Texas   \n",
       "..       ...        ...                 ...                      ...   \n",
       "56     43.57    -103.48           Wind Cave             South Dakota   \n",
       "57     61.00    -142.00  Wrangell–St. Elias                   Alaska   \n",
       "58     44.60    -110.50         Yellowstone  Wyoming, Montana, Idaho   \n",
       "59     37.83    -119.50            Yosemite               California   \n",
       "60     37.30    -113.05                Zion                     Utah   \n",
       "\n",
       "     Park Established                               Area  Visitors (2018)  \n",
       "0   February 26, 1919        49,075.26 acres (198.6 km2)          3537575  \n",
       "1    October 31, 1988          8,256.67 acres (33.4 km2)            28626  \n",
       "2   November 12, 1971        76,678.98 acres (310.3 km2)          1663557  \n",
       "3   November 10, 1978       242,755.94 acres (982.4 km2)          1008942  \n",
       "4       June 12, 1944     801,163.21 acres (3,242.2 km2)           440091  \n",
       "..                ...                                ...              ...  \n",
       "56    January 9, 1903        33,970.84 acres (137.5 km2)           656397  \n",
       "57   December 2, 1980  8,323,146.48 acres (33,682.6 km2)            79450  \n",
       "58      March 1, 1872   2,219,790.71 acres (8,983.2 km2)          4115000  \n",
       "59    October 1, 1890     761,747.50 acres (3,082.7 km2)          4009436  \n",
       "60  November 19, 1919       147,237.02 acres (595.8 km2)          4320033  \n",
       "\n",
       "[61 rows x 7 columns]"
      ]
     },
     "execution_count": 18,
     "metadata": {},
     "output_type": "execute_result"
    }
   ],
   "source": [
    "df2"
   ]
  },
  {
   "cell_type": "markdown",
   "metadata": {
    "id": "eYCiyfRRJg3d"
   },
   "source": [
    "# Data Preprocessing with Regex"
   ]
  },
  {
   "cell_type": "code",
   "execution_count": 19,
   "metadata": {
    "id": "aqVBndwXy8wr"
   },
   "outputs": [],
   "source": [
    "import re"
   ]
  },
  {
   "cell_type": "markdown",
   "metadata": {
    "id": "RLJENiebreEH"
   },
   "source": [
    "Get string preceding 'National Park'"
   ]
  },
  {
   "cell_type": "code",
   "execution_count": 20,
   "metadata": {
    "id": "Nm4YrQWAzbRs"
   },
   "outputs": [],
   "source": [
    "pattern = r'(.*?)(?:\\s+National Park)?$'\n",
    "result = re.findall(pattern, df['national_park'].iloc[0])"
   ]
  },
  {
   "cell_type": "code",
   "execution_count": 21,
   "metadata": {
    "colab": {
     "base_uri": "https://localhost:8080/",
     "height": 35
    },
    "id": "nHiEkt3b0tzW",
    "outputId": "e0983f8d-8f0e-474b-fda0-c27d338f6b30"
   },
   "outputs": [
    {
     "data": {
      "text/plain": [
       "'Acadia National Park'"
      ]
     },
     "execution_count": 21,
     "metadata": {},
     "output_type": "execute_result"
    }
   ],
   "source": [
    "df['national_park'].iloc[0]"
   ]
  },
  {
   "cell_type": "code",
   "execution_count": 22,
   "metadata": {
    "colab": {
     "base_uri": "https://localhost:8080/"
    },
    "id": "2XXdoHzm0qqb",
    "outputId": "045f4fdc-bb89-4d6d-fda2-8a6b4bc00af2"
   },
   "outputs": [
    {
     "data": {
      "text/plain": [
       "['Acadia', '']"
      ]
     },
     "execution_count": 22,
     "metadata": {},
     "output_type": "execute_result"
    }
   ],
   "source": [
    "result"
   ]
  },
  {
   "cell_type": "code",
   "execution_count": 23,
   "metadata": {
    "colab": {
     "base_uri": "https://localhost:8080/",
     "height": 35
    },
    "id": "9y8gPLhB2N5r",
    "outputId": "ca2dc22e-8c4e-4695-8fb4-86dffd0e8648"
   },
   "outputs": [
    {
     "data": {
      "text/plain": [
       "'Death Valley National Park'"
      ]
     },
     "execution_count": 23,
     "metadata": {},
     "output_type": "execute_result"
    }
   ],
   "source": [
    "result = re.findall(pattern, df['national_park'].iloc[170])\n",
    "df['national_park'].iloc[170]"
   ]
  },
  {
   "cell_type": "code",
   "execution_count": 24,
   "metadata": {
    "colab": {
     "base_uri": "https://localhost:8080/"
    },
    "id": "sGOk8bZk2UiZ",
    "outputId": "a293ca15-265b-4c0a-e81d-ba59df461c29"
   },
   "outputs": [
    {
     "data": {
      "text/plain": [
       "['Death Valley', '']"
      ]
     },
     "execution_count": 24,
     "metadata": {},
     "output_type": "execute_result"
    }
   ],
   "source": [
    "result"
   ]
  },
  {
   "cell_type": "code",
   "execution_count": 25,
   "metadata": {
    "colab": {
     "base_uri": "https://localhost:8080/",
     "height": 35
    },
    "id": "f90J9i3y5rdT",
    "outputId": "0dc0f140-5c60-4af5-fd7f-47d82a083138"
   },
   "outputs": [
    {
     "data": {
      "text/plain": [
       "'Cantwell'"
      ]
     },
     "execution_count": 25,
     "metadata": {},
     "output_type": "execute_result"
    }
   ],
   "source": [
    "df['national_park'].iloc[490]"
   ]
  },
  {
   "cell_type": "code",
   "execution_count": 26,
   "metadata": {
    "colab": {
     "base_uri": "https://localhost:8080/"
    },
    "id": "P-c3F7IB9YWa",
    "outputId": "9a060600-84c8-4500-9915-72067800e2d6"
   },
   "outputs": [
    {
     "data": {
      "text/plain": [
       "['Cantwell', '']"
      ]
     },
     "execution_count": 26,
     "metadata": {},
     "output_type": "execute_result"
    }
   ],
   "source": [
    "result = re.findall(pattern, df['national_park'].iloc[490])\n",
    "result"
   ]
  },
  {
   "cell_type": "code",
   "execution_count": 27,
   "metadata": {
    "id": "EYTGr6eL27VG"
   },
   "outputs": [],
   "source": [
    "park = []\n",
    "for row in df['national_park']:\n",
    "  test_park = re.findall(pattern, row)\n",
    "  park.append(test_park[0])"
   ]
  },
  {
   "cell_type": "code",
   "execution_count": 28,
   "metadata": {
    "colab": {
     "base_uri": "https://localhost:8080/"
    },
    "id": "m7g3-vYC30oS",
    "outputId": "b080c002-edc9-4299-99d3-0b37b9c2ce6a"
   },
   "outputs": [
    {
     "data": {
      "text/plain": [
       "True"
      ]
     },
     "execution_count": 28,
     "metadata": {},
     "output_type": "execute_result"
    }
   ],
   "source": [
    "len(park) == len(df)"
   ]
  },
  {
   "cell_type": "code",
   "execution_count": 29,
   "metadata": {
    "id": "1cX5Bbnh3Ool"
   },
   "outputs": [],
   "source": [
    "df['park'] = park"
   ]
  },
  {
   "cell_type": "code",
   "execution_count": 31,
   "metadata": {
    "colab": {
     "base_uri": "https://localhost:8080/"
    },
    "id": "YTE7-LFz8e14",
    "outputId": "b433ac3c-2fbd-4dbf-cee7-e33140130ce8"
   },
   "outputs": [
    {
     "data": {
      "text/plain": [
       "0       Acadia\n",
       "1       Acadia\n",
       "2       Acadia\n",
       "3       Acadia\n",
       "4       Acadia\n",
       "         ...  \n",
       "3868      Zion\n",
       "3869      Zion\n",
       "3870      Zion\n",
       "3871      Zion\n",
       "3872      Zion\n",
       "Name: park, Length: 3873, dtype: object"
      ]
     },
     "execution_count": 31,
     "metadata": {},
     "output_type": "execute_result"
    }
   ],
   "source": [
    "df['park']"
   ]
  },
  {
   "cell_type": "code",
   "execution_count": 32,
   "metadata": {
    "colab": {
     "base_uri": "https://localhost:8080/"
    },
    "id": "aftkDdLtJsKX",
    "outputId": "d4cf24fc-de0c-4f89-b5ad-d246b776a629"
   },
   "outputs": [
    {
     "data": {
      "text/plain": [
       "0                 Acadia\n",
       "1         American Samoa\n",
       "2                 Arches\n",
       "3               Badlands\n",
       "4               Big Bend\n",
       "             ...        \n",
       "56             Wind Cave\n",
       "57    Wrangell–St. Elias\n",
       "58           Yellowstone\n",
       "59              Yosemite\n",
       "60                  Zion\n",
       "Name: Park, Length: 61, dtype: object"
      ]
     },
     "execution_count": 32,
     "metadata": {},
     "output_type": "execute_result"
    }
   ],
   "source": [
    "df2['Park']"
   ]
  },
  {
   "cell_type": "code",
   "execution_count": 33,
   "metadata": {
    "colab": {
     "base_uri": "https://localhost:8080/",
     "height": 484
    },
    "id": "iSVifqdXZFG8",
    "outputId": "ce46aa95-d57c-4367-e5bd-36b442f4412d"
   },
   "outputs": [
    {
     "data": {
      "text/html": [
       "<div>\n",
       "<style scoped>\n",
       "    .dataframe tbody tr th:only-of-type {\n",
       "        vertical-align: middle;\n",
       "    }\n",
       "\n",
       "    .dataframe tbody tr th {\n",
       "        vertical-align: top;\n",
       "    }\n",
       "\n",
       "    .dataframe thead th {\n",
       "        text-align: right;\n",
       "    }\n",
       "</style>\n",
       "<table border=\"1\" class=\"dataframe\">\n",
       "  <thead>\n",
       "    <tr style=\"text-align: right;\">\n",
       "      <th></th>\n",
       "      <th>national_park</th>\n",
       "      <th>state</th>\n",
       "      <th>trail</th>\n",
       "      <th>activity</th>\n",
       "      <th>overall_rating</th>\n",
       "      <th>comment_title</th>\n",
       "      <th>comment_ratings</th>\n",
       "      <th>comment_text</th>\n",
       "      <th>park</th>\n",
       "      <th>Latitude</th>\n",
       "      <th>Longitude</th>\n",
       "      <th>Park</th>\n",
       "      <th>State(s)</th>\n",
       "      <th>Park Established</th>\n",
       "      <th>Area</th>\n",
       "      <th>Visitors (2018)</th>\n",
       "    </tr>\n",
       "  </thead>\n",
       "  <tbody>\n",
       "    <tr>\n",
       "      <th>0</th>\n",
       "      <td>Acadia National Park</td>\n",
       "      <td>Maine (ME)</td>\n",
       "      <td>Beech Mountain Trail</td>\n",
       "      <td>Hiking Trails</td>\n",
       "      <td>4.5</td>\n",
       "      <td>Turned back on 3/20/21 due to ice</td>\n",
       "      <td>4.0 of 5 bubbles</td>\n",
       "      <td>I have hiked to the fire tower a few times. It...</td>\n",
       "      <td>Acadia</td>\n",
       "      <td>44.35</td>\n",
       "      <td>-68.21</td>\n",
       "      <td>Acadia</td>\n",
       "      <td>Maine</td>\n",
       "      <td>February 26, 1919</td>\n",
       "      <td>49,075.26 acres (198.6 km2)</td>\n",
       "      <td>3537575</td>\n",
       "    </tr>\n",
       "    <tr>\n",
       "      <th>1</th>\n",
       "      <td>Acadia National Park</td>\n",
       "      <td>Maine (ME)</td>\n",
       "      <td>Beech Mountain Trail</td>\n",
       "      <td>Hiking Trails</td>\n",
       "      <td>4.5</td>\n",
       "      <td>Spectacular</td>\n",
       "      <td>5.0 of 5 bubbles</td>\n",
       "      <td>This trail was recommended in my Acadia travel...</td>\n",
       "      <td>Acadia</td>\n",
       "      <td>44.35</td>\n",
       "      <td>-68.21</td>\n",
       "      <td>Acadia</td>\n",
       "      <td>Maine</td>\n",
       "      <td>February 26, 1919</td>\n",
       "      <td>49,075.26 acres (198.6 km2)</td>\n",
       "      <td>3537575</td>\n",
       "    </tr>\n",
       "    <tr>\n",
       "      <th>2</th>\n",
       "      <td>Acadia National Park</td>\n",
       "      <td>Maine (ME)</td>\n",
       "      <td>Beech Mountain Trail</td>\n",
       "      <td>Hiking Trails</td>\n",
       "      <td>4.5</td>\n",
       "      <td>Great Trail</td>\n",
       "      <td>5.0 of 5 bubbles</td>\n",
       "      <td>Beech Mountain Trail is one of my favorites in...</td>\n",
       "      <td>Acadia</td>\n",
       "      <td>44.35</td>\n",
       "      <td>-68.21</td>\n",
       "      <td>Acadia</td>\n",
       "      <td>Maine</td>\n",
       "      <td>February 26, 1919</td>\n",
       "      <td>49,075.26 acres (198.6 km2)</td>\n",
       "      <td>3537575</td>\n",
       "    </tr>\n",
       "    <tr>\n",
       "      <th>3</th>\n",
       "      <td>Acadia National Park</td>\n",
       "      <td>Maine (ME)</td>\n",
       "      <td>Beech Mountain Trail</td>\n",
       "      <td>Hiking Trails</td>\n",
       "      <td>4.5</td>\n",
       "      <td>Best trail in Acadia</td>\n",
       "      <td>5.0 of 5 bubbles</td>\n",
       "      <td>We stumbled onto this trail and were very happ...</td>\n",
       "      <td>Acadia</td>\n",
       "      <td>44.35</td>\n",
       "      <td>-68.21</td>\n",
       "      <td>Acadia</td>\n",
       "      <td>Maine</td>\n",
       "      <td>February 26, 1919</td>\n",
       "      <td>49,075.26 acres (198.6 km2)</td>\n",
       "      <td>3537575</td>\n",
       "    </tr>\n",
       "    <tr>\n",
       "      <th>4</th>\n",
       "      <td>Acadia National Park</td>\n",
       "      <td>Maine (ME)</td>\n",
       "      <td>Beech Mountain Trail</td>\n",
       "      <td>Hiking Trails</td>\n",
       "      <td>4.5</td>\n",
       "      <td>Great trail for family</td>\n",
       "      <td>5.0 of 5 bubbles</td>\n",
       "      <td>My family has kids ranging from age 10 to 3. W...</td>\n",
       "      <td>Acadia</td>\n",
       "      <td>44.35</td>\n",
       "      <td>-68.21</td>\n",
       "      <td>Acadia</td>\n",
       "      <td>Maine</td>\n",
       "      <td>February 26, 1919</td>\n",
       "      <td>49,075.26 acres (198.6 km2)</td>\n",
       "      <td>3537575</td>\n",
       "    </tr>\n",
       "  </tbody>\n",
       "</table>\n",
       "</div>"
      ],
      "text/plain": [
       "          national_park       state                 trail       activity  \\\n",
       "0  Acadia National Park  Maine (ME)  Beech Mountain Trail  Hiking Trails   \n",
       "1  Acadia National Park  Maine (ME)  Beech Mountain Trail  Hiking Trails   \n",
       "2  Acadia National Park  Maine (ME)  Beech Mountain Trail  Hiking Trails   \n",
       "3  Acadia National Park  Maine (ME)  Beech Mountain Trail  Hiking Trails   \n",
       "4  Acadia National Park  Maine (ME)  Beech Mountain Trail  Hiking Trails   \n",
       "\n",
       "   overall_rating                      comment_title   comment_ratings  \\\n",
       "0             4.5  Turned back on 3/20/21 due to ice  4.0 of 5 bubbles   \n",
       "1             4.5                        Spectacular  5.0 of 5 bubbles   \n",
       "2             4.5                        Great Trail  5.0 of 5 bubbles   \n",
       "3             4.5               Best trail in Acadia  5.0 of 5 bubbles   \n",
       "4             4.5             Great trail for family  5.0 of 5 bubbles   \n",
       "\n",
       "                                        comment_text    park  Latitude  \\\n",
       "0  I have hiked to the fire tower a few times. It...  Acadia     44.35   \n",
       "1  This trail was recommended in my Acadia travel...  Acadia     44.35   \n",
       "2  Beech Mountain Trail is one of my favorites in...  Acadia     44.35   \n",
       "3  We stumbled onto this trail and were very happ...  Acadia     44.35   \n",
       "4  My family has kids ranging from age 10 to 3. W...  Acadia     44.35   \n",
       "\n",
       "   Longitude    Park State(s)   Park Established                         Area  \\\n",
       "0     -68.21  Acadia    Maine  February 26, 1919  49,075.26 acres (198.6 km2)   \n",
       "1     -68.21  Acadia    Maine  February 26, 1919  49,075.26 acres (198.6 km2)   \n",
       "2     -68.21  Acadia    Maine  February 26, 1919  49,075.26 acres (198.6 km2)   \n",
       "3     -68.21  Acadia    Maine  February 26, 1919  49,075.26 acres (198.6 km2)   \n",
       "4     -68.21  Acadia    Maine  February 26, 1919  49,075.26 acres (198.6 km2)   \n",
       "\n",
       "   Visitors (2018)  \n",
       "0          3537575  \n",
       "1          3537575  \n",
       "2          3537575  \n",
       "3          3537575  \n",
       "4          3537575  "
      ]
     },
     "execution_count": 33,
     "metadata": {},
     "output_type": "execute_result"
    }
   ],
   "source": [
    "national_parks = pd.merge(df, df2, left_on='park', right_on='Park')\n",
    "national_parks.head()"
   ]
  },
  {
   "cell_type": "code",
   "execution_count": 34,
   "metadata": {
    "id": "xbkTN-MaZeQz"
   },
   "outputs": [],
   "source": [
    "national_parks = national_parks.drop(columns = ['park', 'Park', 'State(s)', 'Park Established'])"
   ]
  },
  {
   "cell_type": "code",
   "execution_count": 35,
   "metadata": {
    "colab": {
     "base_uri": "https://localhost:8080/",
     "height": 310
    },
    "id": "TrKWcJpeZ-PW",
    "outputId": "cd8812bb-d554-4e3a-a628-9af61dcc0835"
   },
   "outputs": [
    {
     "data": {
      "text/html": [
       "<div>\n",
       "<style scoped>\n",
       "    .dataframe tbody tr th:only-of-type {\n",
       "        vertical-align: middle;\n",
       "    }\n",
       "\n",
       "    .dataframe tbody tr th {\n",
       "        vertical-align: top;\n",
       "    }\n",
       "\n",
       "    .dataframe thead th {\n",
       "        text-align: right;\n",
       "    }\n",
       "</style>\n",
       "<table border=\"1\" class=\"dataframe\">\n",
       "  <thead>\n",
       "    <tr style=\"text-align: right;\">\n",
       "      <th></th>\n",
       "      <th>national_park</th>\n",
       "      <th>state</th>\n",
       "      <th>trail</th>\n",
       "      <th>activity</th>\n",
       "      <th>overall_rating</th>\n",
       "      <th>comment_title</th>\n",
       "      <th>comment_ratings</th>\n",
       "      <th>comment_text</th>\n",
       "      <th>Latitude</th>\n",
       "      <th>Longitude</th>\n",
       "      <th>Area</th>\n",
       "      <th>Visitors (2018)</th>\n",
       "    </tr>\n",
       "  </thead>\n",
       "  <tbody>\n",
       "    <tr>\n",
       "      <th>0</th>\n",
       "      <td>Acadia National Park</td>\n",
       "      <td>Maine (ME)</td>\n",
       "      <td>Beech Mountain Trail</td>\n",
       "      <td>Hiking Trails</td>\n",
       "      <td>4.5</td>\n",
       "      <td>Turned back on 3/20/21 due to ice</td>\n",
       "      <td>4.0 of 5 bubbles</td>\n",
       "      <td>I have hiked to the fire tower a few times. It...</td>\n",
       "      <td>44.35</td>\n",
       "      <td>-68.21</td>\n",
       "      <td>49,075.26 acres (198.6 km2)</td>\n",
       "      <td>3537575</td>\n",
       "    </tr>\n",
       "    <tr>\n",
       "      <th>1</th>\n",
       "      <td>Acadia National Park</td>\n",
       "      <td>Maine (ME)</td>\n",
       "      <td>Beech Mountain Trail</td>\n",
       "      <td>Hiking Trails</td>\n",
       "      <td>4.5</td>\n",
       "      <td>Spectacular</td>\n",
       "      <td>5.0 of 5 bubbles</td>\n",
       "      <td>This trail was recommended in my Acadia travel...</td>\n",
       "      <td>44.35</td>\n",
       "      <td>-68.21</td>\n",
       "      <td>49,075.26 acres (198.6 km2)</td>\n",
       "      <td>3537575</td>\n",
       "    </tr>\n",
       "    <tr>\n",
       "      <th>2</th>\n",
       "      <td>Acadia National Park</td>\n",
       "      <td>Maine (ME)</td>\n",
       "      <td>Beech Mountain Trail</td>\n",
       "      <td>Hiking Trails</td>\n",
       "      <td>4.5</td>\n",
       "      <td>Great Trail</td>\n",
       "      <td>5.0 of 5 bubbles</td>\n",
       "      <td>Beech Mountain Trail is one of my favorites in...</td>\n",
       "      <td>44.35</td>\n",
       "      <td>-68.21</td>\n",
       "      <td>49,075.26 acres (198.6 km2)</td>\n",
       "      <td>3537575</td>\n",
       "    </tr>\n",
       "    <tr>\n",
       "      <th>3</th>\n",
       "      <td>Acadia National Park</td>\n",
       "      <td>Maine (ME)</td>\n",
       "      <td>Beech Mountain Trail</td>\n",
       "      <td>Hiking Trails</td>\n",
       "      <td>4.5</td>\n",
       "      <td>Best trail in Acadia</td>\n",
       "      <td>5.0 of 5 bubbles</td>\n",
       "      <td>We stumbled onto this trail and were very happ...</td>\n",
       "      <td>44.35</td>\n",
       "      <td>-68.21</td>\n",
       "      <td>49,075.26 acres (198.6 km2)</td>\n",
       "      <td>3537575</td>\n",
       "    </tr>\n",
       "    <tr>\n",
       "      <th>4</th>\n",
       "      <td>Acadia National Park</td>\n",
       "      <td>Maine (ME)</td>\n",
       "      <td>Beech Mountain Trail</td>\n",
       "      <td>Hiking Trails</td>\n",
       "      <td>4.5</td>\n",
       "      <td>Great trail for family</td>\n",
       "      <td>5.0 of 5 bubbles</td>\n",
       "      <td>My family has kids ranging from age 10 to 3. W...</td>\n",
       "      <td>44.35</td>\n",
       "      <td>-68.21</td>\n",
       "      <td>49,075.26 acres (198.6 km2)</td>\n",
       "      <td>3537575</td>\n",
       "    </tr>\n",
       "  </tbody>\n",
       "</table>\n",
       "</div>"
      ],
      "text/plain": [
       "          national_park       state                 trail       activity  \\\n",
       "0  Acadia National Park  Maine (ME)  Beech Mountain Trail  Hiking Trails   \n",
       "1  Acadia National Park  Maine (ME)  Beech Mountain Trail  Hiking Trails   \n",
       "2  Acadia National Park  Maine (ME)  Beech Mountain Trail  Hiking Trails   \n",
       "3  Acadia National Park  Maine (ME)  Beech Mountain Trail  Hiking Trails   \n",
       "4  Acadia National Park  Maine (ME)  Beech Mountain Trail  Hiking Trails   \n",
       "\n",
       "   overall_rating                      comment_title   comment_ratings  \\\n",
       "0             4.5  Turned back on 3/20/21 due to ice  4.0 of 5 bubbles   \n",
       "1             4.5                        Spectacular  5.0 of 5 bubbles   \n",
       "2             4.5                        Great Trail  5.0 of 5 bubbles   \n",
       "3             4.5               Best trail in Acadia  5.0 of 5 bubbles   \n",
       "4             4.5             Great trail for family  5.0 of 5 bubbles   \n",
       "\n",
       "                                        comment_text  Latitude  Longitude  \\\n",
       "0  I have hiked to the fire tower a few times. It...     44.35     -68.21   \n",
       "1  This trail was recommended in my Acadia travel...     44.35     -68.21   \n",
       "2  Beech Mountain Trail is one of my favorites in...     44.35     -68.21   \n",
       "3  We stumbled onto this trail and were very happ...     44.35     -68.21   \n",
       "4  My family has kids ranging from age 10 to 3. W...     44.35     -68.21   \n",
       "\n",
       "                          Area  Visitors (2018)  \n",
       "0  49,075.26 acres (198.6 km2)          3537575  \n",
       "1  49,075.26 acres (198.6 km2)          3537575  \n",
       "2  49,075.26 acres (198.6 km2)          3537575  \n",
       "3  49,075.26 acres (198.6 km2)          3537575  \n",
       "4  49,075.26 acres (198.6 km2)          3537575  "
      ]
     },
     "execution_count": 35,
     "metadata": {},
     "output_type": "execute_result"
    }
   ],
   "source": [
    "national_parks.head()"
   ]
  },
  {
   "cell_type": "markdown",
   "metadata": {
    "id": "xmSwLgwKsIoi"
   },
   "source": [
    "# Word Embedding and Comment Similarity Score"
   ]
  },
  {
   "cell_type": "code",
   "execution_count": 36,
   "metadata": {
    "id": "GQMVdu4vo5K0"
   },
   "outputs": [],
   "source": [
    "reference = national_parks.loc[0, 'comment_text']"
   ]
  },
  {
   "cell_type": "code",
   "execution_count": 37,
   "metadata": {
    "colab": {
     "base_uri": "https://localhost:8080/",
     "height": 122
    },
    "id": "N64ekfTfqiYD",
    "outputId": "48ff7bcd-c205-4c97-b020-df2cecd17694"
   },
   "outputs": [
    {
     "data": {
      "text/plain": [
       "\"I have hiked to the fire tower a few times. Its a great hike, and not too strenuous elevation gains.  If the NO rangers are up there ( in the summer) they used to allow you to go up the tower. We had to turn back on 3/20 because of hard pack solid ice. We had our Katoohla micro spikes on, and solid hiking poles, and knew they simply  wouldn't be enough if the ice was on the steeper sections.  We walked into the trailhead because the access road gate is still closed. After deciding to cross the lot and hike Beech Cliff Loop, which was much more clear of ice, and has excellent views of Echo Lake and the ocean out toward  Southwest Harbor. We returned to BH to hear of the recovery of a young couple from Rutland Massachusetts  who had fallen 100 feet to their death on Dorr Mountain Gorge Trail. The tragedy attributed to ice on the trails. Anyone not experienced with full crampon travel, and ice climbing training should never attempt to hike or climb on solid ice. The danger is severe.. \""
      ]
     },
     "execution_count": 37,
     "metadata": {},
     "output_type": "execute_result"
    }
   ],
   "source": [
    "reference #reference sentence"
   ]
  },
  {
   "cell_type": "code",
   "execution_count": 38,
   "metadata": {
    "id": "8xikUWylqx44"
   },
   "outputs": [],
   "source": [
    "reference_vec = nlp(reference) #vectorize our reference sentence"
   ]
  },
  {
   "cell_type": "code",
   "execution_count": 39,
   "metadata": {
    "id": "H3p8Uisbq_hg"
   },
   "outputs": [],
   "source": [
    "all_docs = [nlp(row) for row in national_parks['comment_text']]"
   ]
  },
  {
   "cell_type": "code",
   "execution_count": 40,
   "metadata": {
    "id": "JCqF2hGVt9nc"
   },
   "outputs": [],
   "source": [
    "w1 = \"sunny\"\n",
    "w2 = \"potato\"\n",
    "\n",
    "w1 = nlp(w1)\n",
    "w2 = nlp(w2)"
   ]
  },
  {
   "cell_type": "code",
   "execution_count": 41,
   "metadata": {
    "colab": {
     "base_uri": "https://localhost:8080/"
    },
    "id": "qc_Ho__Jt_YU",
    "outputId": "93c4512b-a336-444d-a32f-f3b94fdebafa"
   },
   "outputs": [
    {
     "data": {
      "text/plain": [
       "0.17514441974822578"
      ]
     },
     "execution_count": 41,
     "metadata": {},
     "output_type": "execute_result"
    }
   ],
   "source": [
    "w1.similarity(w2)"
   ]
  },
  {
   "cell_type": "code",
   "execution_count": 42,
   "metadata": {
    "id": "5b1H_ku8tKyw"
   },
   "outputs": [],
   "source": [
    "w1 = \"sunny\"\n",
    "w2 = \"rainy\"\n",
    "\n",
    "w1 = nlp(w1)\n",
    "w2 = nlp(w2)"
   ]
  },
  {
   "cell_type": "code",
   "execution_count": 43,
   "metadata": {
    "colab": {
     "base_uri": "https://localhost:8080/"
    },
    "id": "3Nj2KQiTtvay",
    "outputId": "d714f390-9814-418a-a463-030c2cb06cd9"
   },
   "outputs": [
    {
     "data": {
      "text/plain": [
       "0.7090924048961219"
      ]
     },
     "execution_count": 43,
     "metadata": {},
     "output_type": "execute_result"
    }
   ],
   "source": [
    "w1.similarity(w2)"
   ]
  },
  {
   "cell_type": "code",
   "execution_count": 44,
   "metadata": {
    "id": "dNk25Yl_tyFB"
   },
   "outputs": [],
   "source": [
    "w1 = \"sunny\"\n",
    "w2 = \"sunshine\"\n",
    "\n",
    "w1 = nlp(w1)\n",
    "w2 = nlp(w2)"
   ]
  },
  {
   "cell_type": "code",
   "execution_count": 45,
   "metadata": {
    "colab": {
     "base_uri": "https://localhost:8080/"
    },
    "id": "A96QBicct1kc",
    "outputId": "2411b66c-db57-41d2-a5d2-efbd57d9daee"
   },
   "outputs": [
    {
     "data": {
      "text/plain": [
       "0.7648274794767422"
      ]
     },
     "execution_count": 45,
     "metadata": {},
     "output_type": "execute_result"
    }
   ],
   "source": [
    "w1.similarity(w2)"
   ]
  },
  {
   "cell_type": "code",
   "execution_count": 46,
   "metadata": {
    "id": "2nMI6kysseHE"
   },
   "outputs": [],
   "source": [
    "sims = []\n",
    "comment_id = []\n",
    "for i in range(len(all_docs)):\n",
    "  sim = all_docs[i].similarity(reference_vec)\n",
    "  sims.append(sim)\n",
    "  comment_id.append(i)\n",
    "  sims_docs = pd.DataFrame(list(zip(comment_id, sims)), columns = ['Comment_ID', 'sims'])"
   ]
  },
  {
   "cell_type": "code",
   "execution_count": 47,
   "metadata": {
    "id": "ZU-rsNp1ufDK"
   },
   "outputs": [],
   "source": [
    "sims_docs_sorted = sims_docs.sort_values(by = 'sims', ascending = False)"
   ]
  },
  {
   "cell_type": "code",
   "execution_count": 48,
   "metadata": {
    "colab": {
     "base_uri": "https://localhost:8080/",
     "height": 424
    },
    "id": "akQ4Q44lu0Hq",
    "outputId": "53e44175-584a-4bdd-df96-364d2c18fdcd"
   },
   "outputs": [
    {
     "data": {
      "text/html": [
       "<div>\n",
       "<style scoped>\n",
       "    .dataframe tbody tr th:only-of-type {\n",
       "        vertical-align: middle;\n",
       "    }\n",
       "\n",
       "    .dataframe tbody tr th {\n",
       "        vertical-align: top;\n",
       "    }\n",
       "\n",
       "    .dataframe thead th {\n",
       "        text-align: right;\n",
       "    }\n",
       "</style>\n",
       "<table border=\"1\" class=\"dataframe\">\n",
       "  <thead>\n",
       "    <tr style=\"text-align: right;\">\n",
       "      <th></th>\n",
       "      <th>Comment_ID</th>\n",
       "      <th>sims</th>\n",
       "    </tr>\n",
       "  </thead>\n",
       "  <tbody>\n",
       "    <tr>\n",
       "      <th>0</th>\n",
       "      <td>0</td>\n",
       "      <td>1.000000</td>\n",
       "    </tr>\n",
       "    <tr>\n",
       "      <th>1552</th>\n",
       "      <td>1552</td>\n",
       "      <td>0.980410</td>\n",
       "    </tr>\n",
       "    <tr>\n",
       "      <th>1772</th>\n",
       "      <td>1772</td>\n",
       "      <td>0.978241</td>\n",
       "    </tr>\n",
       "    <tr>\n",
       "      <th>2282</th>\n",
       "      <td>2282</td>\n",
       "      <td>0.977842</td>\n",
       "    </tr>\n",
       "    <tr>\n",
       "      <th>1779</th>\n",
       "      <td>1779</td>\n",
       "      <td>0.977384</td>\n",
       "    </tr>\n",
       "    <tr>\n",
       "      <th>...</th>\n",
       "      <td>...</td>\n",
       "      <td>...</td>\n",
       "    </tr>\n",
       "    <tr>\n",
       "      <th>1154</th>\n",
       "      <td>1154</td>\n",
       "      <td>-0.115120</td>\n",
       "    </tr>\n",
       "    <tr>\n",
       "      <th>1096</th>\n",
       "      <td>1096</td>\n",
       "      <td>-0.115120</td>\n",
       "    </tr>\n",
       "    <tr>\n",
       "      <th>3303</th>\n",
       "      <td>3303</td>\n",
       "      <td>-0.159446</td>\n",
       "    </tr>\n",
       "    <tr>\n",
       "      <th>1188</th>\n",
       "      <td>1188</td>\n",
       "      <td>-0.165912</td>\n",
       "    </tr>\n",
       "    <tr>\n",
       "      <th>854</th>\n",
       "      <td>854</td>\n",
       "      <td>-0.206047</td>\n",
       "    </tr>\n",
       "  </tbody>\n",
       "</table>\n",
       "<p>3347 rows × 2 columns</p>\n",
       "</div>"
      ],
      "text/plain": [
       "      Comment_ID      sims\n",
       "0              0  1.000000\n",
       "1552        1552  0.980410\n",
       "1772        1772  0.978241\n",
       "2282        2282  0.977842\n",
       "1779        1779  0.977384\n",
       "...          ...       ...\n",
       "1154        1154 -0.115120\n",
       "1096        1096 -0.115120\n",
       "3303        3303 -0.159446\n",
       "1188        1188 -0.165912\n",
       "854          854 -0.206047\n",
       "\n",
       "[3347 rows x 2 columns]"
      ]
     },
     "execution_count": 48,
     "metadata": {},
     "output_type": "execute_result"
    }
   ],
   "source": [
    "sims_docs_sorted"
   ]
  },
  {
   "cell_type": "code",
   "execution_count": 49,
   "metadata": {
    "id": "txdHeSKYvge_"
   },
   "outputs": [],
   "source": [
    "most_similar_comments = sims_docs_sorted['Comment_ID'][1:6]"
   ]
  },
  {
   "cell_type": "code",
   "execution_count": 50,
   "metadata": {
    "id": "zGplMpkDwxIU"
   },
   "outputs": [],
   "source": [
    "similar_reviews = national_parks.iloc[most_similar_comments.values]"
   ]
  },
  {
   "cell_type": "code",
   "execution_count": 51,
   "metadata": {
    "colab": {
     "base_uri": "https://localhost:8080/",
     "height": 397
    },
    "id": "0zsUwFjaH9oZ",
    "outputId": "7d2d9894-78f0-4610-d426-397fd7fae550"
   },
   "outputs": [
    {
     "data": {
      "text/html": [
       "<div>\n",
       "<style scoped>\n",
       "    .dataframe tbody tr th:only-of-type {\n",
       "        vertical-align: middle;\n",
       "    }\n",
       "\n",
       "    .dataframe tbody tr th {\n",
       "        vertical-align: top;\n",
       "    }\n",
       "\n",
       "    .dataframe thead th {\n",
       "        text-align: right;\n",
       "    }\n",
       "</style>\n",
       "<table border=\"1\" class=\"dataframe\">\n",
       "  <thead>\n",
       "    <tr style=\"text-align: right;\">\n",
       "      <th></th>\n",
       "      <th>national_park</th>\n",
       "      <th>state</th>\n",
       "      <th>trail</th>\n",
       "      <th>activity</th>\n",
       "      <th>overall_rating</th>\n",
       "      <th>comment_title</th>\n",
       "      <th>comment_ratings</th>\n",
       "      <th>comment_text</th>\n",
       "      <th>Latitude</th>\n",
       "      <th>Longitude</th>\n",
       "      <th>Area</th>\n",
       "      <th>Visitors (2018)</th>\n",
       "    </tr>\n",
       "  </thead>\n",
       "  <tbody>\n",
       "    <tr>\n",
       "      <th>1552</th>\n",
       "      <td>Grand Canyon National Park</td>\n",
       "      <td>Arizona (AZ)</td>\n",
       "      <td>Grand Canyon South Rim</td>\n",
       "      <td>Canyons</td>\n",
       "      <td>5.0</td>\n",
       "      <td>The views do not disappoint!</td>\n",
       "      <td>5.0 of 5 bubbles</td>\n",
       "      <td>We were staying with family in Sun City (near ...</td>\n",
       "      <td>36.06</td>\n",
       "      <td>-112.14</td>\n",
       "      <td>1,201,647.03 acres (4,862.9 km2)</td>\n",
       "      <td>6380495</td>\n",
       "    </tr>\n",
       "    <tr>\n",
       "      <th>1772</th>\n",
       "      <td>Great Smoky Mountains National Park</td>\n",
       "      <td>Tennessee (TN)</td>\n",
       "      <td>Clingmans Dome</td>\n",
       "      <td>Mountains</td>\n",
       "      <td>4.5</td>\n",
       "      <td>Worth the trip</td>\n",
       "      <td>5.0 of 5 bubbles</td>\n",
       "      <td>Our group of all ages &amp; abilities was able to ...</td>\n",
       "      <td>35.68</td>\n",
       "      <td>-83.53</td>\n",
       "      <td>522,426.88 acres (2,114.2 km2)</td>\n",
       "      <td>11421200</td>\n",
       "    </tr>\n",
       "    <tr>\n",
       "      <th>2282</th>\n",
       "      <td>Olympic National Park</td>\n",
       "      <td>Washington (WA)</td>\n",
       "      <td>Olympic Peninsula Loop Drive</td>\n",
       "      <td>Scenic Drives</td>\n",
       "      <td>4.5</td>\n",
       "      <td>Olympic National Park/Expansive and beautiful</td>\n",
       "      <td>5.0 of 5 bubbles</td>\n",
       "      <td>This summer my husband had work in Seattle.  M...</td>\n",
       "      <td>47.97</td>\n",
       "      <td>-123.50</td>\n",
       "      <td>922,649.41 acres (3,733.8 km2)</td>\n",
       "      <td>3104455</td>\n",
       "    </tr>\n",
       "    <tr>\n",
       "      <th>1779</th>\n",
       "      <td>Great Smoky Mountains National Park</td>\n",
       "      <td>Tennessee (TN)</td>\n",
       "      <td>Clingmans Dome</td>\n",
       "      <td>Mountains</td>\n",
       "      <td>4.5</td>\n",
       "      <td>Not so easy but still worth it!</td>\n",
       "      <td>5.0 of 5 bubbles</td>\n",
       "      <td>Clingmans Dome is where Cherry Wonderdog came ...</td>\n",
       "      <td>35.68</td>\n",
       "      <td>-83.53</td>\n",
       "      <td>522,426.88 acres (2,114.2 km2)</td>\n",
       "      <td>11421200</td>\n",
       "    </tr>\n",
       "    <tr>\n",
       "      <th>2187</th>\n",
       "      <td>North Cascades National Park</td>\n",
       "      <td>Washington (WA)</td>\n",
       "      <td>Maple Pass Loop</td>\n",
       "      <td>Hiking Trails</td>\n",
       "      <td>5.0</td>\n",
       "      <td>Spectacular Hike in North Cascades Mountains</td>\n",
       "      <td>5.0 of 5 bubbles</td>\n",
       "      <td>We were looking for a great day hike in or nea...</td>\n",
       "      <td>48.70</td>\n",
       "      <td>-121.20</td>\n",
       "      <td>504,780.94 acres (2,042.8 km2)</td>\n",
       "      <td>30085</td>\n",
       "    </tr>\n",
       "  </tbody>\n",
       "</table>\n",
       "</div>"
      ],
      "text/plain": [
       "                            national_park            state  \\\n",
       "1552           Grand Canyon National Park     Arizona (AZ)   \n",
       "1772  Great Smoky Mountains National Park   Tennessee (TN)   \n",
       "2282                Olympic National Park  Washington (WA)   \n",
       "1779  Great Smoky Mountains National Park   Tennessee (TN)   \n",
       "2187         North Cascades National Park  Washington (WA)   \n",
       "\n",
       "                             trail       activity  overall_rating  \\\n",
       "1552        Grand Canyon South Rim        Canyons             5.0   \n",
       "1772                Clingmans Dome      Mountains             4.5   \n",
       "2282  Olympic Peninsula Loop Drive  Scenic Drives             4.5   \n",
       "1779                Clingmans Dome      Mountains             4.5   \n",
       "2187               Maple Pass Loop  Hiking Trails             5.0   \n",
       "\n",
       "                                      comment_title   comment_ratings  \\\n",
       "1552                   The views do not disappoint!  5.0 of 5 bubbles   \n",
       "1772                                 Worth the trip  5.0 of 5 bubbles   \n",
       "2282  Olympic National Park/Expansive and beautiful  5.0 of 5 bubbles   \n",
       "1779                Not so easy but still worth it!  5.0 of 5 bubbles   \n",
       "2187   Spectacular Hike in North Cascades Mountains  5.0 of 5 bubbles   \n",
       "\n",
       "                                           comment_text  Latitude  Longitude  \\\n",
       "1552  We were staying with family in Sun City (near ...     36.06    -112.14   \n",
       "1772  Our group of all ages & abilities was able to ...     35.68     -83.53   \n",
       "2282  This summer my husband had work in Seattle.  M...     47.97    -123.50   \n",
       "1779  Clingmans Dome is where Cherry Wonderdog came ...     35.68     -83.53   \n",
       "2187  We were looking for a great day hike in or nea...     48.70    -121.20   \n",
       "\n",
       "                                  Area  Visitors (2018)  \n",
       "1552  1,201,647.03 acres (4,862.9 km2)          6380495  \n",
       "1772    522,426.88 acres (2,114.2 km2)         11421200  \n",
       "2282    922,649.41 acres (3,733.8 km2)          3104455  \n",
       "1779    522,426.88 acres (2,114.2 km2)         11421200  \n",
       "2187    504,780.94 acres (2,042.8 km2)            30085  "
      ]
     },
     "execution_count": 51,
     "metadata": {},
     "output_type": "execute_result"
    }
   ],
   "source": [
    "similar_reviews"
   ]
  },
  {
   "cell_type": "code",
   "execution_count": 52,
   "metadata": {
    "colab": {
     "base_uri": "https://localhost:8080/",
     "height": 115
    },
    "id": "THu2ql5KIB_S",
    "outputId": "b5ad1252-6dd3-4347-f838-6051d586ca3b"
   },
   "outputs": [
    {
     "data": {
      "text/html": [
       "<div>\n",
       "<style scoped>\n",
       "    .dataframe tbody tr th:only-of-type {\n",
       "        vertical-align: middle;\n",
       "    }\n",
       "\n",
       "    .dataframe tbody tr th {\n",
       "        vertical-align: top;\n",
       "    }\n",
       "\n",
       "    .dataframe thead th {\n",
       "        text-align: right;\n",
       "    }\n",
       "</style>\n",
       "<table border=\"1\" class=\"dataframe\">\n",
       "  <thead>\n",
       "    <tr style=\"text-align: right;\">\n",
       "      <th></th>\n",
       "      <th>national_park</th>\n",
       "      <th>state</th>\n",
       "      <th>trail</th>\n",
       "      <th>activity</th>\n",
       "      <th>overall_rating</th>\n",
       "      <th>comment_title</th>\n",
       "      <th>comment_ratings</th>\n",
       "      <th>comment_text</th>\n",
       "      <th>Latitude</th>\n",
       "      <th>Longitude</th>\n",
       "      <th>Area</th>\n",
       "      <th>Visitors (2018)</th>\n",
       "    </tr>\n",
       "  </thead>\n",
       "  <tbody>\n",
       "    <tr>\n",
       "      <th>0</th>\n",
       "      <td>Acadia National Park</td>\n",
       "      <td>Maine (ME)</td>\n",
       "      <td>Beech Mountain Trail</td>\n",
       "      <td>Hiking Trails</td>\n",
       "      <td>4.5</td>\n",
       "      <td>Turned back on 3/20/21 due to ice</td>\n",
       "      <td>4.0 of 5 bubbles</td>\n",
       "      <td>I have hiked to the fire tower a few times. It...</td>\n",
       "      <td>44.35</td>\n",
       "      <td>-68.21</td>\n",
       "      <td>49,075.26 acres (198.6 km2)</td>\n",
       "      <td>3537575</td>\n",
       "    </tr>\n",
       "  </tbody>\n",
       "</table>\n",
       "</div>"
      ],
      "text/plain": [
       "          national_park       state                 trail       activity  \\\n",
       "0  Acadia National Park  Maine (ME)  Beech Mountain Trail  Hiking Trails   \n",
       "\n",
       "   overall_rating                      comment_title   comment_ratings  \\\n",
       "0             4.5  Turned back on 3/20/21 due to ice  4.0 of 5 bubbles   \n",
       "\n",
       "                                        comment_text  Latitude  Longitude  \\\n",
       "0  I have hiked to the fire tower a few times. It...     44.35     -68.21   \n",
       "\n",
       "                          Area  Visitors (2018)  \n",
       "0  49,075.26 acres (198.6 km2)          3537575  "
      ]
     },
     "execution_count": 52,
     "metadata": {},
     "output_type": "execute_result"
    }
   ],
   "source": [
    "national_parks.iloc[0:1]"
   ]
  },
  {
   "cell_type": "code",
   "execution_count": 53,
   "metadata": {
    "colab": {
     "base_uri": "https://localhost:8080/",
     "height": 122
    },
    "id": "nz_bx4OQEUHW",
    "outputId": "6a457655-f4c8-453e-ce70-ee8289f95f45"
   },
   "outputs": [
    {
     "data": {
      "text/plain": [
       "\"I have hiked to the fire tower a few times. Its a great hike, and not too strenuous elevation gains.  If the NO rangers are up there ( in the summer) they used to allow you to go up the tower. We had to turn back on 3/20 because of hard pack solid ice. We had our Katoohla micro spikes on, and solid hiking poles, and knew they simply  wouldn't be enough if the ice was on the steeper sections.  We walked into the trailhead because the access road gate is still closed. After deciding to cross the lot and hike Beech Cliff Loop, which was much more clear of ice, and has excellent views of Echo Lake and the ocean out toward  Southwest Harbor. We returned to BH to hear of the recovery of a young couple from Rutland Massachusetts  who had fallen 100 feet to their death on Dorr Mountain Gorge Trail. The tragedy attributed to ice on the trails. Anyone not experienced with full crampon travel, and ice climbing training should never attempt to hike or climb on solid ice. The danger is severe.. \""
      ]
     },
     "execution_count": 53,
     "metadata": {},
     "output_type": "execute_result"
    }
   ],
   "source": [
    "reference"
   ]
  },
  {
   "cell_type": "markdown",
   "metadata": {
    "id": "Sc2VpaGXJA4V"
   },
   "source": [
    "Similar Reviews"
   ]
  },
  {
   "cell_type": "code",
   "execution_count": 54,
   "metadata": {
    "colab": {
     "base_uri": "https://localhost:8080/",
     "height": 122
    },
    "id": "lWIMZBa_I3cl",
    "outputId": "7aeecc1c-2af5-4177-f3c7-db1d72610c64"
   },
   "outputs": [
    {
     "data": {
      "text/plain": [
       "'We were staying with family in Sun City (near the Phoenix airport) and drove in our rental vehicle the approximate 3.5 hour drive to the south entrance of the Grand Canyon.  The park entrance was easy to find.  Parking this year was $35/vehicle.  I was skeptical going in, as several friends had this excursion on their \"bucket list\" while others simply raved.  I worried I would be disappointed.  However, the views absolutely spectacular!  We self-guided/toured.  We both experienced some vertigo and were careful to hang on to the railings provided, or sit on available benches as needed. Also bring water.  With the high elevation, it is easier to get winded, and water helps. We did have a hiker in front of us fall a few times from experiencing vertigo,and with assistance from others were able to help him get off the stairs and onto level ground to sit down.  He was embarrassed but grateful.  It could (and does) happen to anyone.  There were some areas that were roped off due to ice and snow and I was amazed how many people stupidly ignored the warnings and bypassed the barriers to get closer to the edge of the Canyon for selfies!   Check the weather in advance and dress appropriately.  The temperature was 30 degrees cooler in the Canyon than in the Phoenix area.  There were many families present and some pushing young ones in strollers.  On Feb 10, it was a chilly, windy, 40 degrees F.   There are lots of signs at various points educating you on the history of rocks, the Colorado river running through the Canyon, etc., and a small museum you can enter about 1.5 hours into the walk.  After our hike, we were exhausted and wind blown, and caught a shuttle back to the parking lot.  Kudos to those who can manage to walk the entire thing.  We didn\\'t see everything the south side had to offer.  In our vehicle, we exited the park from the east side and for some 50+ miles, still saw the Grand Canyon from out the driver\\'s side window. There were several spots along the way to stop and take more photos.  All in all, it was a physically and mentally stimulating journey that I highly recommend.'"
      ]
     },
     "execution_count": 54,
     "metadata": {},
     "output_type": "execute_result"
    }
   ],
   "source": [
    "similar_reviews['comment_text'].iloc[0]"
   ]
  },
  {
   "cell_type": "code",
   "execution_count": 55,
   "metadata": {
    "colab": {
     "base_uri": "https://localhost:8080/",
     "height": 87
    },
    "id": "-Ur6ETp5Em4O",
    "outputId": "f555c9a4-07c6-4963-e7fc-39b0617b9b18"
   },
   "outputs": [
    {
     "data": {
      "text/plain": [
       "'Clingmans Dome is where Cherry Wonderdog came for a Friday night sunset. The hike up to the top was a lot more grueling than any of us anticipated. The path is completely paved, which allows for parents to push strollers and those in wheelchairs or handicapped scooters to roll instead of walk – at least in theory. We passed one couple halfway, torn between continuing to the lookout tower and turning around out of fear that their scooter battery might fail on route. I’m not sure how much elevation was gained from the parking lot to the actual summit, but it was rather significant, and the steep walk felt to be in excess of a mile. On the way, there were several vista points that provided ample opportunity for selfies and panoramic shots.'"
      ]
     },
     "execution_count": 55,
     "metadata": {},
     "output_type": "execute_result"
    }
   ],
   "source": [
    "similar_reviews['comment_text'].iloc[3]"
   ]
  },
  {
   "cell_type": "code",
   "execution_count": 56,
   "metadata": {
    "colab": {
     "base_uri": "https://localhost:8080/",
     "height": 122
    },
    "id": "YYvyMnwKE_Ke",
    "outputId": "27bbe284-fa14-4934-b103-aa7a09daf609"
   },
   "outputs": [
    {
     "data": {
      "text/plain": [
       "'We were looking for a great day hike in or near the North Cascades National park in Washington state and found Maple Loop Trail on Tripadvisor and several other online travel forums. The 7.1 miles round trip did not sound challenging but we had to think twice about the elevation - up and down 2000 feet in those 7 miles. We checked with the lodge receptionist who encouraged us to go saying she has done the trail not too long ago and she was retirement age. The hike started from Rainy Lake area parking lot and we decided to go anti-clockwise (following the signs) so that we would go up more gradually and handle the steeper part on the way back. The incline was not bad and we soon started admiring wonderful views of the surrounding mountains. After going a bit further, we saw wonderful views of Lake Ann that we kept seeing repeatedly throughout the hike. After passing the Heather Meadows, a wonderful view of surrounding mountain ranges opened up and we could see a lot of colored bushes and trees and chipmunks running around. We hiked further up to Maple Pass (elevation 7000 ft) and were able to admire Frisco Mountain up close. Another view to a valley a bit further away opened up before the trail turned back and we started descending to the valley. Huckleberries along the way and beautiful glimpses of Rainy Lake made the descent fun despite the more challenging terrain. We were really excited about all the wonderful views that we could admire on this hike. Even thought it might be challenging for couch potatoes, everyone can do it if they take their time and it is one of the most beautiful mountain hikes in Washington.'"
      ]
     },
     "execution_count": 56,
     "metadata": {},
     "output_type": "execute_result"
    }
   ],
   "source": [
    "similar_reviews['comment_text'].iloc[4]"
   ]
  },
  {
   "cell_type": "code",
   "execution_count": 57,
   "metadata": {
    "id": "_lJLl1BBvDYu"
   },
   "outputs": [],
   "source": [
    "least_similar_comments = sims_docs_sorted['Comment_ID'][-5:]"
   ]
  },
  {
   "cell_type": "code",
   "execution_count": 58,
   "metadata": {
    "colab": {
     "base_uri": "https://localhost:8080/",
     "height": 397
    },
    "id": "qZGF53LPvRBb",
    "outputId": "e04a4264-eaa8-4531-f65c-23cdd3954701"
   },
   "outputs": [
    {
     "data": {
      "text/html": [
       "<div>\n",
       "<style scoped>\n",
       "    .dataframe tbody tr th:only-of-type {\n",
       "        vertical-align: middle;\n",
       "    }\n",
       "\n",
       "    .dataframe tbody tr th {\n",
       "        vertical-align: top;\n",
       "    }\n",
       "\n",
       "    .dataframe thead th {\n",
       "        text-align: right;\n",
       "    }\n",
       "</style>\n",
       "<table border=\"1\" class=\"dataframe\">\n",
       "  <thead>\n",
       "    <tr style=\"text-align: right;\">\n",
       "      <th></th>\n",
       "      <th>national_park</th>\n",
       "      <th>state</th>\n",
       "      <th>trail</th>\n",
       "      <th>activity</th>\n",
       "      <th>overall_rating</th>\n",
       "      <th>comment_title</th>\n",
       "      <th>comment_ratings</th>\n",
       "      <th>comment_text</th>\n",
       "      <th>Latitude</th>\n",
       "      <th>Longitude</th>\n",
       "      <th>Area</th>\n",
       "      <th>Visitors (2018)</th>\n",
       "    </tr>\n",
       "  </thead>\n",
       "  <tbody>\n",
       "    <tr>\n",
       "      <th>1154</th>\n",
       "      <td>Everglades National Park</td>\n",
       "      <td>Florida (FL)</td>\n",
       "      <td>Mahogany Hammock</td>\n",
       "      <td>Nature &amp; Wildlife Areas</td>\n",
       "      <td>4.0</td>\n",
       "      <td>Easy short walk suitable for everyone through ...</td>\n",
       "      <td>4.0 of 5 bubbles</td>\n",
       "      <td>Hello</td>\n",
       "      <td>25.32</td>\n",
       "      <td>-80.93</td>\n",
       "      <td>1,508,934.25 acres (6,106.4 km2)</td>\n",
       "      <td>597124</td>\n",
       "    </tr>\n",
       "    <tr>\n",
       "      <th>1096</th>\n",
       "      <td>Everglades National Park</td>\n",
       "      <td>Florida (FL)</td>\n",
       "      <td>Gumbo Limbo Trail</td>\n",
       "      <td>Hiking Trails</td>\n",
       "      <td>3.5</td>\n",
       "      <td>Nice walk next to Anhinga Trail through the tr...</td>\n",
       "      <td>4.0 of 5 bubbles</td>\n",
       "      <td>Hello</td>\n",
       "      <td>25.32</td>\n",
       "      <td>-80.93</td>\n",
       "      <td>1,508,934.25 acres (6,106.4 km2)</td>\n",
       "      <td>597124</td>\n",
       "    </tr>\n",
       "    <tr>\n",
       "      <th>3303</th>\n",
       "      <td>Zion National Park</td>\n",
       "      <td>Utah (UT)</td>\n",
       "      <td>Observation Point</td>\n",
       "      <td>Points of Interest &amp; Landmarks</td>\n",
       "      <td>5.0</td>\n",
       "      <td>Hot but worth it</td>\n",
       "      <td>5.0 of 5 bubbles</td>\n",
       "      <td>*** Observation Point:</td>\n",
       "      <td>37.30</td>\n",
       "      <td>-113.05</td>\n",
       "      <td>147,237.02 acres (595.8 km2)</td>\n",
       "      <td>4320033</td>\n",
       "    </tr>\n",
       "    <tr>\n",
       "      <th>1188</th>\n",
       "      <td>Everglades National Park</td>\n",
       "      <td>Florida (FL)</td>\n",
       "      <td>Anhinga Trail</td>\n",
       "      <td>Hiking Trails</td>\n",
       "      <td>4.5</td>\n",
       "      <td>Beautiful, but over 80% less wildlife than I s...</td>\n",
       "      <td>4.0 of 5 bubbles</td>\n",
       "      <td>***IMPORTANT UPDATE***</td>\n",
       "      <td>25.32</td>\n",
       "      <td>-80.93</td>\n",
       "      <td>1,508,934.25 acres (6,106.4 km2)</td>\n",
       "      <td>597124</td>\n",
       "    </tr>\n",
       "    <tr>\n",
       "      <th>854</th>\n",
       "      <td>Capitol Reef National Park</td>\n",
       "      <td>Utah (UT)</td>\n",
       "      <td>Burr Trail</td>\n",
       "      <td>Off-Road &amp; ATV Trails</td>\n",
       "      <td>5.0</td>\n",
       "      <td>THE BURR TRAIL (UTAH'S HIDDEN BYWAYS I)</td>\n",
       "      <td>5.0 of 5 bubbles</td>\n",
       "      <td>THE BURR TRAIL (UTAH’S HIDDEN BYWAYS I)</td>\n",
       "      <td>38.20</td>\n",
       "      <td>-111.17</td>\n",
       "      <td>241,904.50 acres (979.0 km2)</td>\n",
       "      <td>1227627</td>\n",
       "    </tr>\n",
       "  </tbody>\n",
       "</table>\n",
       "</div>"
      ],
      "text/plain": [
       "                   national_park         state              trail  \\\n",
       "1154    Everglades National Park  Florida (FL)   Mahogany Hammock   \n",
       "1096    Everglades National Park  Florida (FL)  Gumbo Limbo Trail   \n",
       "3303          Zion National Park     Utah (UT)  Observation Point   \n",
       "1188    Everglades National Park  Florida (FL)      Anhinga Trail   \n",
       "854   Capitol Reef National Park     Utah (UT)         Burr Trail   \n",
       "\n",
       "                            activity  overall_rating  \\\n",
       "1154         Nature & Wildlife Areas             4.0   \n",
       "1096                   Hiking Trails             3.5   \n",
       "3303  Points of Interest & Landmarks             5.0   \n",
       "1188                   Hiking Trails             4.5   \n",
       "854            Off-Road & ATV Trails             5.0   \n",
       "\n",
       "                                          comment_title   comment_ratings  \\\n",
       "1154  Easy short walk suitable for everyone through ...  4.0 of 5 bubbles   \n",
       "1096  Nice walk next to Anhinga Trail through the tr...  4.0 of 5 bubbles   \n",
       "3303                                   Hot but worth it  5.0 of 5 bubbles   \n",
       "1188  Beautiful, but over 80% less wildlife than I s...  4.0 of 5 bubbles   \n",
       "854             THE BURR TRAIL (UTAH'S HIDDEN BYWAYS I)  5.0 of 5 bubbles   \n",
       "\n",
       "                                 comment_text  Latitude  Longitude  \\\n",
       "1154                                    Hello     25.32     -80.93   \n",
       "1096                                    Hello     25.32     -80.93   \n",
       "3303                   *** Observation Point:     37.30    -113.05   \n",
       "1188                   ***IMPORTANT UPDATE***     25.32     -80.93   \n",
       "854   THE BURR TRAIL (UTAH’S HIDDEN BYWAYS I)     38.20    -111.17   \n",
       "\n",
       "                                  Area  Visitors (2018)  \n",
       "1154  1,508,934.25 acres (6,106.4 km2)           597124  \n",
       "1096  1,508,934.25 acres (6,106.4 km2)           597124  \n",
       "3303      147,237.02 acres (595.8 km2)          4320033  \n",
       "1188  1,508,934.25 acres (6,106.4 km2)           597124  \n",
       "854       241,904.50 acres (979.0 km2)          1227627  "
      ]
     },
     "execution_count": 58,
     "metadata": {},
     "output_type": "execute_result"
    }
   ],
   "source": [
    "national_parks.iloc[least_similar_comments.values]"
   ]
  },
  {
   "cell_type": "markdown",
   "metadata": {
    "id": "7eHc_7acJV31"
   },
   "source": [
    "# Streamlining the process with functions"
   ]
  },
  {
   "cell_type": "code",
   "execution_count": 59,
   "metadata": {
    "id": "GiUQnhQQHnUW"
   },
   "outputs": [],
   "source": [
    "def comment_similarity(parks_data, comment_index, all_comments):\n",
    "  example_comment = parks_data.loc[comment_index, 'comment_text']\n",
    "  reference_comment = nlp(example_comment) #vectorize our reference sentence\n",
    "  simularity_score = []\n",
    "  row_id = []\n",
    "  for i in range(len(all_comments)):\n",
    "    sim_score = all_comments[i].similarity(reference_comment)\n",
    "    simularity_score.append(sim_score)\n",
    "    row_id.append(i)\n",
    "  simularity_docs = pd.DataFrame(list(zip(row_id, simularity_score)), columns = ['Comment_ID', 'sims'])\n",
    "  simularity_docs_sorted = simularity_docs.sort_values(by = 'sims', ascending = False)\n",
    "  most_similar_comments = simularity_docs_sorted['Comment_ID'][1:6]\n",
    "  new_reviews = national_parks.iloc[most_similar_comments.values]\n",
    "  return(new_reviews)\n"
   ]
  },
  {
   "cell_type": "code",
   "execution_count": 60,
   "metadata": {
    "id": "hgg2XLJXdSr2"
   },
   "outputs": [],
   "source": [
    "all_docs = [nlp(row) for row in national_parks['comment_text']]"
   ]
  },
  {
   "cell_type": "code",
   "execution_count": 61,
   "metadata": {
    "colab": {
     "base_uri": "https://localhost:8080/",
     "height": 310
    },
    "id": "lZLWNUANZDtT",
    "outputId": "dec68012-7054-4006-e304-019b765e6f13"
   },
   "outputs": [
    {
     "data": {
      "text/html": [
       "<div>\n",
       "<style scoped>\n",
       "    .dataframe tbody tr th:only-of-type {\n",
       "        vertical-align: middle;\n",
       "    }\n",
       "\n",
       "    .dataframe tbody tr th {\n",
       "        vertical-align: top;\n",
       "    }\n",
       "\n",
       "    .dataframe thead th {\n",
       "        text-align: right;\n",
       "    }\n",
       "</style>\n",
       "<table border=\"1\" class=\"dataframe\">\n",
       "  <thead>\n",
       "    <tr style=\"text-align: right;\">\n",
       "      <th></th>\n",
       "      <th>national_park</th>\n",
       "      <th>state</th>\n",
       "      <th>trail</th>\n",
       "      <th>activity</th>\n",
       "      <th>overall_rating</th>\n",
       "      <th>comment_title</th>\n",
       "      <th>comment_ratings</th>\n",
       "      <th>comment_text</th>\n",
       "      <th>Latitude</th>\n",
       "      <th>Longitude</th>\n",
       "      <th>Area</th>\n",
       "      <th>Visitors (2018)</th>\n",
       "    </tr>\n",
       "  </thead>\n",
       "  <tbody>\n",
       "    <tr>\n",
       "      <th>1861</th>\n",
       "      <td>Kenai Fjords National Park</td>\n",
       "      <td>Alaska (AK)</td>\n",
       "      <td>Six Mile Creek</td>\n",
       "      <td>Bodies of Water</td>\n",
       "      <td>4.5</td>\n",
       "      <td>White water and then some</td>\n",
       "      <td>4.0 of 5 bubbles</td>\n",
       "      <td>We passed the creek along the Seward Highway a...</td>\n",
       "      <td>59.92</td>\n",
       "      <td>-149.65</td>\n",
       "      <td>669,650.05 acres (2,710.0 km2)</td>\n",
       "      <td>321596</td>\n",
       "    </tr>\n",
       "    <tr>\n",
       "      <th>1344</th>\n",
       "      <td>Glacier National Park</td>\n",
       "      <td>Montana (MT)</td>\n",
       "      <td>Bowman Lake</td>\n",
       "      <td>Bodies of Water</td>\n",
       "      <td>4.5</td>\n",
       "      <td>Can't describe how beautiful it is!</td>\n",
       "      <td>5.0 of 5 bubbles</td>\n",
       "      <td>It is a long and bumpy ride to the lake, but i...</td>\n",
       "      <td>48.80</td>\n",
       "      <td>-114.00</td>\n",
       "      <td>1,013,125.99 acres (4,100.0 km2)</td>\n",
       "      <td>2965309</td>\n",
       "    </tr>\n",
       "    <tr>\n",
       "      <th>690</th>\n",
       "      <td>Canyonlands National Park</td>\n",
       "      <td>Utah (UT)</td>\n",
       "      <td>Shafer Trail</td>\n",
       "      <td>Hiking Trails</td>\n",
       "      <td>4.5</td>\n",
       "      <td>Beautiful drive!</td>\n",
       "      <td>5.0 of 5 bubbles</td>\n",
       "      <td>We took the Shafer trail from Canyonlands all ...</td>\n",
       "      <td>38.20</td>\n",
       "      <td>-109.93</td>\n",
       "      <td>337,597.83 acres (1,366.2 km2)</td>\n",
       "      <td>739449</td>\n",
       "    </tr>\n",
       "    <tr>\n",
       "      <th>2409</th>\n",
       "      <td>Petrified Forest National Park</td>\n",
       "      <td>Arizona (AZ)</td>\n",
       "      <td>Long Logs Loop</td>\n",
       "      <td>Nature &amp; Wildlife Areas</td>\n",
       "      <td>5.0</td>\n",
       "      <td>Once in a lifetime sight</td>\n",
       "      <td>5.0 of 5 bubbles</td>\n",
       "      <td>Seeing the petrified forest and the wood scatt...</td>\n",
       "      <td>35.07</td>\n",
       "      <td>-109.78</td>\n",
       "      <td>221,390.21 acres (895.9 km2)</td>\n",
       "      <td>644922</td>\n",
       "    </tr>\n",
       "    <tr>\n",
       "      <th>1610</th>\n",
       "      <td>Grand Teton National Park</td>\n",
       "      <td>Wyoming (WY)</td>\n",
       "      <td>Taggart Lake</td>\n",
       "      <td>Hiking Trails</td>\n",
       "      <td>5.0</td>\n",
       "      <td>Amazing Experience</td>\n",
       "      <td>5.0 of 5 bubbles</td>\n",
       "      <td>We were only at Grand Teton for one day, but t...</td>\n",
       "      <td>43.73</td>\n",
       "      <td>-110.80</td>\n",
       "      <td>310,044.22 acres (1,254.7 km2)</td>\n",
       "      <td>3491151</td>\n",
       "    </tr>\n",
       "  </tbody>\n",
       "</table>\n",
       "</div>"
      ],
      "text/plain": [
       "                       national_park         state           trail  \\\n",
       "1861      Kenai Fjords National Park   Alaska (AK)  Six Mile Creek   \n",
       "1344           Glacier National Park  Montana (MT)     Bowman Lake   \n",
       "690        Canyonlands National Park     Utah (UT)    Shafer Trail   \n",
       "2409  Petrified Forest National Park  Arizona (AZ)  Long Logs Loop   \n",
       "1610       Grand Teton National Park  Wyoming (WY)    Taggart Lake   \n",
       "\n",
       "                     activity  overall_rating  \\\n",
       "1861          Bodies of Water             4.5   \n",
       "1344          Bodies of Water             4.5   \n",
       "690             Hiking Trails             4.5   \n",
       "2409  Nature & Wildlife Areas             5.0   \n",
       "1610            Hiking Trails             5.0   \n",
       "\n",
       "                            comment_title   comment_ratings  \\\n",
       "1861            White water and then some  4.0 of 5 bubbles   \n",
       "1344  Can't describe how beautiful it is!  5.0 of 5 bubbles   \n",
       "690                      Beautiful drive!  5.0 of 5 bubbles   \n",
       "2409             Once in a lifetime sight  5.0 of 5 bubbles   \n",
       "1610                   Amazing Experience  5.0 of 5 bubbles   \n",
       "\n",
       "                                           comment_text  Latitude  Longitude  \\\n",
       "1861  We passed the creek along the Seward Highway a...     59.92    -149.65   \n",
       "1344  It is a long and bumpy ride to the lake, but i...     48.80    -114.00   \n",
       "690   We took the Shafer trail from Canyonlands all ...     38.20    -109.93   \n",
       "2409  Seeing the petrified forest and the wood scatt...     35.07    -109.78   \n",
       "1610  We were only at Grand Teton for one day, but t...     43.73    -110.80   \n",
       "\n",
       "                                  Area  Visitors (2018)  \n",
       "1861    669,650.05 acres (2,710.0 km2)           321596  \n",
       "1344  1,013,125.99 acres (4,100.0 km2)          2965309  \n",
       "690     337,597.83 acres (1,366.2 km2)           739449  \n",
       "2409      221,390.21 acres (895.9 km2)           644922  \n",
       "1610    310,044.22 acres (1,254.7 km2)          3491151  "
      ]
     },
     "execution_count": 61,
     "metadata": {},
     "output_type": "execute_result"
    }
   ],
   "source": [
    "showcase = comment_similarity(national_parks, 999, all_docs)\n",
    "showcase"
   ]
  },
  {
   "cell_type": "code",
   "execution_count": 62,
   "metadata": {
    "colab": {
     "base_uri": "https://localhost:8080/",
     "height": 53
    },
    "id": "n0SgaaWzbp5m",
    "outputId": "cbfd9a4a-cb44-447d-9620-2280a4789ce3"
   },
   "outputs": [
    {
     "data": {
      "text/plain": [
       "'There are two ways to get out here. One is by boat and the other is by air. The boat ride is long no doubt about it but it is a part of the experience.  We watched the seaplane land and leave and quite frankly wished we had taken that option but the cost is considerably higher than the boat. '"
      ]
     },
     "execution_count": 62,
     "metadata": {},
     "output_type": "execute_result"
    }
   ],
   "source": [
    "example_comment = national_parks.loc[999, 'comment_text']\n",
    "example_comment"
   ]
  },
  {
   "cell_type": "code",
   "execution_count": 63,
   "metadata": {
    "colab": {
     "base_uri": "https://localhost:8080/",
     "height": 53
    },
    "id": "BOgd06fMdjhy",
    "outputId": "b3d76ff3-b8f3-47af-b768-5c331f45a3be"
   },
   "outputs": [
    {
     "data": {
      "text/plain": [
       "'It is a long and bumpy ride to the lake, but it is well worth it.  The view of the lake from the end of the lake by the parking lot is breath taking.  We hiked one of the trails and it was easy and well marked.  Seldom will one be disappointed with a visit.'"
      ]
     },
     "execution_count": 63,
     "metadata": {},
     "output_type": "execute_result"
    }
   ],
   "source": [
    "showcase['comment_text'].iloc[1]"
   ]
  },
  {
   "cell_type": "code",
   "execution_count": 64,
   "metadata": {
    "id": "U4APMUddfI0F"
   },
   "outputs": [],
   "source": [
    "def comment_similarity(parks_data, comment_index, all_comments):\n",
    "  example_comment = parks_data.loc[comment_index, 'comment_text']\n",
    "  reference_comment = nlp(example_comment) #vectorize our reference sentence\n",
    "  simularity_score = []\n",
    "  row_id = []\n",
    "  for i in range(len(all_comments)):\n",
    "    sim_score = all_comments[i].similarity(reference_comment)\n",
    "    simularity_score.append(sim_score)\n",
    "    row_id.append(i)\n",
    "  simularity_docs = pd.DataFrame(list(zip(row_id, simularity_score)), columns = ['Comment_ID', 'sims'])\n",
    "  simularity_docs_sorted = simularity_docs.sort_values(by = 'sims', ascending = False)\n",
    "  most_similar_comments = simularity_docs_sorted['Comment_ID'][1:2]\n",
    "  new_reviews = national_parks.iloc[most_similar_comments.values]\n",
    "  return(new_reviews)"
   ]
  },
  {
   "cell_type": "code",
   "execution_count": 65,
   "metadata": {
    "colab": {
     "base_uri": "https://localhost:8080/",
     "height": 115
    },
    "id": "_wb6rUsBfZtM",
    "outputId": "932c1494-8615-4e4c-9fcc-841343c5954b"
   },
   "outputs": [
    {
     "data": {
      "text/html": [
       "<div>\n",
       "<style scoped>\n",
       "    .dataframe tbody tr th:only-of-type {\n",
       "        vertical-align: middle;\n",
       "    }\n",
       "\n",
       "    .dataframe tbody tr th {\n",
       "        vertical-align: top;\n",
       "    }\n",
       "\n",
       "    .dataframe thead th {\n",
       "        text-align: right;\n",
       "    }\n",
       "</style>\n",
       "<table border=\"1\" class=\"dataframe\">\n",
       "  <thead>\n",
       "    <tr style=\"text-align: right;\">\n",
       "      <th></th>\n",
       "      <th>national_park</th>\n",
       "      <th>state</th>\n",
       "      <th>trail</th>\n",
       "      <th>activity</th>\n",
       "      <th>overall_rating</th>\n",
       "      <th>comment_title</th>\n",
       "      <th>comment_ratings</th>\n",
       "      <th>comment_text</th>\n",
       "      <th>Latitude</th>\n",
       "      <th>Longitude</th>\n",
       "      <th>Area</th>\n",
       "      <th>Visitors (2018)</th>\n",
       "    </tr>\n",
       "  </thead>\n",
       "  <tbody>\n",
       "    <tr>\n",
       "      <th>420</th>\n",
       "      <td>Big Bend National Park</td>\n",
       "      <td>Texas (TX)</td>\n",
       "      <td>Boquillas Canyon</td>\n",
       "      <td>Canyons</td>\n",
       "      <td>4.5</td>\n",
       "      <td>Don’t Miss This End of the Park</td>\n",
       "      <td>5.0 of 5 bubbles</td>\n",
       "      <td>The canyon views are spectacular. The drive in...</td>\n",
       "      <td>29.25</td>\n",
       "      <td>-103.25</td>\n",
       "      <td>801,163.21 acres (3,242.2 km2)</td>\n",
       "      <td>440091</td>\n",
       "    </tr>\n",
       "  </tbody>\n",
       "</table>\n",
       "</div>"
      ],
      "text/plain": [
       "              national_park       state             trail activity  \\\n",
       "420  Big Bend National Park  Texas (TX)  Boquillas Canyon  Canyons   \n",
       "\n",
       "     overall_rating                    comment_title   comment_ratings  \\\n",
       "420             4.5  Don’t Miss This End of the Park  5.0 of 5 bubbles   \n",
       "\n",
       "                                          comment_text  Latitude  Longitude  \\\n",
       "420  The canyon views are spectacular. The drive in...     29.25    -103.25   \n",
       "\n",
       "                               Area  Visitors (2018)  \n",
       "420  801,163.21 acres (3,242.2 km2)           440091  "
      ]
     },
     "execution_count": 65,
     "metadata": {},
     "output_type": "execute_result"
    }
   ],
   "source": [
    "test_case = national_parks.iloc[420:421]\n",
    "test_case"
   ]
  },
  {
   "cell_type": "code",
   "execution_count": 66,
   "metadata": {
    "colab": {
     "base_uri": "https://localhost:8080/",
     "height": 35
    },
    "id": "0Htqhtf_fiT6",
    "outputId": "832a2d7c-2171-46d0-b8d5-f42be398560f"
   },
   "outputs": [
    {
     "data": {
      "text/plain": [
       "'Boquillas Canyon'"
      ]
     },
     "execution_count": 66,
     "metadata": {},
     "output_type": "execute_result"
    }
   ],
   "source": [
    "h = test_case['trail'].values[0]\n",
    "h"
   ]
  },
  {
   "cell_type": "code",
   "execution_count": 67,
   "metadata": {
    "colab": {
     "base_uri": "https://localhost:8080/"
    },
    "id": "j9BmNP5igUTX",
    "outputId": "4646bc85-7a32-4e69-9fe2-f4cb9684726a"
   },
   "outputs": [
    {
     "data": {
      "text/plain": [
       "Index([420, 421, 422, 423, 424, 425, 426, 427, 428, 429], dtype='int64')"
      ]
     },
     "execution_count": 67,
     "metadata": {},
     "output_type": "execute_result"
    }
   ],
   "source": [
    "subscripts = national_parks[national_parks['trail'] == h].index\n",
    "subscripts"
   ]
  },
  {
   "cell_type": "code",
   "execution_count": 68,
   "metadata": {
    "colab": {
     "base_uri": "https://localhost:8080/"
    },
    "id": "YgapzpzagjXk",
    "outputId": "c1c4b44e-9b1b-4a67-a3e9-c0bae216eacb"
   },
   "outputs": [
    {
     "name": "stdout",
     "output_type": "stream",
     "text": [
      "420\n",
      "421\n",
      "422\n",
      "423\n",
      "424\n",
      "425\n",
      "426\n",
      "427\n",
      "428\n",
      "429\n"
     ]
    }
   ],
   "source": [
    "test = []\n",
    "for number in subscripts:\n",
    "  print(number)\n",
    "  test.append(comment_similarity(national_parks, number, all_docs))\n"
   ]
  },
  {
   "cell_type": "code",
   "execution_count": 69,
   "metadata": {
    "colab": {
     "base_uri": "https://localhost:8080/",
     "height": 658
    },
    "id": "oBAK636diFpy",
    "outputId": "f3e33cae-9a06-40b8-b2ee-747e8ada3a8c"
   },
   "outputs": [
    {
     "data": {
      "text/html": [
       "<div>\n",
       "<style scoped>\n",
       "    .dataframe tbody tr th:only-of-type {\n",
       "        vertical-align: middle;\n",
       "    }\n",
       "\n",
       "    .dataframe tbody tr th {\n",
       "        vertical-align: top;\n",
       "    }\n",
       "\n",
       "    .dataframe thead th {\n",
       "        text-align: right;\n",
       "    }\n",
       "</style>\n",
       "<table border=\"1\" class=\"dataframe\">\n",
       "  <thead>\n",
       "    <tr style=\"text-align: right;\">\n",
       "      <th></th>\n",
       "      <th>national_park</th>\n",
       "      <th>state</th>\n",
       "      <th>trail</th>\n",
       "      <th>activity</th>\n",
       "      <th>overall_rating</th>\n",
       "      <th>comment_title</th>\n",
       "      <th>comment_ratings</th>\n",
       "      <th>comment_text</th>\n",
       "      <th>Latitude</th>\n",
       "      <th>Longitude</th>\n",
       "      <th>Area</th>\n",
       "      <th>Visitors (2018)</th>\n",
       "    </tr>\n",
       "  </thead>\n",
       "  <tbody>\n",
       "    <tr>\n",
       "      <th>322</th>\n",
       "      <td>Badlands National Park</td>\n",
       "      <td>South Dakota (SD)</td>\n",
       "      <td>Big Badlands Overlook</td>\n",
       "      <td>Geologic Formations</td>\n",
       "      <td>5.0</td>\n",
       "      <td>Awesome Introduction to the Badlands</td>\n",
       "      <td>5.0 of 5 bubbles</td>\n",
       "      <td>Big Badlands Overlook was our first stop after...</td>\n",
       "      <td>43.75</td>\n",
       "      <td>-102.50</td>\n",
       "      <td>242,755.94 acres (982.4 km2)</td>\n",
       "      <td>1008942</td>\n",
       "    </tr>\n",
       "    <tr>\n",
       "      <th>1042</th>\n",
       "      <td>Channel Islands National Park</td>\n",
       "      <td>California (CA)</td>\n",
       "      <td>Santa Rosa Island</td>\n",
       "      <td>Islands</td>\n",
       "      <td>5.0</td>\n",
       "      <td>Galápagos of California!</td>\n",
       "      <td>5.0 of 5 bubbles</td>\n",
       "      <td>I love the Channel Islands! It is the perfect ...</td>\n",
       "      <td>34.01</td>\n",
       "      <td>-119.42</td>\n",
       "      <td>249,561.00 acres (1,009.9 km2)</td>\n",
       "      <td>366250</td>\n",
       "    </tr>\n",
       "    <tr>\n",
       "      <th>1478</th>\n",
       "      <td>Grand Canyon National Park</td>\n",
       "      <td>Arizona (AZ)</td>\n",
       "      <td>Grandview Point</td>\n",
       "      <td>Lookouts</td>\n",
       "      <td>5.0</td>\n",
       "      <td>Night visit</td>\n",
       "      <td>5.0 of 5 bubbles</td>\n",
       "      <td>We wanted to experience the Grand Canyon durin...</td>\n",
       "      <td>36.06</td>\n",
       "      <td>-112.14</td>\n",
       "      <td>1,201,647.03 acres (4,862.9 km2)</td>\n",
       "      <td>6380495</td>\n",
       "    </tr>\n",
       "    <tr>\n",
       "      <th>2187</th>\n",
       "      <td>North Cascades National Park</td>\n",
       "      <td>Washington (WA)</td>\n",
       "      <td>Maple Pass Loop</td>\n",
       "      <td>Hiking Trails</td>\n",
       "      <td>5.0</td>\n",
       "      <td>Spectacular Hike in North Cascades Mountains</td>\n",
       "      <td>5.0 of 5 bubbles</td>\n",
       "      <td>We were looking for a great day hike in or nea...</td>\n",
       "      <td>48.70</td>\n",
       "      <td>-121.20</td>\n",
       "      <td>504,780.94 acres (2,042.8 km2)</td>\n",
       "      <td>30085</td>\n",
       "    </tr>\n",
       "    <tr>\n",
       "      <th>2461</th>\n",
       "      <td>Petrified Forest National Park</td>\n",
       "      <td>Arizona (AZ)</td>\n",
       "      <td>Rainbow Forest</td>\n",
       "      <td>Forests</td>\n",
       "      <td>4.5</td>\n",
       "      <td>The geography is as interesting as the petrifi...</td>\n",
       "      <td>5.0 of 5 bubbles</td>\n",
       "      <td>Maybe it should have been more apparent to me,...</td>\n",
       "      <td>35.07</td>\n",
       "      <td>-109.78</td>\n",
       "      <td>221,390.21 acres (895.9 km2)</td>\n",
       "      <td>644922</td>\n",
       "    </tr>\n",
       "    <tr>\n",
       "      <th>3169</th>\n",
       "      <td>Mount Rainier National Park</td>\n",
       "      <td>Washington (WA)</td>\n",
       "      <td>Tipsoo Lake Loop</td>\n",
       "      <td>Hiking Trails</td>\n",
       "      <td>4.5</td>\n",
       "      <td>Naches/Tipsoo Lake Loop was the highlight of o...</td>\n",
       "      <td>5.0 of 5 bubbles</td>\n",
       "      <td>This was an absolutely breathtaking hike in th...</td>\n",
       "      <td>46.85</td>\n",
       "      <td>-121.75</td>\n",
       "      <td>236,381.64 acres (956.6 km2)</td>\n",
       "      <td>1518491</td>\n",
       "    </tr>\n",
       "    <tr>\n",
       "      <th>1984</th>\n",
       "      <td>Mammoth Cave National Park</td>\n",
       "      <td>Kentucky (KY)</td>\n",
       "      <td>Cedar Sink Trail</td>\n",
       "      <td>Hiking Trails</td>\n",
       "      <td>4.5</td>\n",
       "      <td>To Fully Appreciate the Caves Hike This Trail</td>\n",
       "      <td>5.0 of 5 bubbles</td>\n",
       "      <td>As it was over 100 hundred degrees for both da...</td>\n",
       "      <td>37.18</td>\n",
       "      <td>-86.10</td>\n",
       "      <td>54,011.91 acres (218.6 km2)</td>\n",
       "      <td>533206</td>\n",
       "    </tr>\n",
       "    <tr>\n",
       "      <th>2688</th>\n",
       "      <td>Shenandoah National Park</td>\n",
       "      <td>Virginia (VA)</td>\n",
       "      <td>Rose River Falls</td>\n",
       "      <td>Waterfalls</td>\n",
       "      <td>4.5</td>\n",
       "      <td>Nice trail but missed the falls</td>\n",
       "      <td>4.0 of 5 bubbles</td>\n",
       "      <td>We took the advice of a ranger and hiked Story...</td>\n",
       "      <td>38.53</td>\n",
       "      <td>-78.35</td>\n",
       "      <td>199,217.77 acres (806.2 km2)</td>\n",
       "      <td>1264880</td>\n",
       "    </tr>\n",
       "    <tr>\n",
       "      <th>191</th>\n",
       "      <td>Arches National Park</td>\n",
       "      <td>Utah (UT)</td>\n",
       "      <td>Landscape Arch</td>\n",
       "      <td>Hiking Trails</td>\n",
       "      <td>4.5</td>\n",
       "      <td>Landscape Arch</td>\n",
       "      <td>5.0 of 5 bubbles</td>\n",
       "      <td>We chose to drive to the back of Arches Nation...</td>\n",
       "      <td>38.68</td>\n",
       "      <td>-109.57</td>\n",
       "      <td>76,678.98 acres (310.3 km2)</td>\n",
       "      <td>1663557</td>\n",
       "    </tr>\n",
       "    <tr>\n",
       "      <th>3293</th>\n",
       "      <td>Zion National Park</td>\n",
       "      <td>Utah (UT)</td>\n",
       "      <td>Kolob Canyons</td>\n",
       "      <td>Canyons</td>\n",
       "      <td>4.5</td>\n",
       "      <td>Kolob Canyon-Taylor Creek Trail</td>\n",
       "      <td>5.0 of 5 bubbles</td>\n",
       "      <td>LOVED Kolob Canyons.  This is the quiet part o...</td>\n",
       "      <td>37.30</td>\n",
       "      <td>-113.05</td>\n",
       "      <td>147,237.02 acres (595.8 km2)</td>\n",
       "      <td>4320033</td>\n",
       "    </tr>\n",
       "  </tbody>\n",
       "</table>\n",
       "</div>"
      ],
      "text/plain": [
       "                       national_park              state  \\\n",
       "322           Badlands National Park  South Dakota (SD)   \n",
       "1042   Channel Islands National Park    California (CA)   \n",
       "1478      Grand Canyon National Park       Arizona (AZ)   \n",
       "2187    North Cascades National Park    Washington (WA)   \n",
       "2461  Petrified Forest National Park       Arizona (AZ)   \n",
       "3169     Mount Rainier National Park    Washington (WA)   \n",
       "1984      Mammoth Cave National Park      Kentucky (KY)   \n",
       "2688        Shenandoah National Park      Virginia (VA)   \n",
       "191             Arches National Park          Utah (UT)   \n",
       "3293              Zion National Park          Utah (UT)   \n",
       "\n",
       "                      trail             activity  overall_rating  \\\n",
       "322   Big Badlands Overlook  Geologic Formations             5.0   \n",
       "1042      Santa Rosa Island              Islands             5.0   \n",
       "1478        Grandview Point             Lookouts             5.0   \n",
       "2187        Maple Pass Loop        Hiking Trails             5.0   \n",
       "2461         Rainbow Forest              Forests             4.5   \n",
       "3169       Tipsoo Lake Loop        Hiking Trails             4.5   \n",
       "1984       Cedar Sink Trail        Hiking Trails             4.5   \n",
       "2688       Rose River Falls           Waterfalls             4.5   \n",
       "191          Landscape Arch        Hiking Trails             4.5   \n",
       "3293          Kolob Canyons              Canyons             4.5   \n",
       "\n",
       "                                          comment_title   comment_ratings  \\\n",
       "322                Awesome Introduction to the Badlands  5.0 of 5 bubbles   \n",
       "1042                           Galápagos of California!  5.0 of 5 bubbles   \n",
       "1478                                        Night visit  5.0 of 5 bubbles   \n",
       "2187       Spectacular Hike in North Cascades Mountains  5.0 of 5 bubbles   \n",
       "2461  The geography is as interesting as the petrifi...  5.0 of 5 bubbles   \n",
       "3169  Naches/Tipsoo Lake Loop was the highlight of o...  5.0 of 5 bubbles   \n",
       "1984      To Fully Appreciate the Caves Hike This Trail  5.0 of 5 bubbles   \n",
       "2688                    Nice trail but missed the falls  4.0 of 5 bubbles   \n",
       "191                                      Landscape Arch  5.0 of 5 bubbles   \n",
       "3293                    Kolob Canyon-Taylor Creek Trail  5.0 of 5 bubbles   \n",
       "\n",
       "                                           comment_text  Latitude  Longitude  \\\n",
       "322   Big Badlands Overlook was our first stop after...     43.75    -102.50   \n",
       "1042  I love the Channel Islands! It is the perfect ...     34.01    -119.42   \n",
       "1478  We wanted to experience the Grand Canyon durin...     36.06    -112.14   \n",
       "2187  We were looking for a great day hike in or nea...     48.70    -121.20   \n",
       "2461  Maybe it should have been more apparent to me,...     35.07    -109.78   \n",
       "3169  This was an absolutely breathtaking hike in th...     46.85    -121.75   \n",
       "1984  As it was over 100 hundred degrees for both da...     37.18     -86.10   \n",
       "2688  We took the advice of a ranger and hiked Story...     38.53     -78.35   \n",
       "191   We chose to drive to the back of Arches Nation...     38.68    -109.57   \n",
       "3293  LOVED Kolob Canyons.  This is the quiet part o...     37.30    -113.05   \n",
       "\n",
       "                                  Area  Visitors (2018)  \n",
       "322       242,755.94 acres (982.4 km2)          1008942  \n",
       "1042    249,561.00 acres (1,009.9 km2)           366250  \n",
       "1478  1,201,647.03 acres (4,862.9 km2)          6380495  \n",
       "2187    504,780.94 acres (2,042.8 km2)            30085  \n",
       "2461      221,390.21 acres (895.9 km2)           644922  \n",
       "3169      236,381.64 acres (956.6 km2)          1518491  \n",
       "1984       54,011.91 acres (218.6 km2)           533206  \n",
       "2688      199,217.77 acres (806.2 km2)          1264880  \n",
       "191        76,678.98 acres (310.3 km2)          1663557  \n",
       "3293      147,237.02 acres (595.8 km2)          4320033  "
      ]
     },
     "execution_count": 69,
     "metadata": {},
     "output_type": "execute_result"
    }
   ],
   "source": [
    "stacked_df = pd.concat(test)\n",
    "stacked_df"
   ]
  },
  {
   "cell_type": "code",
   "execution_count": 70,
   "metadata": {
    "colab": {
     "base_uri": "https://localhost:8080/",
     "height": 70
    },
    "id": "eYi_2fesiw4p",
    "outputId": "70a91b89-da01-4385-b3b5-1a0f8e7ea05d"
   },
   "outputs": [
    {
     "data": {
      "text/plain": [
       "'The canyon views are spectacular. The drive into the trail’s end is just one view after the next as is the whole Big Bend experience. There weren’t many locals out but we did see some rowing on the Rio Grande and a few local wares for sale. We bought a fabulous handcrafted walking stick for a great price.  What a wonderful adventure in the canyon  the views of the Rio Grand are perfect here'"
      ]
     },
     "execution_count": 70,
     "metadata": {},
     "output_type": "execute_result"
    }
   ],
   "source": [
    "national_parks['comment_text'].iloc[420]"
   ]
  },
  {
   "cell_type": "code",
   "execution_count": 71,
   "metadata": {
    "colab": {
     "base_uri": "https://localhost:8080/",
     "height": 53
    },
    "id": "Ikn6PiSdirv1",
    "outputId": "edb1febe-9580-4b31-9c9a-c1dec4e8a589"
   },
   "outputs": [
    {
     "data": {
      "text/plain": [
       "'Big Badlands Overlook was our first stop after entering the park from the northeast. What an awesome introduction to the Badlands! There is a parking lot, and a boardwalk trail leading out onto a peninsular ridge. The views in all directions are spectacular! The layers in the vast array of rock formations is so beautiful. I highly recommend a stop at this overlook.'"
      ]
     },
     "execution_count": 71,
     "metadata": {},
     "output_type": "execute_result"
    }
   ],
   "source": [
    "stacked_df['comment_text'].iloc[0]"
   ]
  },
  {
   "cell_type": "code",
   "execution_count": 72,
   "metadata": {
    "colab": {
     "base_uri": "https://localhost:8080/",
     "height": 87
    },
    "id": "N3PVuBH6jvtU",
    "outputId": "19c1bde9-55f5-4c2f-f79a-de0f30e9b012"
   },
   "outputs": [
    {
     "data": {
      "text/plain": [
       "'I love the Channel Islands! It is the perfect way to escape the craziness going on in the mainland!  The trip out is half the fun. We saw a group of about 100 plus dolphins that chased us for part of the ride, and then we saw a whale off in the distance. The island itself is beautiful! White sand beaches with turquoise waters, and best of all, no one is there! We originally went to see Lobo Canyon, but the timing for the day trip is not long enough (it is nine miles round trip). We had to pivot, and instead walked along a ~2 mile beach strip, which was entrancing. The island is truly special. We were then treated to an unexpected treat on the ferry home, and stopped for a quick photo shoot at the Painted Cave. Truly special day, and I would highly recommend it!'"
      ]
     },
     "execution_count": 72,
     "metadata": {},
     "output_type": "execute_result"
    }
   ],
   "source": [
    "stacked_df['comment_text'].iloc[1]"
   ]
  },
  {
   "cell_type": "code",
   "execution_count": 73,
   "metadata": {
    "id": "QakUKKNxfNRm"
   },
   "outputs": [],
   "source": [
    "def total_similarity(trail, parks_data, all_comments):\n",
    "  trail_subset = parks_data[parks_data['trail'] == trail].index\n",
    "  total_df = []\n",
    "  for number in trail_subset:\n",
    "    total_df.append(comment_similarity(national_parks, number, all_docs))\n",
    "  df = pd.concat(total_df)\n",
    "  return(df)"
   ]
  },
  {
   "cell_type": "code",
   "execution_count": 74,
   "metadata": {
    "colab": {
     "base_uri": "https://localhost:8080/",
     "height": 710
    },
    "id": "P6-te4LBj-O8",
    "outputId": "83dfd09e-b2f8-4798-bffc-1df99d9738f1"
   },
   "outputs": [
    {
     "data": {
      "text/html": [
       "<div>\n",
       "<style scoped>\n",
       "    .dataframe tbody tr th:only-of-type {\n",
       "        vertical-align: middle;\n",
       "    }\n",
       "\n",
       "    .dataframe tbody tr th {\n",
       "        vertical-align: top;\n",
       "    }\n",
       "\n",
       "    .dataframe thead th {\n",
       "        text-align: right;\n",
       "    }\n",
       "</style>\n",
       "<table border=\"1\" class=\"dataframe\">\n",
       "  <thead>\n",
       "    <tr style=\"text-align: right;\">\n",
       "      <th></th>\n",
       "      <th>national_park</th>\n",
       "      <th>state</th>\n",
       "      <th>trail</th>\n",
       "      <th>activity</th>\n",
       "      <th>overall_rating</th>\n",
       "      <th>comment_title</th>\n",
       "      <th>comment_ratings</th>\n",
       "      <th>comment_text</th>\n",
       "      <th>Latitude</th>\n",
       "      <th>Longitude</th>\n",
       "      <th>Area</th>\n",
       "      <th>Visitors (2018)</th>\n",
       "    </tr>\n",
       "  </thead>\n",
       "  <tbody>\n",
       "    <tr>\n",
       "      <th>303</th>\n",
       "      <td>Badlands National Park</td>\n",
       "      <td>South Dakota (SD)</td>\n",
       "      <td>Pinnacles Overlook</td>\n",
       "      <td>Points of Interest &amp; Landmarks</td>\n",
       "      <td>5.0</td>\n",
       "      <td>Must See Pullover</td>\n",
       "      <td>5.0 of 5 bubbles</td>\n",
       "      <td>This is one of a handful of overlooks you have...</td>\n",
       "      <td>43.75</td>\n",
       "      <td>-102.50</td>\n",
       "      <td>242,755.94 acres (982.4 km2)</td>\n",
       "      <td>1008942</td>\n",
       "    </tr>\n",
       "    <tr>\n",
       "      <th>235</th>\n",
       "      <td>Arches National Park</td>\n",
       "      <td>Utah (UT)</td>\n",
       "      <td>Delicate Arch</td>\n",
       "      <td>Points of Interest &amp; Landmarks</td>\n",
       "      <td>5.0</td>\n",
       "      <td>Delicate Arch</td>\n",
       "      <td>5.0 of 5 bubbles</td>\n",
       "      <td>Our family chose to hike to Delicate Arch late...</td>\n",
       "      <td>38.68</td>\n",
       "      <td>-109.57</td>\n",
       "      <td>76,678.98 acres (310.3 km2)</td>\n",
       "      <td>1663557</td>\n",
       "    </tr>\n",
       "    <tr>\n",
       "      <th>863</th>\n",
       "      <td>Capitol Reef National Park</td>\n",
       "      <td>Utah (UT)</td>\n",
       "      <td>Capitol Reef National Park</td>\n",
       "      <td>National Parks</td>\n",
       "      <td>4.5</td>\n",
       "      <td>Add Capitol Reef to Your Utah National Park List</td>\n",
       "      <td>5.0 of 5 bubbles</td>\n",
       "      <td>Just to the northeast of more popular parks Br...</td>\n",
       "      <td>38.20</td>\n",
       "      <td>-111.17</td>\n",
       "      <td>241,904.50 acres (979.0 km2)</td>\n",
       "      <td>1227627</td>\n",
       "    </tr>\n",
       "    <tr>\n",
       "      <th>1310</th>\n",
       "      <td>Death Valley National Park</td>\n",
       "      <td>California (CA)</td>\n",
       "      <td>Zabriskie Point</td>\n",
       "      <td>Geologic Formations</td>\n",
       "      <td>4.5</td>\n",
       "      <td>The Most Iconic Place in Death Valley</td>\n",
       "      <td>4.0 of 5 bubbles</td>\n",
       "      <td>You can't miss it. I don't mean you have to do...</td>\n",
       "      <td>36.24</td>\n",
       "      <td>-116.82</td>\n",
       "      <td>3,373,063.14 acres (13,650.3 km2)</td>\n",
       "      <td>1678660</td>\n",
       "    </tr>\n",
       "    <tr>\n",
       "      <th>1611</th>\n",
       "      <td>Grand Teton National Park</td>\n",
       "      <td>Wyoming (WY)</td>\n",
       "      <td>Taggart Lake</td>\n",
       "      <td>Hiking Trails</td>\n",
       "      <td>5.0</td>\n",
       "      <td>Do this hike if you want to feel like you're a...</td>\n",
       "      <td>5.0 of 5 bubbles</td>\n",
       "      <td>It's not a difficult hike and is right off the...</td>\n",
       "      <td>43.73</td>\n",
       "      <td>-110.80</td>\n",
       "      <td>310,044.22 acres (1,254.7 km2)</td>\n",
       "      <td>3491151</td>\n",
       "    </tr>\n",
       "    <tr>\n",
       "      <th>222</th>\n",
       "      <td>Arches National Park</td>\n",
       "      <td>Utah (UT)</td>\n",
       "      <td>Double Arch</td>\n",
       "      <td>Hiking Trails</td>\n",
       "      <td>5.0</td>\n",
       "      <td>Easy hike</td>\n",
       "      <td>5.0 of 5 bubbles</td>\n",
       "      <td>The Double Arch is unreal. It is massive and b...</td>\n",
       "      <td>38.68</td>\n",
       "      <td>-109.57</td>\n",
       "      <td>76,678.98 acres (310.3 km2)</td>\n",
       "      <td>1663557</td>\n",
       "    </tr>\n",
       "    <tr>\n",
       "      <th>3198</th>\n",
       "      <td>Mount Rainier National Park</td>\n",
       "      <td>Washington (WA)</td>\n",
       "      <td>Sunrise Visitor Center</td>\n",
       "      <td>Visitor Centers</td>\n",
       "      <td>4.5</td>\n",
       "      <td>Amazing views</td>\n",
       "      <td>5.0 of 5 bubbles</td>\n",
       "      <td>Amazing hikes of all varieties. Many travel up...</td>\n",
       "      <td>46.85</td>\n",
       "      <td>-121.75</td>\n",
       "      <td>236,381.64 acres (956.6 km2)</td>\n",
       "      <td>1518491</td>\n",
       "    </tr>\n",
       "    <tr>\n",
       "      <th>1439</th>\n",
       "      <td>Glacier National Park</td>\n",
       "      <td>Montana (MT)</td>\n",
       "      <td>Grinnell Glacier</td>\n",
       "      <td>Hiking Trails</td>\n",
       "      <td>5.0</td>\n",
       "      <td>Incredible vies and the end-point is rewarding</td>\n",
       "      <td>5.0 of 5 bubbles</td>\n",
       "      <td>This 13 mile hike from Many Glacier to upper G...</td>\n",
       "      <td>48.80</td>\n",
       "      <td>-114.00</td>\n",
       "      <td>1,013,125.99 acres (4,100.0 km2)</td>\n",
       "      <td>2965309</td>\n",
       "    </tr>\n",
       "    <tr>\n",
       "      <th>1366</th>\n",
       "      <td>Glacier National Park</td>\n",
       "      <td>Montana (MT)</td>\n",
       "      <td>Virginia Falls</td>\n",
       "      <td>Waterfalls</td>\n",
       "      <td>5.0</td>\n",
       "      <td>Magnificent Falls in Glacier National Park - w...</td>\n",
       "      <td>5.0 of 5 bubbles</td>\n",
       "      <td>This is the second falls on a hike in Glacier ...</td>\n",
       "      <td>48.80</td>\n",
       "      <td>-114.00</td>\n",
       "      <td>1,013,125.99 acres (4,100.0 km2)</td>\n",
       "      <td>2965309</td>\n",
       "    </tr>\n",
       "    <tr>\n",
       "      <th>650</th>\n",
       "      <td>Canyonlands National Park</td>\n",
       "      <td>Utah (UT)</td>\n",
       "      <td>Horseshoe Canyon</td>\n",
       "      <td>Canyons</td>\n",
       "      <td>5.0</td>\n",
       "      <td>WHOA!  READ PLEASE.  Things you NEED to know a...</td>\n",
       "      <td>5.0 of 5 bubbles</td>\n",
       "      <td>There are some older reviews.  Some are VERY M...</td>\n",
       "      <td>38.20</td>\n",
       "      <td>-109.93</td>\n",
       "      <td>337,597.83 acres (1,366.2 km2)</td>\n",
       "      <td>739449</td>\n",
       "    </tr>\n",
       "  </tbody>\n",
       "</table>\n",
       "</div>"
      ],
      "text/plain": [
       "                    national_park              state  \\\n",
       "303        Badlands National Park  South Dakota (SD)   \n",
       "235          Arches National Park          Utah (UT)   \n",
       "863    Capitol Reef National Park          Utah (UT)   \n",
       "1310   Death Valley National Park    California (CA)   \n",
       "1611    Grand Teton National Park       Wyoming (WY)   \n",
       "222          Arches National Park          Utah (UT)   \n",
       "3198  Mount Rainier National Park    Washington (WA)   \n",
       "1439        Glacier National Park       Montana (MT)   \n",
       "1366        Glacier National Park       Montana (MT)   \n",
       "650     Canyonlands National Park          Utah (UT)   \n",
       "\n",
       "                           trail                        activity  \\\n",
       "303           Pinnacles Overlook  Points of Interest & Landmarks   \n",
       "235                Delicate Arch  Points of Interest & Landmarks   \n",
       "863   Capitol Reef National Park                  National Parks   \n",
       "1310             Zabriskie Point             Geologic Formations   \n",
       "1611                Taggart Lake                   Hiking Trails   \n",
       "222                  Double Arch                   Hiking Trails   \n",
       "3198      Sunrise Visitor Center                 Visitor Centers   \n",
       "1439            Grinnell Glacier                   Hiking Trails   \n",
       "1366              Virginia Falls                      Waterfalls   \n",
       "650             Horseshoe Canyon                         Canyons   \n",
       "\n",
       "      overall_rating                                      comment_title  \\\n",
       "303              5.0                                  Must See Pullover   \n",
       "235              5.0                                      Delicate Arch   \n",
       "863              4.5   Add Capitol Reef to Your Utah National Park List   \n",
       "1310             4.5              The Most Iconic Place in Death Valley   \n",
       "1611             5.0  Do this hike if you want to feel like you're a...   \n",
       "222              5.0                                          Easy hike   \n",
       "3198             4.5                                      Amazing views   \n",
       "1439             5.0     Incredible vies and the end-point is rewarding   \n",
       "1366             5.0  Magnificent Falls in Glacier National Park - w...   \n",
       "650              5.0  WHOA!  READ PLEASE.  Things you NEED to know a...   \n",
       "\n",
       "       comment_ratings                                       comment_text  \\\n",
       "303   5.0 of 5 bubbles  This is one of a handful of overlooks you have...   \n",
       "235   5.0 of 5 bubbles  Our family chose to hike to Delicate Arch late...   \n",
       "863   5.0 of 5 bubbles  Just to the northeast of more popular parks Br...   \n",
       "1310  4.0 of 5 bubbles  You can't miss it. I don't mean you have to do...   \n",
       "1611  5.0 of 5 bubbles  It's not a difficult hike and is right off the...   \n",
       "222   5.0 of 5 bubbles  The Double Arch is unreal. It is massive and b...   \n",
       "3198  5.0 of 5 bubbles  Amazing hikes of all varieties. Many travel up...   \n",
       "1439  5.0 of 5 bubbles  This 13 mile hike from Many Glacier to upper G...   \n",
       "1366  5.0 of 5 bubbles  This is the second falls on a hike in Glacier ...   \n",
       "650   5.0 of 5 bubbles  There are some older reviews.  Some are VERY M...   \n",
       "\n",
       "      Latitude  Longitude                               Area  Visitors (2018)  \n",
       "303      43.75    -102.50       242,755.94 acres (982.4 km2)          1008942  \n",
       "235      38.68    -109.57        76,678.98 acres (310.3 km2)          1663557  \n",
       "863      38.20    -111.17       241,904.50 acres (979.0 km2)          1227627  \n",
       "1310     36.24    -116.82  3,373,063.14 acres (13,650.3 km2)          1678660  \n",
       "1611     43.73    -110.80     310,044.22 acres (1,254.7 km2)          3491151  \n",
       "222      38.68    -109.57        76,678.98 acres (310.3 km2)          1663557  \n",
       "3198     46.85    -121.75       236,381.64 acres (956.6 km2)          1518491  \n",
       "1439     48.80    -114.00   1,013,125.99 acres (4,100.0 km2)          2965309  \n",
       "1366     48.80    -114.00   1,013,125.99 acres (4,100.0 km2)          2965309  \n",
       "650      38.20    -109.93     337,597.83 acres (1,366.2 km2)           739449  "
      ]
     },
     "execution_count": 74,
     "metadata": {},
     "output_type": "execute_result"
    }
   ],
   "source": [
    "output = total_similarity(\"Landscape Arch\", national_parks, all_docs)\n",
    "output"
   ]
  },
  {
   "cell_type": "markdown",
   "metadata": {
    "id": "JfkGQ1JgmW5c"
   },
   "source": [
    "# Plotly Functions"
   ]
  },
  {
   "cell_type": "code",
   "execution_count": 75,
   "metadata": {
    "id": "DeAZWaRGlHjn"
   },
   "outputs": [],
   "source": [
    "from plotly import express as px\n",
    "import plotly.io as pio\n",
    "import inspect\n",
    "pio.renderers.default=\"iframe\""
   ]
  },
  {
   "cell_type": "code",
   "execution_count": 76,
   "metadata": {
    "id": "NtKL7ERGmhTo"
   },
   "outputs": [],
   "source": [
    "def plotting_parks(trail, parks_data, all_comments, **kwargs):\n",
    "  output = total_similarity(trail, parks_data, all_comments)\n",
    "  fig = px.scatter_mapbox(output, lon = \"Longitude\", lat = \"Latitude\", color = \"overall_rating\",\n",
    "                        color_continuous_midpoint = 2.5, hover_name = \"national_park\", height = 600,\n",
    "                        hover_data = [\"Visitors (2018)\", \"activity\", \"trail\", \"overall_rating\"],\n",
    "                        title = \"Recommended National Park Trails\",\n",
    "                        size_max=50,\n",
    "                        **kwargs,\n",
    "                        )\n",
    "  return fig"
   ]
  },
  {
   "cell_type": "code",
   "execution_count": 77,
   "metadata": {
    "id": "NBEgvJ_xno3R"
   },
   "outputs": [],
   "source": [
    "color_map = px.colors.diverging.RdGy_r # produce a color map\n",
    "fig = plotting_parks(\"Landscape Arch\", national_parks, all_docs, mapbox_style=\"carto-positron\",\n",
    "                                   color_continuous_scale = color_map)\n"
   ]
  },
  {
   "cell_type": "code",
   "execution_count": 78,
   "metadata": {
    "colab": {
     "base_uri": "https://localhost:8080/",
     "height": 641
    },
    "id": "RUEt5B-vntoR",
    "outputId": "09e4b80e-f7f3-46a8-ed9b-721ba3f3cf23"
   },
   "outputs": [
    {
     "data": {
      "text/html": [
       "<iframe\n",
       "    scrolling=\"no\"\n",
       "    width=\"100%\"\n",
       "    height=\"620\"\n",
       "    src=\"iframe_figures/figure_78.html\"\n",
       "    frameborder=\"0\"\n",
       "    allowfullscreen\n",
       "></iframe>\n"
      ]
     },
     "metadata": {},
     "output_type": "display_data"
    }
   ],
   "source": [
    "fig.show()"
   ]
  }
 ],
 "metadata": {
  "accelerator": "GPU",
  "colab": {
   "gpuType": "T4",
   "provenance": []
  },
  "kernelspec": {
   "display_name": "Python 3 (ipykernel)",
   "language": "python",
   "name": "python3"
  },
  "language_info": {
   "codemirror_mode": {
    "name": "ipython",
    "version": 3
   },
   "file_extension": ".py",
   "mimetype": "text/x-python",
   "name": "python",
   "nbconvert_exporter": "python",
   "pygments_lexer": "ipython3",
   "version": "3.11.6"
  }
 },
 "nbformat": 4,
 "nbformat_minor": 1
}
